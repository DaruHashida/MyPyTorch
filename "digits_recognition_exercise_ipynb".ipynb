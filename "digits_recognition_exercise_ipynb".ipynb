{
  "nbformat": 4,
  "nbformat_minor": 0,
  "metadata": {
    "colab": {
      "provenance": [],
      "gpuType": "T4",
      "authorship_tag": "ABX9TyN07lYb5Qvjw0LZdOgwfLuI",
      "include_colab_link": true
    },
    "kernelspec": {
      "name": "python3",
      "display_name": "Python 3"
    },
    "language_info": {
      "name": "python"
    },
    "accelerator": "GPU"
  },
  "cells": [
    {
      "cell_type": "markdown",
      "metadata": {
        "id": "view-in-github",
        "colab_type": "text"
      },
      "source": [
        "<a href=\"https://colab.research.google.com/github/DaruHashida/MyPyTorch/blob/main/%22digits_recognition_exercise_ipynb%22.ipynb\" target=\"_parent\"><img src=\"https://colab.research.google.com/assets/colab-badge.svg\" alt=\"Open In Colab\"/></a>"
      ]
    },
    {
      "cell_type": "code",
      "execution_count": 1,
      "metadata": {
        "id": "jprUm7hx4FRG",
        "colab": {
          "base_uri": "https://localhost:8080/",
          "height": 447
        },
        "outputId": "9b569d71-b65c-4a48-a5d1-56d6c9e82a2a"
      },
      "outputs": [
        {
          "output_type": "execute_result",
          "data": {
            "text/plain": [
              "<matplotlib.image.AxesImage at 0x7cd34edd8400>"
            ]
          },
          "metadata": {},
          "execution_count": 1
        },
        {
          "output_type": "display_data",
          "data": {
            "text/plain": [
              "<Figure size 640x480 with 1 Axes>"
            ],
            "image/png": "[encoded data removed]"
          },
          "metadata": {}
        }
      ],
      "source": [
        "import torch\n",
        "from torch import nn\n",
        "import matplotlib.pyplot as plt\n",
        "\n",
        "# Device agnostic code\n",
        "\n",
        "device = \"cuda\" if torch.cuda.is_available() else \"cpu\"\n",
        "\n",
        "##LET'S CREATE A DATASET\n",
        "from pathlib import Path\n",
        "import requests\n",
        "\n",
        "DATA_PATH = Path(\"data\")\n",
        "PATH = DATA_PATH / \"mnist\"\n",
        "\n",
        "PATH.mkdir(parents=True, exist_ok = True)\n",
        "\n",
        "URL = \"https://github.com/pytorch/tutorials/raw/main/_static/\"\n",
        "FILENAME = \"mnist.pkl.gz\"\n",
        "\n",
        "if not (PATH/FILENAME).exists():\n",
        "  content = requests.get(URL + FILENAME).content\n",
        "  (PATH/FILENAME).open(\"wb\").write(content)\n",
        "\n",
        "import pickle\n",
        "import gzip\n",
        "with gzip.open((PATH/FILENAME).as_posix(),\"rb\") as f:\n",
        "  ((X_train, y_train),(X_test, y_test), _ )= pickle.load(f, encoding=\"latin-1\")\n",
        "\n",
        "import matplotlib.pyplot as plt\n",
        "import numpy as np\n",
        "plt.imshow(X_train[116].reshape((28,28)),cmap=\"gray\")"
      ]
    },
    {
      "cell_type": "code",
      "source": [
        "X_train, y_train, X_test, y_test = map (torch.tensor, (X_train, y_train, X_test, y_test))"
      ],
      "metadata": {
        "id": "dl3njxx8Mgih"
      },
      "execution_count": 2,
      "outputs": []
    },
    {
      "cell_type": "code",
      "source": [
        "#Let's build the model\n",
        "\n",
        "class PicturesRecognitionModel(nn.Module):\n",
        "  def __init__(self):\n",
        "    super().__init__()\n",
        "    self.weights = nn.Parameter(torch.randn(784, 10,\n",
        "                                            requires_grad=True,\n",
        "                                            dtype=torch.float))\n",
        "    self.bias = nn.Parameter(torch.zeros(10,\n",
        "                                            requires_grad=True,\n",
        "                                            dtype=torch.float))\n",
        "  def forward(self,xb: torch.Tensor) -> torch.Tensor:\n",
        "    return xb @ self.weights + self.bias"
      ],
      "metadata": {
        "id": "kUkVdwu-06zh"
      },
      "execution_count": 3,
      "outputs": []
    },
    {
      "cell_type": "code",
      "source": [
        "model = PicturesRecognitionModel()\n",
        "model.to(device)\n",
        "model.state_dict()"
      ],
      "metadata": {
        "colab": {
          "base_uri": "https://localhost:8080/"
        },
        "id": "BGyQEXWs7Hw4",
        "outputId": "09e0fdf8-b199-42ba-8ca5-11bd1c87621b"
      },
      "execution_count": 4,
      "outputs": [
        {
          "output_type": "execute_result",
          "data": {
            "text/plain": [
              "OrderedDict([('weights',\n",
              "              tensor([[-0.7563, -0.9907, -0.6685,  ..., -0.3569,  0.4159,  1.6169],\n",
              "                      [ 1.7867, -1.1032, -0.1034,  ...,  0.0531,  1.7041,  0.8573],\n",
              "                      [-2.0896, -0.6570,  0.0371,  ...,  1.1049,  0.2394,  0.1565],\n",
              "                      ...,\n",
              "                      [ 0.8243, -0.7129,  0.5099,  ..., -1.4638, -1.1888,  0.1993],\n",
              "                      [ 0.1917, -0.7956,  0.0989,  ..., -0.3795,  0.8491,  0.9494],\n",
              "                      [ 0.6942, -0.0952,  0.2848,  ...,  1.1350,  1.1750,  0.0754]],\n",
              "                     device='cuda:0')),\n",
              "             ('bias',\n",
              "              tensor([0., 0., 0., 0., 0., 0., 0., 0., 0., 0.], device='cuda:0'))])"
            ]
          },
          "metadata": {},
          "execution_count": 4
        }
      ]
    },
    {
      "cell_type": "code",
      "source": [
        "#Create loss function\n",
        "##loss_fn = nn.NLLLoss()\n",
        "# def nll(input, target):\n",
        "#     return -input[range(target.shape[0]), target].mean()\n",
        "#loss_fn = nll\n",
        "import torch.nn.functional as F\n",
        "loss_fn = F.cross_entropy\n",
        "optimizer = torch.optim.SGD(params=model.parameters(),\n",
        "                            lr=0.5)"
      ],
      "metadata": {
        "id": "IKLE7MOz7OrL"
      },
      "execution_count": 5,
      "outputs": []
    },
    {
      "cell_type": "code",
      "source": [
        "#Saving images count to variable\n",
        "n = X_train.shape[0]\n",
        "#Saving batch size to variable\n",
        "batch = 64\n",
        "X_test.shape"
      ],
      "metadata": {
        "colab": {
          "base_uri": "https://localhost:8080/"
        },
        "id": "trKlujaORaoc",
        "outputId": "37a59f6c-b529-4bfb-cbfd-48ff6e4c85c0"
      },
      "execution_count": 6,
      "outputs": [
        {
          "output_type": "execute_result",
          "data": {
            "text/plain": [
              "torch.Size([10000, 784])"
            ]
          },
          "metadata": {},
          "execution_count": 6
        }
      ]
    },
    {
      "cell_type": "code",
      "source": [
        "def accuracy(out, yb):\n",
        "    preds = torch.argmax(out, dim=1)\n",
        "    return (preds == yb).float().mean()"
      ],
      "metadata": {
        "id": "uNTvv008f3eO"
      },
      "execution_count": 7,
      "outputs": []
    },
    {
      "cell_type": "code",
      "source": [
        "epochs = 1000\n",
        "#Removing data on device\n",
        "X_train = X_train.to(device)\n",
        "X_test = X_test.to(device)\n",
        "y_train = y_train.to(device)\n",
        "y_test = y_test.to(device)\n",
        "#Training loop\n",
        "\n",
        "for epoch in range(epochs):\n",
        "  for i in range((n - 1)// batch + 1):\n",
        "    model.train()\n",
        "    start_i = i*batch\n",
        "    end_i = start_i+batch\n",
        "    Xb = X_train[start_i:end_i]\n",
        "    yb = y_train[start_i:end_i]\n",
        "\n",
        "    y_pred = model(Xb)\n",
        "    loss = loss_fn(y_pred, yb)\n",
        "    optimizer.zero_grad()\n",
        "    loss.backward()\n",
        "    optimizer.step()\n",
        "\n",
        "    #Testing loop\n",
        "\n",
        "    model.eval()\n",
        "    with torch.inference_mode():\n",
        "      start_i_test = start_i//5\n",
        "      end_i_test = end_i//5\n",
        "      Xb_test = X_test[start_i_test: end_i_test]\n",
        "      yb_test = y_test[start_i_test: end_i_test]\n",
        "      test_pred = model(Xb_test)\n",
        "      test_accuracy = accuracy(test_pred,yb_test)\n",
        "      main_accuracy = accuracy(y_pred,yb)\n",
        "      loss_value = loss_fn(y_pred,yb)\n",
        "  if epoch % 10 == 0:\n",
        "    print(f\"Epoch:{epoch}| Loss: {loss_value} | Test_accuracy:{test_accuracy} | Accuracy: {main_accuracy}\")"
      ],
      "metadata": {
        "colab": {
          "base_uri": "https://localhost:8080/",
          "height": 1000
        },
        "id": "bU8AwOkn9zwz",
        "outputId": "d610d75d-0979-4bf0-d27f-f2f3f40ff59d"
      },
      "execution_count": 16,
      "outputs": [
        {
          "output_type": "stream",
          "name": "stdout",
          "text": [
            "Epoch:0| Loss: 0.08495796471834183 | Test_accuracy:1.0 | Accuracy: 1.0\n",
            "Epoch:10| Loss: 0.08430378884077072 | Test_accuracy:1.0 | Accuracy: 1.0\n",
            "Epoch:20| Loss: 0.08366727828979492 | Test_accuracy:1.0 | Accuracy: 1.0\n",
            "Epoch:30| Loss: 0.08304713666439056 | Test_accuracy:1.0 | Accuracy: 1.0\n",
            "Epoch:40| Loss: 0.08244295418262482 | Test_accuracy:1.0 | Accuracy: 1.0\n",
            "Epoch:50| Loss: 0.08185555785894394 | Test_accuracy:1.0 | Accuracy: 1.0\n",
            "Epoch:60| Loss: 0.08128618448972702 | Test_accuracy:1.0 | Accuracy: 1.0\n",
            "Epoch:70| Loss: 0.0807354599237442 | Test_accuracy:1.0 | Accuracy: 1.0\n",
            "Epoch:80| Loss: 0.08020360767841339 | Test_accuracy:1.0 | Accuracy: 1.0\n",
            "Epoch:90| Loss: 0.0796915590763092 | Test_accuracy:1.0 | Accuracy: 1.0\n",
            "Epoch:100| Loss: 0.0791986733675003 | Test_accuracy:1.0 | Accuracy: 1.0\n",
            "Epoch:110| Loss: 0.07872466742992401 | Test_accuracy:1.0 | Accuracy: 1.0\n",
            "Epoch:120| Loss: 0.07826978713274002 | Test_accuracy:1.0 | Accuracy: 1.0\n",
            "Epoch:130| Loss: 0.07783272862434387 | Test_accuracy:1.0 | Accuracy: 1.0\n",
            "Epoch:140| Loss: 0.07741333544254303 | Test_accuracy:1.0 | Accuracy: 1.0\n",
            "Epoch:150| Loss: 0.07701101899147034 | Test_accuracy:1.0 | Accuracy: 1.0\n",
            "Epoch:160| Loss: 0.0766245499253273 | Test_accuracy:1.0 | Accuracy: 1.0\n",
            "Epoch:170| Loss: 0.07625360041856766 | Test_accuracy:1.0 | Accuracy: 1.0\n",
            "Epoch:180| Loss: 0.07589758932590485 | Test_accuracy:1.0 | Accuracy: 1.0\n",
            "Epoch:190| Loss: 0.07555586844682693 | Test_accuracy:1.0 | Accuracy: 1.0\n",
            "Epoch:200| Loss: 0.07522737979888916 | Test_accuracy:1.0 | Accuracy: 1.0\n",
            "Epoch:210| Loss: 0.07491160184144974 | Test_accuracy:1.0 | Accuracy: 1.0\n",
            "Epoch:220| Loss: 0.07460785657167435 | Test_accuracy:1.0 | Accuracy: 1.0\n",
            "Epoch:230| Loss: 0.0743153765797615 | Test_accuracy:1.0 | Accuracy: 1.0\n",
            "Epoch:240| Loss: 0.07403361052274704 | Test_accuracy:1.0 | Accuracy: 1.0\n",
            "Epoch:250| Loss: 0.07376214116811752 | Test_accuracy:1.0 | Accuracy: 1.0\n",
            "Epoch:260| Loss: 0.07350033521652222 | Test_accuracy:1.0 | Accuracy: 1.0\n",
            "Epoch:270| Loss: 0.07324796169996262 | Test_accuracy:1.0 | Accuracy: 1.0\n",
            "Epoch:280| Loss: 0.07300393283367157 | Test_accuracy:1.0 | Accuracy: 1.0\n",
            "Epoch:290| Loss: 0.07276854664087296 | Test_accuracy:1.0 | Accuracy: 1.0\n",
            "Epoch:300| Loss: 0.07254067808389664 | Test_accuracy:1.0 | Accuracy: 1.0\n",
            "Epoch:310| Loss: 0.07232031226158142 | Test_accuracy:1.0 | Accuracy: 1.0\n",
            "Epoch:320| Loss: 0.07210681587457657 | Test_accuracy:1.0 | Accuracy: 1.0\n",
            "Epoch:330| Loss: 0.07189980894327164 | Test_accuracy:1.0 | Accuracy: 1.0\n",
            "Epoch:340| Loss: 0.0716993436217308 | Test_accuracy:1.0 | Accuracy: 1.0\n",
            "Epoch:350| Loss: 0.07150496542453766 | Test_accuracy:1.0 | Accuracy: 1.0\n",
            "Epoch:360| Loss: 0.07131600379943848 | Test_accuracy:1.0 | Accuracy: 1.0\n",
            "Epoch:370| Loss: 0.07113262265920639 | Test_accuracy:1.0 | Accuracy: 1.0\n",
            "Epoch:380| Loss: 0.07095427811145782 | Test_accuracy:1.0 | Accuracy: 1.0\n",
            "Epoch:390| Loss: 0.07078085839748383 | Test_accuracy:1.0 | Accuracy: 1.0\n",
            "Epoch:400| Loss: 0.07061198353767395 | Test_accuracy:1.0 | Accuracy: 1.0\n",
            "Epoch:410| Loss: 0.07044773548841476 | Test_accuracy:1.0 | Accuracy: 1.0\n",
            "Epoch:420| Loss: 0.07028751075267792 | Test_accuracy:1.0 | Accuracy: 1.0\n",
            "Epoch:430| Loss: 0.07013153284788132 | Test_accuracy:1.0 | Accuracy: 1.0\n",
            "Epoch:440| Loss: 0.0699794739484787 | Test_accuracy:1.0 | Accuracy: 1.0\n",
            "Epoch:450| Loss: 0.06983111053705215 | Test_accuracy:1.0 | Accuracy: 1.0\n",
            "Epoch:460| Loss: 0.06968605518341064 | Test_accuracy:1.0 | Accuracy: 1.0\n",
            "Epoch:470| Loss: 0.06954451650381088 | Test_accuracy:1.0 | Accuracy: 1.0\n",
            "Epoch:480| Loss: 0.06940612196922302 | Test_accuracy:1.0 | Accuracy: 1.0\n",
            "Epoch:490| Loss: 0.06927099078893661 | Test_accuracy:1.0 | Accuracy: 1.0\n",
            "Epoch:500| Loss: 0.0691383108496666 | Test_accuracy:1.0 | Accuracy: 1.0\n",
            "Epoch:510| Loss: 0.0690089538693428 | Test_accuracy:1.0 | Accuracy: 1.0\n",
            "Epoch:520| Loss: 0.06888246536254883 | Test_accuracy:1.0 | Accuracy: 1.0\n",
            "Epoch:530| Loss: 0.06875840574502945 | Test_accuracy:1.0 | Accuracy: 1.0\n",
            "Epoch:540| Loss: 0.06863677501678467 | Test_accuracy:1.0 | Accuracy: 1.0\n",
            "Epoch:550| Loss: 0.06851742416620255 | Test_accuracy:1.0 | Accuracy: 1.0\n",
            "Epoch:560| Loss: 0.06840058416128159 | Test_accuracy:1.0 | Accuracy: 1.0\n",
            "Epoch:570| Loss: 0.06828576326370239 | Test_accuracy:1.0 | Accuracy: 1.0\n",
            "Epoch:580| Loss: 0.0681731179356575 | Test_accuracy:1.0 | Accuracy: 1.0\n",
            "Epoch:590| Loss: 0.06806273758411407 | Test_accuracy:1.0 | Accuracy: 1.0\n",
            "Epoch:600| Loss: 0.0679541826248169 | Test_accuracy:1.0 | Accuracy: 1.0\n",
            "Epoch:610| Loss: 0.06784764677286148 | Test_accuracy:1.0 | Accuracy: 1.0\n",
            "Epoch:620| Loss: 0.06774292886257172 | Test_accuracy:1.0 | Accuracy: 1.0\n",
            "Epoch:630| Loss: 0.06763985008001328 | Test_accuracy:1.0 | Accuracy: 1.0\n",
            "Epoch:640| Loss: 0.06753852218389511 | Test_accuracy:1.0 | Accuracy: 1.0\n",
            "Epoch:650| Loss: 0.06743873655796051 | Test_accuracy:1.0 | Accuracy: 1.0\n",
            "Epoch:660| Loss: 0.06734084337949753 | Test_accuracy:1.0 | Accuracy: 1.0\n",
            "Epoch:670| Loss: 0.06724400818347931 | Test_accuracy:1.0 | Accuracy: 1.0\n",
            "Epoch:680| Loss: 0.06714855134487152 | Test_accuracy:1.0 | Accuracy: 1.0\n",
            "Epoch:690| Loss: 0.06705507636070251 | Test_accuracy:1.0 | Accuracy: 1.0\n"
          ]
        },
        {
          "output_type": "error",
          "ename": "KeyboardInterrupt",
          "evalue": "ignored",
          "traceback": [
            "\u001b[0;31m---------------------------------------------------------------------------\u001b[0m",
            "\u001b[0;31mKeyboardInterrupt\u001b[0m                         Traceback (most recent call last)",
            "\u001b[0;32m<ipython-input-16-f48e51081ea6>\u001b[0m in \u001b[0;36m<cell line: 9>\u001b[0;34m()\u001b[0m\n\u001b[1;32m     18\u001b[0m     \u001b[0mloss\u001b[0m \u001b[0;34m=\u001b[0m \u001b[0mloss_fn\u001b[0m\u001b[0;34m(\u001b[0m\u001b[0my_pred\u001b[0m\u001b[0;34m,\u001b[0m \u001b[0myb\u001b[0m\u001b[0;34m)\u001b[0m\u001b[0;34m\u001b[0m\u001b[0;34m\u001b[0m\u001b[0m\n\u001b[1;32m     19\u001b[0m     \u001b[0moptimizer\u001b[0m\u001b[0;34m.\u001b[0m\u001b[0mzero_grad\u001b[0m\u001b[0;34m(\u001b[0m\u001b[0;34m)\u001b[0m\u001b[0;34m\u001b[0m\u001b[0;34m\u001b[0m\u001b[0m\n\u001b[0;32m---> 20\u001b[0;31m     \u001b[0mloss\u001b[0m\u001b[0;34m.\u001b[0m\u001b[0mbackward\u001b[0m\u001b[0;34m(\u001b[0m\u001b[0;34m)\u001b[0m\u001b[0;34m\u001b[0m\u001b[0;34m\u001b[0m\u001b[0m\n\u001b[0m\u001b[1;32m     21\u001b[0m     \u001b[0moptimizer\u001b[0m\u001b[0;34m.\u001b[0m\u001b[0mstep\u001b[0m\u001b[0;34m(\u001b[0m\u001b[0;34m)\u001b[0m\u001b[0;34m\u001b[0m\u001b[0;34m\u001b[0m\u001b[0m\n\u001b[1;32m     22\u001b[0m \u001b[0;34m\u001b[0m\u001b[0m\n",
            "\u001b[0;32m/usr/local/lib/python3.10/dist-packages/torch/_tensor.py\u001b[0m in \u001b[0;36mbackward\u001b[0;34m(self, gradient, retain_graph, create_graph, inputs)\u001b[0m\n\u001b[1;32m    485\u001b[0m                 \u001b[0minputs\u001b[0m\u001b[0;34m=\u001b[0m\u001b[0minputs\u001b[0m\u001b[0;34m,\u001b[0m\u001b[0;34m\u001b[0m\u001b[0;34m\u001b[0m\u001b[0m\n\u001b[1;32m    486\u001b[0m             )\n\u001b[0;32m--> 487\u001b[0;31m         torch.autograd.backward(\n\u001b[0m\u001b[1;32m    488\u001b[0m             \u001b[0mself\u001b[0m\u001b[0;34m,\u001b[0m \u001b[0mgradient\u001b[0m\u001b[0;34m,\u001b[0m \u001b[0mretain_graph\u001b[0m\u001b[0;34m,\u001b[0m \u001b[0mcreate_graph\u001b[0m\u001b[0;34m,\u001b[0m \u001b[0minputs\u001b[0m\u001b[0;34m=\u001b[0m\u001b[0minputs\u001b[0m\u001b[0;34m\u001b[0m\u001b[0;34m\u001b[0m\u001b[0m\n\u001b[1;32m    489\u001b[0m         )\n",
            "\u001b[0;32m/usr/local/lib/python3.10/dist-packages/torch/autograd/__init__.py\u001b[0m in \u001b[0;36mbackward\u001b[0;34m(tensors, grad_tensors, retain_graph, create_graph, grad_variables, inputs)\u001b[0m\n\u001b[1;32m    198\u001b[0m     \u001b[0;31m# some Python versions print out the first line of a multi-line function\u001b[0m\u001b[0;34m\u001b[0m\u001b[0;34m\u001b[0m\u001b[0m\n\u001b[1;32m    199\u001b[0m     \u001b[0;31m# calls in the traceback and some print out the last line\u001b[0m\u001b[0;34m\u001b[0m\u001b[0;34m\u001b[0m\u001b[0m\n\u001b[0;32m--> 200\u001b[0;31m     Variable._execution_engine.run_backward(  # Calls into the C++ engine to run the backward pass\n\u001b[0m\u001b[1;32m    201\u001b[0m         \u001b[0mtensors\u001b[0m\u001b[0;34m,\u001b[0m \u001b[0mgrad_tensors_\u001b[0m\u001b[0;34m,\u001b[0m \u001b[0mretain_graph\u001b[0m\u001b[0;34m,\u001b[0m \u001b[0mcreate_graph\u001b[0m\u001b[0;34m,\u001b[0m \u001b[0minputs\u001b[0m\u001b[0;34m,\u001b[0m\u001b[0;34m\u001b[0m\u001b[0;34m\u001b[0m\u001b[0m\n\u001b[1;32m    202\u001b[0m         allow_unreachable=True, accumulate_grad=True)  # Calls into the C++ engine to run the backward pass\n",
            "\u001b[0;31mKeyboardInterrupt\u001b[0m: "
          ]
        }
      ]
    },
    {
      "cell_type": "code",
      "source": [
        "with torch.inference_mode():\n",
        "  y_preds = model(X_test)"
      ],
      "metadata": {
        "id": "RIbqDtqxAXiH"
      },
      "execution_count": 9,
      "outputs": []
    },
    {
      "cell_type": "code",
      "source": [
        "xb = X_train[:batch]\n",
        "yb = y_train[:batch]\n",
        "loss_fn(model(xb), yb)"
      ],
      "metadata": {
        "colab": {
          "base_uri": "https://localhost:8080/"
        },
        "id": "cNyNWtwMisHp",
        "outputId": "d0a69a5a-38f1-4e3a-e978-d4ad5943cdcc"
      },
      "execution_count": 10,
      "outputs": [
        {
          "output_type": "execute_result",
          "data": {
            "text/plain": [
              "tensor(0.1321, device='cuda:0', grad_fn=<NllLossBackward0>)"
            ]
          },
          "metadata": {},
          "execution_count": 10
        }
      ]
    },
    {
      "cell_type": "code",
      "source": [
        "from pathlib import Path\n",
        "\n",
        "MODEL_PATH = Path(\"models\")\n",
        "MODEL_PATH.mkdir(parents=True, exist_ok = True)\n",
        "\n",
        "MODEL_NAME = \"01_pytorch_homework.pth\"\n",
        "MODEL_SAVE_PATH = MODEL_PATH / MODEL_NAME\n",
        "\n",
        "MODEL_SAVE_PATH"
      ],
      "metadata": {
        "colab": {
          "base_uri": "https://localhost:8080/"
        },
        "id": "2XiVtsG1p4LX",
        "outputId": "ee518f99-ba80-4862-a282-36d5429d577e"
      },
      "execution_count": 11,
      "outputs": [
        {
          "output_type": "execute_result",
          "data": {
            "text/plain": [
              "PosixPath('models/01_pytorch_homework.pth')"
            ]
          },
          "metadata": {},
          "execution_count": 11
        }
      ]
    },
    {
      "cell_type": "code",
      "source": [
        "torch.save(f=MODEL_SAVE_PATH, obj = model.state_dict())"
      ],
      "metadata": {
        "id": "PzAEjiSDqCzL"
      },
      "execution_count": 12,
      "outputs": []
    },
    {
      "cell_type": "code",
      "source": [
        "from scipy.ndimage import center_of_mass\n",
        "import math\n",
        "import cv2\n",
        "import numpy as np\n",
        "\n",
        "def getBestShift(img):\n",
        "    cy,cx = center_of_mass(img)\n",
        "\n",
        "    rows,cols = img.shape\n",
        "    shiftx = np.round(cols/2.0-cx).astype(int)\n",
        "    shifty = np.round(rows/2.0-cy).astype(int)\n",
        "\n",
        "    return shiftx,shifty\n",
        "\n",
        "def shift(img,sx,sy):\n",
        "    rows,cols = img.shape\n",
        "    M = np.float32([[1,0,sx],[0,1,sy]])\n",
        "    shifted = cv2.warpAffine(img,M,(cols,rows))\n",
        "    return shifted\n",
        "\n",
        "def rec_digit(img_path):\n",
        "  img = cv2.imread(img_path, cv2.IMREAD_GRAYSCALE)\n",
        "  gray = 255-img\n",
        "  # применяем пороговую обработку\n",
        "  (thresh, gray) = cv2.threshold(gray, 128, 255, cv2.THRESH_BINARY | cv2.THRESH_OTSU)\n",
        "\n",
        "  # удаляем нулевые строки и столбцы\n",
        "  while np.sum(gray[0]) == 0:\n",
        "    gray = gray[1:]\n",
        "  while np.sum(gray[:,0]) == 0:\n",
        "    gray = np.delete(gray,0,1)\n",
        "  while np.sum(gray[-1]) == 0:\n",
        "    gray = gray[:-1]\n",
        "  while np.sum(gray[:,-1]) == 0:\n",
        "    gray = np.delete(gray,-1,1)\n",
        "  rows,cols = gray.shape\n",
        "\n",
        "  # изменяем размер, чтобы помещалось в box 20x20 пикселей\n",
        "  if rows > cols:\n",
        "    factor = 20.0/rows\n",
        "    rows = 20\n",
        "    cols = int(round(cols*factor))\n",
        "    gray = cv2.resize(gray, (cols,rows))\n",
        "  else:\n",
        "    factor = 20.0/cols\n",
        "    cols = 20\n",
        "    rows = int(round(rows*factor))\n",
        "    gray = cv2.resize(gray, (cols, rows))\n",
        "\n",
        "  # расширяем до размера 28x28\n",
        "  colsPadding = (int(math.ceil((28-cols)/2.0)),int(math.floor((28-cols)/2.0)))\n",
        "  rowsPadding = (int(math.ceil((28-rows)/2.0)),int(math.floor((28-rows)/2.0)))\n",
        "  gray = np.lib.pad(gray,(rowsPadding,colsPadding),'constant')\n",
        "\n",
        "  # сдвигаем центр масс\n",
        "  shiftx,shifty = getBestShift(gray)\n",
        "  shifted = shift(gray,shiftx,shifty)\n",
        "  gray = shifted\n",
        "\n",
        "  cv2.imwrite('gray'+ img_path, gray)\n",
        "  img = gray / 255.0\n",
        "  img = np.array(img).reshape(784)\n",
        "  return img"
      ],
      "metadata": {
        "id": "-SVpXfBLk1NF"
      },
      "execution_count": 13,
      "outputs": []
    },
    {
      "cell_type": "code",
      "source": [
        "data = rec_digit('4.png')\n",
        "prepared_data = torch.tensor(data, device = device,dtype=torch.float32)\n",
        "plt.imshow(prepared_data.cpu().reshape((28,28)),cmap=\"gray\")\n",
        "with torch.inference_mode():\n",
        "  res = model(prepared_data)\n",
        "result = int(res.argmax())\n",
        "print(f\"Это цифра: {result}\")\n",
        "print(res)"
      ],
      "metadata": {
        "id": "JlCV2wV2XZJv",
        "colab": {
          "base_uri": "https://localhost:8080/",
          "height": 482
        },
        "outputId": "d649a093-7e16-4fdd-9311-b4254424f832"
      },
      "execution_count": 25,
      "outputs": [
        {
          "output_type": "stream",
          "name": "stdout",
          "text": [
            "Это цифра: 4\n",
            "tensor([ 4.0526,  1.2704,  1.2719, -0.5263, 11.4586,  2.1739, -0.0243,  3.9586,\n",
            "        -2.0340,  5.3106], device='cuda:0')\n"
          ]
        },
        {
          "output_type": "display_data",
          "data": {
            "text/plain": [
              "<Figure size 640x480 with 1 Axes>"
            ],
            "image/png": "[encoded data removed]"
          },
          "metadata": {}
        }
      ]
    }
  ]
}