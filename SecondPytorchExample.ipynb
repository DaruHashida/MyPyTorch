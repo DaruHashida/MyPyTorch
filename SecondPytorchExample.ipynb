{
  "nbformat": 4,
  "nbformat_minor": 0,
  "metadata": {
    "colab": {
      "provenance": [],
      "gpuType": "T4",
      "authorship_tag": "ABX9TyPjK9mkPz94+z2WmIiwTQk3",
      "include_colab_link": true
    },
    "kernelspec": {
      "name": "python3",
      "display_name": "Python 3"
    },
    "language_info": {
      "name": "python"
    },
    "accelerator": "GPU"
  },
  "cells": [
    {
      "cell_type": "markdown",
      "metadata": {
        "id": "view-in-github",
        "colab_type": "text"
      },
      "source": [
        "<a href=\"https://colab.research.google.com/github/DaruHashida/MyPyTorch/blob/main/SecondPytorchExample.ipynb\" target=\"_parent\"><img src=\"https://colab.research.google.com/assets/colab-badge.svg\" alt=\"Open In Colab\"/></a>"
      ]
    },
    {
      "cell_type": "markdown",
      "source": [
        "##PyTorch Workflow\n",
        "Let's explore an example PyTorch end-to-end Workflow"
      ],
      "metadata": {
        "id": "LT3iL0zii0Rs"
      }
    },
    {
      "cell_type": "code",
      "source": [
        "what_were_covering = {1: \"data (prepare and load)\",\n",
        "                      2: \"build model\",\n",
        "                      3: \"fitting the model to data (training)\",\n",
        "                      4: \"making predictions and evaluating a model (inference)\",\n",
        "                      5: \"saving and loading a model\",\n",
        "                      6: \"putting it all together\"}\n",
        "what_were_covering\n"
      ],
      "metadata": {
        "colab": {
          "base_uri": "https://localhost:8080/"
        },
        "id": "8JJ7J0iqnVRq",
        "outputId": "bd5aef87-1ef5-4923-947d-69135f028216"
      },
      "execution_count": null,
      "outputs": [
        {
          "output_type": "execute_result",
          "data": {
            "text/plain": [
              "{1: 'data (prepare and load)',\n",
              " 2: 'build model',\n",
              " 3: 'fitting the model to data (training)',\n",
              " 4: 'making predictions and evaluating a model (inference)',\n",
              " 5: 'saving and loading a model',\n",
              " 6: 'putting it all together'}"
            ]
          },
          "metadata": {},
          "execution_count": 5
        }
      ]
    },
    {
      "cell_type": "code",
      "source": [
        "import torch\n",
        "from torch import nn #nn contains all of PyTorch's building blocks for neural networks\n",
        "import matplotlib.pyplot as plt\n",
        "#Check Pytorch version\n",
        "\n",
        "torch.__version__"
      ],
      "metadata": {
        "colab": {
          "base_uri": "https://localhost:8080/",
          "height": 35
        },
        "id": "RybIpF4oslpS",
        "outputId": "41fd23b8-81e2-43be-df2e-28b3e296629e"
      },
      "execution_count": null,
      "outputs": [
        {
          "output_type": "execute_result",
          "data": {
            "text/plain": [
              "'2.0.1+cu118'"
            ],
            "application/vnd.google.colaboratory.intrinsic+json": {
              "type": "string"
            }
          },
          "metadata": {},
          "execution_count": 6
        }
      ]
    },
    {
      "cell_type": "markdown",
      "source": [
        "##1. Data (preparing and loading)\n",
        "\n",
        "Data can be almost anything... in machine learning\n",
        "\n",
        "* Excel spreadsheet\n",
        "* Images of any kind\n",
        "* Videos (YouTube has lots of data...)\n",
        "* Audio like songs or podcasts\n",
        "* DNA\n",
        "* Text\n",
        "\n",
        "Machine learning is a game of two parts:\n",
        "1. Get data into a numerical representation.\n",
        "2. Build a model to learn patterns in that numerical representation.\n",
        "\n",
        "To showcase this, let's create some *known* data using the linear regression formula:\n",
        "\n",
        "We'll use a linear regression formuls to make a straight line with *known* **parameters**."
      ],
      "metadata": {
        "id": "nQZMUt60oAHy"
      }
    },
    {
      "cell_type": "code",
      "source": [
        "# Create *known* parameters\n",
        "weight =  0.7\n",
        "bias = 0.3\n",
        "\n",
        "#Create a set of numbers\n",
        "start = 0\n",
        "end = 1\n",
        "step = 0.02\n",
        "X = torch.arange(start, end, step).unsqueeze(dim=1)\n",
        "y = weight*X + bias\n",
        "X[:10], y[:10]"
      ],
      "metadata": {
        "colab": {
          "base_uri": "https://localhost:8080/"
        },
        "id": "jBl6EW89osTf",
        "outputId": "4b1bcbc0-c18d-4354-e632-61e798224b19"
      },
      "execution_count": null,
      "outputs": [
        {
          "output_type": "execute_result",
          "data": {
            "text/plain": [
              "(tensor([[0.0000],\n",
              "         [0.0200],\n",
              "         [0.0400],\n",
              "         [0.0600],\n",
              "         [0.0800],\n",
              "         [0.1000],\n",
              "         [0.1200],\n",
              "         [0.1400],\n",
              "         [0.1600],\n",
              "         [0.1800]]),\n",
              " tensor([[0.3000],\n",
              "         [0.3140],\n",
              "         [0.3280],\n",
              "         [0.3420],\n",
              "         [0.3560],\n",
              "         [0.3700],\n",
              "         [0.3840],\n",
              "         [0.3980],\n",
              "         [0.4120],\n",
              "         [0.4260]]))"
            ]
          },
          "metadata": {},
          "execution_count": 7
        }
      ]
    },
    {
      "cell_type": "code",
      "source": [
        "len(X), len(y)"
      ],
      "metadata": {
        "colab": {
          "base_uri": "https://localhost:8080/"
        },
        "id": "hiaGLozxiNaT",
        "outputId": "9a33ecf3-3bd8-4710-b611-a7aec926c3de"
      },
      "execution_count": null,
      "outputs": [
        {
          "output_type": "execute_result",
          "data": {
            "text/plain": [
              "(50, 50)"
            ]
          },
          "metadata": {},
          "execution_count": 8
        }
      ]
    },
    {
      "cell_type": "markdown",
      "source": [
        "### Splitting data into training and test sets (one of the most important concepts in machine learning in general)\n",
        "\n",
        "Let's create a training and test set with our data."
      ],
      "metadata": {
        "id": "2g6tzMQJktZ2"
      }
    },
    {
      "cell_type": "code",
      "source": [
        "# Create a train/test split\n",
        "\n",
        "train_split = int(0.8*len(X))\n",
        "X_train, y_train = X[:train_split], y [:train_split]\n",
        "X_test, y_test = X[train_split:], y[train_split:]\n",
        "\n",
        "len(X_train), len(y_train), len(X_test), len(y_test)"
      ],
      "metadata": {
        "colab": {
          "base_uri": "https://localhost:8080/"
        },
        "id": "XrHwRv-imeux",
        "outputId": "bda804bc-41e4-42e0-ef65-879edee85e1c"
      },
      "execution_count": null,
      "outputs": [
        {
          "output_type": "execute_result",
          "data": {
            "text/plain": [
              "(40, 40, 10, 10)"
            ]
          },
          "metadata": {},
          "execution_count": 9
        }
      ]
    },
    {
      "cell_type": "markdown",
      "source": [
        "How might we better visualize our data?\n",
        "\n",
        "This is where the data explorer's motto comes in!\n",
        "\n",
        "\"Visualize, visualize, visualize!\""
      ],
      "metadata": {
        "id": "oj0BA4rRn_x5"
      }
    },
    {
      "cell_type": "code",
      "source": [
        "def plot_predictions(train_data=X_train,\n",
        "                     train_labels=y_train,\n",
        "                     test_data=X_test,\n",
        "                     test_labels=y_test,\n",
        "                     predictions=None):\n",
        "  \"\"\"\n",
        "  Plots training data, test data and compares predictions\n",
        "  \"\"\"\n",
        "  plt.figure(figsize=(10,7))\n",
        "\n",
        "  #Plot training data in blue\n",
        "  plt.scatter(train_data, train_labels, c=\"b\", s=4, label=\"Training data\")\n",
        "\n",
        "  #Plot test data in yellow\n",
        "  plt.scatter(test_data, test_labels, c=\"y\", s=4, label=\"Testing data\")\n",
        "\n",
        "  #Are there predictions?\n",
        "\n",
        "  if predictions is not None:\n",
        "    #Plot the predictions if they exist\n",
        "    plt.scatter(test_data,predictions, c=\"r\", s=4, label=\"Predictions\")\n",
        "\n",
        "  #Show the legend\n",
        "  plt.legend(prop={\"size\":14});\n"
      ],
      "metadata": {
        "id": "4sZaT1zUo02-"
      },
      "execution_count": null,
      "outputs": []
    },
    {
      "cell_type": "code",
      "source": [
        "plot_predictions()"
      ],
      "metadata": {
        "colab": {
          "base_uri": "https://localhost:8080/",
          "height": 599
        },
        "id": "r7hfZPaCsZfL",
        "outputId": "0d783e80-3fcb-40c6-c59e-db39d9e0e774"
      },
      "execution_count": null,
      "outputs": [
        {
          "output_type": "display_data",
          "data": {
            "text/plain": [
              "<Figure size 1000x700 with 1 Axes>"
            ],
            "image/png": "[encoded data removed]"
          },
          "metadata": {}
        }
      ]
    },
    {
      "cell_type": "markdown",
      "source": [
        "## 2. Build model\n",
        "\n",
        "Our first PyTorch model!\n",
        "\n",
        "This is very exciting... let's do it!\n",
        "\n",
        "Because we're going to be building classes, we should be familiar with OOP in Python: https://realpython.com/pyn=thon3-object-oriented-programming/\n",
        "\n",
        "What our model does?\n",
        "* Start with random values (weight and bias)\n",
        "* Look at training data and adjust the random values to better represent (or get closer to) the ideal values (the weight & bias we used to create the data)\n",
        "\n",
        "How does it go so?\n",
        "\n",
        "Through two main algorithms:\n",
        "1. Gradient descent - https://youtu.be/IHZwWFHWa-w\n",
        "2. Backpropagation - https://youtu.be/Ilg3gGewQ5U"
      ],
      "metadata": {
        "id": "AnxeI5c4sd6f"
      }
    },
    {
      "cell_type": "code",
      "source": [
        "# Create linear regression model class\n",
        "\n",
        "class LinearRegressionModel(nn.Module): #<- almost everything in PyTorch inherits from nn.Module, building bricks for PyTorch module\n",
        "  def __init__(self):\n",
        "    super().__init__()\n",
        "    self.weights = nn.Parameter(torch.randn(1,\n",
        "                                            requires_grad=True, #pytorch tracks gradients of this parameter for use in gradient descent\n",
        "                                            dtype=torch.float))\n",
        "    self.bias =  nn.Parameter(torch.randn(1,\n",
        "                                            requires_grad=True,\n",
        "                                            dtype=torch.float))\n",
        "    #Forward method to define the computation in the model\n",
        "  def forward(self, x: torch.Tensor) -> torch.Tensor: # <- \"x\" is the test data\n",
        "    return self.weights * x + self.bias #this is the linear regression formula\n",
        "\n",
        "\n"
      ],
      "metadata": {
        "id": "TXHyqiv0t1ye"
      },
      "execution_count": null,
      "outputs": []
    },
    {
      "cell_type": "markdown",
      "source": [
        "### Pytorch model building essentials\n",
        "\n",
        "* `torch.nn` - building blocks for computational graphs\n",
        "* `torch.nn.Parameter` - what parameters should our model try and learn, often a PyTorch layer from torch.nn will set these for us\n",
        "* `torch.nn.Module` - the base class for all nn modules. If you subclass it, you shoul overwrite forward()\n",
        "* `torch.optim` - this where the optimizers in PyTorch live, they will help with gradient descent\n",
        "* `def forward()` - all nn.Module subclasses require me to overwrite forward()."
      ],
      "metadata": {
        "id": "TjOrsIKXv3bo"
      }
    },
    {
      "cell_type": "markdown",
      "source": [
        "### Checking the contents of our PyTorch module\n",
        "\n",
        "Nowe we've created a model, let's see what's inside...\n",
        "\n",
        "So we can check our model parameters or whats inside our model using `.parameters()`."
      ],
      "metadata": {
        "id": "UiR3PemzzEiO"
      }
    },
    {
      "cell_type": "code",
      "source": [
        "#Create a random seed\n",
        "torch.manual_seed(42)\n",
        "\n",
        "#Create an instance of the model (this is a subclass of nn.Module)\n",
        "model_0 = LinearRegressionModel()\n",
        "\n",
        "#Check out the parameters\n",
        "list(model_0.parameters())"
      ],
      "metadata": {
        "colab": {
          "base_uri": "https://localhost:8080/"
        },
        "id": "6ohSt7Ju0HNW",
        "outputId": "c3f35bf9-58ac-41f2-f73f-8f5688fda81b"
      },
      "execution_count": null,
      "outputs": [
        {
          "output_type": "execute_result",
          "data": {
            "text/plain": [
              "[Parameter containing:\n",
              " tensor([0.3367], requires_grad=True),\n",
              " Parameter containing:\n",
              " tensor([0.1288], requires_grad=True)]"
            ]
          },
          "metadata": {},
          "execution_count": 13
        }
      ]
    },
    {
      "cell_type": "code",
      "source": [
        "#List named parameters\n",
        "model_0.state_dict()"
      ],
      "metadata": {
        "colab": {
          "base_uri": "https://localhost:8080/"
        },
        "id": "8n74-n622DNO",
        "outputId": "df07b267-ff4b-4efa-cfe6-53c9d5dbf050"
      },
      "execution_count": null,
      "outputs": [
        {
          "output_type": "execute_result",
          "data": {
            "text/plain": [
              "OrderedDict([('weights', tensor([0.3367])), ('bias', tensor([0.1288]))])"
            ]
          },
          "metadata": {},
          "execution_count": 14
        }
      ]
    },
    {
      "cell_type": "markdown",
      "source": [
        "### Making predictions using `torch.inference_mode()'\n",
        "\n",
        "To check our model's predictive power, let's see how well it predicts 'y_test' based on 'X_test'.\n",
        "\n",
        "When we pass data through our model, it's going to run it through the `forward()` method."
      ],
      "metadata": {
        "id": "n_JGQNsx0vaM"
      }
    },
    {
      "cell_type": "code",
      "source": [
        "# Make predicrtions with model\n",
        "with torch.inference_mode():\n",
        "  y_preds = model_0(X_test)\n",
        "y_preds\n",
        "\n",
        "# You can also do something similar with torch.no_grad, howewer torch.inference_mode() if prefered\n",
        "with torch.no_grad():\n",
        "  y_preds = model_0(X_test)\n",
        "y_preds"
      ],
      "metadata": {
        "colab": {
          "base_uri": "https://localhost:8080/"
        },
        "id": "5IJU15MQ3oOa",
        "outputId": "aa50661a-b49c-4a2f-966b-b055d202ced2"
      },
      "execution_count": null,
      "outputs": [
        {
          "output_type": "execute_result",
          "data": {
            "text/plain": [
              "tensor([[0.3982],\n",
              "        [0.4049],\n",
              "        [0.4116],\n",
              "        [0.4184],\n",
              "        [0.4251],\n",
              "        [0.4318],\n",
              "        [0.4386],\n",
              "        [0.4453],\n",
              "        [0.4520],\n",
              "        [0.4588]])"
            ]
          },
          "metadata": {},
          "execution_count": 15
        }
      ]
    },
    {
      "cell_type": "code",
      "source": [
        "y_test"
      ],
      "metadata": {
        "colab": {
          "base_uri": "https://localhost:8080/"
        },
        "id": "u3Npz1Z14yVB",
        "outputId": "2617907c-46e0-466c-f8c5-6d434d0563da"
      },
      "execution_count": null,
      "outputs": [
        {
          "output_type": "execute_result",
          "data": {
            "text/plain": [
              "tensor([[0.8600],\n",
              "        [0.8740],\n",
              "        [0.8880],\n",
              "        [0.9020],\n",
              "        [0.9160],\n",
              "        [0.9300],\n",
              "        [0.9440],\n",
              "        [0.9580],\n",
              "        [0.9720],\n",
              "        [0.9860]])"
            ]
          },
          "metadata": {},
          "execution_count": 16
        }
      ]
    },
    {
      "cell_type": "code",
      "source": [
        "plot_predictions(predictions=y_preds)"
      ],
      "metadata": {
        "colab": {
          "base_uri": "https://localhost:8080/",
          "height": 599
        },
        "id": "46qo-1pR6l5C",
        "outputId": "735ae2c8-f77b-4d8a-eb25-47ce70bffcdd"
      },
      "execution_count": null,
      "outputs": [
        {
          "output_type": "display_data",
          "data": {
            "text/plain": [
              "<Figure size 1000x700 with 1 Axes>"
            ],
            "image/png": "[encoded data removed]"
          },
          "metadata": {}
        }
      ]
    },
    {
      "cell_type": "markdown",
      "source": [
        "## 3. Train model\n",
        "\n",
        "The whole idea of training is for a model to move from some *unknown* parameters (these may be random) to some *known* parameters.\n",
        "\n",
        "Or in other words from a poor represantation of the data to a better trepresentation of the data.\n",
        "\n",
        "One way to mesure, how wrong your models predictions are is to use a loss function (cost function)\n",
        "\n",
        "* Note: Loss function may also be called cost function or criterion in different. For our case, we're going to refer to it as a loss function.\n",
        "\n",
        "* **Loss function:** A function to measure how wrong your model's predictions are to the ideal outputs, LOWER IS BETTER.\n",
        "\n",
        "* **Optimizer:** Takes into account the loss of a model and adjusts the model's parameters (e.g. weight and bias)\n",
        "  * Inside the optimizer you'll often have to set two parameters:\n",
        "    * `params` - the model parameters you'd like to optimize\n",
        "    * `lr` (learning rate) - the learning rate is a hyperparameter that defines how big/small the optimizer changes the parameters with ueach step (smaller `lr` - smaller changes)\n",
        "\n",
        "And specifically for PyTorch, we need:\n",
        "* A training loop\n",
        "* A testing loop\n",
        "\n"
      ],
      "metadata": {
        "id": "uAw7OIVp6sFk"
      }
    },
    {
      "cell_type": "code",
      "source": [
        "#Check out our model's parameters (a parameter is a value that the model sets itself)\n",
        "model_0.state_dict()"
      ],
      "metadata": {
        "colab": {
          "base_uri": "https://localhost:8080/"
        },
        "id": "m_YwKVuw-HBq",
        "outputId": "343b6584-925a-440f-a564-3564c83f15e1"
      },
      "execution_count": null,
      "outputs": [
        {
          "output_type": "execute_result",
          "data": {
            "text/plain": [
              "OrderedDict([('weights', tensor([0.3367])), ('bias', tensor([0.1288]))])"
            ]
          },
          "metadata": {},
          "execution_count": 18
        }
      ]
    },
    {
      "cell_type": "code",
      "source": [
        "#Setup a loss function\n",
        "loss_fn = nn.L1Loss()\n",
        "\n",
        "#Setup an optimizer (stochastic gradient descent)\n",
        "optimizer = torch.optim.SGD(params=model_0.parameters(),\n",
        "                            lr=0.01) #lr = rearning rate = possibly the most important hyperparameter"
      ],
      "metadata": {
        "id": "5Dv0Lo0ZA0Re"
      },
      "execution_count": null,
      "outputs": []
    },
    {
      "cell_type": "markdown",
      "source": [
        "###Building a training loop (and a testing loop) in PyTorch\n",
        "\n",
        "A couple of things we need in a training loop:\n",
        "0. Loop through the data\n",
        "1. Forward pass (forward propagation,this involves data moving through our `forward()` functions) to make predictions on data\n",
        "2. Calculate the loss (compare forward pass predictions to ground truth labels)\n",
        "3. Optimizer zero grad\n",
        "4. Loss backward - data goes backwards through the network to calculate the gradients of each of the parameters of our model with respect to the loss (**backpropagation**)\n",
        "5. Optimizer step - use the optimizer to adjust our model's parameters to try and improve the loss (**gradient descent**)\n"
      ],
      "metadata": {
        "id": "jbC2ATMtStlF"
      }
    },
    {
      "cell_type": "code",
      "source": [
        "list(model_0.eval().parameters())"
      ],
      "metadata": {
        "colab": {
          "base_uri": "https://localhost:8080/"
        },
        "id": "ul8TcameqMa8",
        "outputId": "9409e3df-d10f-4b19-9ec4-b9fc28702b1d"
      },
      "execution_count": null,
      "outputs": [
        {
          "output_type": "execute_result",
          "data": {
            "text/plain": [
              "[Parameter containing:\n",
              " tensor([0.3367], requires_grad=True),\n",
              " Parameter containing:\n",
              " tensor([0.1288], requires_grad=True)]"
            ]
          },
          "metadata": {},
          "execution_count": 20
        }
      ]
    },
    {
      "cell_type": "code",
      "source": [
        "list(model_0.parameters())"
      ],
      "metadata": {
        "colab": {
          "base_uri": "https://localhost:8080/"
        },
        "id": "mLYPaJH6pnvc",
        "outputId": "3e0e2694-9104-4a4e-88ba-a111e19fecc5"
      },
      "execution_count": null,
      "outputs": [
        {
          "output_type": "execute_result",
          "data": {
            "text/plain": [
              "[Parameter containing:\n",
              " tensor([0.3367], requires_grad=True),\n",
              " Parameter containing:\n",
              " tensor([0.1288], requires_grad=True)]"
            ]
          },
          "metadata": {},
          "execution_count": 21
        }
      ]
    },
    {
      "cell_type": "code",
      "source": [
        "torch.manual_seed(42)\n",
        "#An epoch = one loop through the data\n",
        "epochs = 200\n",
        "\n",
        "epoch_count=[]\n",
        "loss_values=[]\n",
        "test_loss_values=[]\n",
        "###Training\n",
        "#0. Loop through the data\n",
        "for epoch in range(epochs):\n",
        "  #Set the model to training mode\n",
        "  model_0.train() #train mode in PyTorch set all peremeters that require gradients to require gradients\n",
        "\n",
        "  #_1.Forward pass\n",
        "  y_pred=model_0(X_train)\n",
        "\n",
        "  #_2.Calculate the loss.\n",
        "  loss=loss_fn(y_pred, y_train)\n",
        "\n",
        "  #_3.Optimizer zero grad\n",
        "  optimizer.zero_grad()\n",
        "\n",
        "  #_4. Perform backpropagation on the loss with respect to the parameters of the model\n",
        "  loss.backward()\n",
        "\n",
        "  #_5. Step the optimizer (perform gradient descent)\n",
        "  optimizer.step() #by default how the optimizer changes will accumulate through the loop so... we have to zero them above in 3-th step for next generation of the loop\n",
        "\n",
        "  model_0.eval() # turns off gradient settings in the model not needed for evaluation/testing\n",
        "  with torch.inference_mode():\n",
        "    #1. Do the forward pass\n",
        "    test_pred = model_0(X_test)\n",
        "\n",
        "    #2. Calculate the loss\n",
        "    test_loss = loss_fn(test_pred,y_test)\n",
        "    loss_value = loss_fn(y_pred, y_train)\n",
        "  if epoch % 10 == 0:\n",
        "    epoch_count.append(epoch)\n",
        "    loss_values.append(loss_value)\n",
        "    test_loss_values.append(test_loss)\n",
        "    print(f\"Epoch: {epoch} | Loss: {loss} | Test loss: {test_loss}\")\n",
        "# Print out model state_dict()\n",
        "print(model_0.state_dict())"
      ],
      "metadata": {
        "id": "otGBPf9WVQw4",
        "colab": {
          "base_uri": "https://localhost:8080/"
        },
        "outputId": "8ab550aa-da76-4e46-8f4f-4e468254ad82"
      },
      "execution_count": null,
      "outputs": [
        {
          "output_type": "stream",
          "name": "stdout",
          "text": [
            "Epoch: 0 | Loss: 0.31288138031959534 | Test loss: 0.48106518387794495\n",
            "Epoch: 10 | Loss: 0.1976713240146637 | Test loss: 0.3463551998138428\n",
            "Epoch: 20 | Loss: 0.08908725529909134 | Test loss: 0.21729660034179688\n",
            "Epoch: 30 | Loss: 0.053148526698350906 | Test loss: 0.14464017748832703\n",
            "Epoch: 40 | Loss: 0.04543796554207802 | Test loss: 0.11360953003168106\n",
            "Epoch: 50 | Loss: 0.04167863354086876 | Test loss: 0.09919948130846024\n",
            "Epoch: 60 | Loss: 0.03818932920694351 | Test loss: 0.08886633068323135\n",
            "Epoch: 70 | Loss: 0.03476089984178543 | Test loss: 0.0805937647819519\n",
            "Epoch: 80 | Loss: 0.03132382780313492 | Test loss: 0.07232122868299484\n",
            "Epoch: 90 | Loss: 0.02788739837706089 | Test loss: 0.06473556160926819\n",
            "Epoch: 100 | Loss: 0.024458957836031914 | Test loss: 0.05646304413676262\n",
            "Epoch: 110 | Loss: 0.021020207554101944 | Test loss: 0.04819049686193466\n",
            "Epoch: 120 | Loss: 0.01758546568453312 | Test loss: 0.04060482233762741\n",
            "Epoch: 130 | Loss: 0.014155393466353416 | Test loss: 0.03233227878808975\n",
            "Epoch: 140 | Loss: 0.010716589167714119 | Test loss: 0.024059748277068138\n",
            "Epoch: 150 | Loss: 0.0072835334576666355 | Test loss: 0.016474086791276932\n",
            "Epoch: 160 | Loss: 0.0038517764769494534 | Test loss: 0.008201557211577892\n",
            "Epoch: 170 | Loss: 0.008932482451200485 | Test loss: 0.005023092031478882\n",
            "Epoch: 180 | Loss: 0.008932482451200485 | Test loss: 0.005023092031478882\n",
            "Epoch: 190 | Loss: 0.008932482451200485 | Test loss: 0.005023092031478882\n",
            "OrderedDict([('weights', tensor([0.6990])), ('bias', tensor([0.3093]))])\n"
          ]
        }
      ]
    },
    {
      "cell_type": "code",
      "source": [
        "epoch_count, loss_values, test_loss_values"
      ],
      "metadata": {
        "colab": {
          "base_uri": "https://localhost:8080/"
        },
        "id": "pwLcIYjcO1Yz",
        "outputId": "1c046e16-e8ed-4381-c2bc-0f083b538e5a"
      },
      "execution_count": null,
      "outputs": [
        {
          "output_type": "execute_result",
          "data": {
            "text/plain": [
              "([0,\n",
              "  10,\n",
              "  20,\n",
              "  30,\n",
              "  40,\n",
              "  50,\n",
              "  60,\n",
              "  70,\n",
              "  80,\n",
              "  90,\n",
              "  100,\n",
              "  110,\n",
              "  120,\n",
              "  130,\n",
              "  140,\n",
              "  150,\n",
              "  160,\n",
              "  170,\n",
              "  180,\n",
              "  190],\n",
              " [tensor(0.3129),\n",
              "  tensor(0.1977),\n",
              "  tensor(0.0891),\n",
              "  tensor(0.0531),\n",
              "  tensor(0.0454),\n",
              "  tensor(0.0417),\n",
              "  tensor(0.0382),\n",
              "  tensor(0.0348),\n",
              "  tensor(0.0313),\n",
              "  tensor(0.0279),\n",
              "  tensor(0.0245),\n",
              "  tensor(0.0210),\n",
              "  tensor(0.0176),\n",
              "  tensor(0.0142),\n",
              "  tensor(0.0107),\n",
              "  tensor(0.0073),\n",
              "  tensor(0.0039),\n",
              "  tensor(0.0089),\n",
              "  tensor(0.0089),\n",
              "  tensor(0.0089)],\n",
              " [tensor(0.4811),\n",
              "  tensor(0.3464),\n",
              "  tensor(0.2173),\n",
              "  tensor(0.1446),\n",
              "  tensor(0.1136),\n",
              "  tensor(0.0992),\n",
              "  tensor(0.0889),\n",
              "  tensor(0.0806),\n",
              "  tensor(0.0723),\n",
              "  tensor(0.0647),\n",
              "  tensor(0.0565),\n",
              "  tensor(0.0482),\n",
              "  tensor(0.0406),\n",
              "  tensor(0.0323),\n",
              "  tensor(0.0241),\n",
              "  tensor(0.0165),\n",
              "  tensor(0.0082),\n",
              "  tensor(0.0050),\n",
              "  tensor(0.0050),\n",
              "  tensor(0.0050)])"
            ]
          },
          "metadata": {},
          "execution_count": 23
        }
      ]
    },
    {
      "cell_type": "code",
      "source": [
        "#Plot the loss curves\n",
        "plt.plot(epoch_count,loss_values,label=\"Train loss\")\n",
        "plt.plot(epoch_count,test_loss_values,label=\"Test loss\")\n",
        "plt.title(\"Training and test loss curve\")\n",
        "plt.ylabel(\"Loss\")\n",
        "plt.xlabel(\"Epochs\")\n",
        "plt.legend()"
      ],
      "metadata": {
        "colab": {
          "base_uri": "https://localhost:8080/",
          "height": 489
        },
        "id": "er_T0QYDOvaH",
        "outputId": "14f019b0-db0b-424e-903e-ca67bec703c3"
      },
      "execution_count": null,
      "outputs": [
        {
          "output_type": "execute_result",
          "data": {
            "text/plain": [
              "<matplotlib.legend.Legend at 0x7a9ced4c5180>"
            ]
          },
          "metadata": {},
          "execution_count": 24
        },
        {
          "output_type": "display_data",
          "data": {
            "text/plain": [
              "<Figure size 640x480 with 1 Axes>"
            ],
            "image/png": "[encoded data removed]"
          },
          "metadata": {}
        }
      ]
    },
    {
      "cell_type": "code",
      "source": [
        "with torch.inference_mode():\n",
        "  y_preds_new = model_0(X_test)"
      ],
      "metadata": {
        "id": "8mlrxKayShvL"
      },
      "execution_count": null,
      "outputs": []
    },
    {
      "cell_type": "code",
      "source": [
        "model_0.state_dict()"
      ],
      "metadata": {
        "colab": {
          "base_uri": "https://localhost:8080/"
        },
        "id": "HLd3MiSW44LY",
        "outputId": "c900d708-51d8-44d6-f212-824582f49a20"
      },
      "execution_count": null,
      "outputs": [
        {
          "output_type": "execute_result",
          "data": {
            "text/plain": [
              "OrderedDict([('weights', tensor([0.6990])), ('bias', tensor([0.3093]))])"
            ]
          },
          "metadata": {},
          "execution_count": 26
        }
      ]
    },
    {
      "cell_type": "code",
      "source": [
        "weight, bias"
      ],
      "metadata": {
        "colab": {
          "base_uri": "https://localhost:8080/"
        },
        "id": "tYS2CcIUPWg5",
        "outputId": "7d3b9817-30ec-4a00-bb6d-a130a7370285"
      },
      "execution_count": null,
      "outputs": [
        {
          "output_type": "execute_result",
          "data": {
            "text/plain": [
              "(0.7, 0.3)"
            ]
          },
          "metadata": {},
          "execution_count": 27
        }
      ]
    },
    {
      "cell_type": "code",
      "source": [
        "plot_predictions(predictions=y_preds)"
      ],
      "metadata": {
        "colab": {
          "base_uri": "https://localhost:8080/",
          "height": 599
        },
        "id": "5MJLxT0KS8Vi",
        "outputId": "91f7ab1d-4a1b-4f6a-d6a7-0ae1408981fb"
      },
      "execution_count": null,
      "outputs": [
        {
          "output_type": "display_data",
          "data": {
            "text/plain": [
              "<Figure size 1000x700 with 1 Axes>"
            ],
            "image/png": "[encoded data removed]"
          },
          "metadata": {}
        }
      ]
    },
    {
      "cell_type": "code",
      "source": [
        "plot_predictions(predictions=y_preds_new)"
      ],
      "metadata": {
        "colab": {
          "base_uri": "https://localhost:8080/",
          "height": 599
        },
        "id": "j0_1yyGCTB1w",
        "outputId": "239903e1-8f08-4bee-9633-29dfca12c9b8"
      },
      "execution_count": null,
      "outputs": [
        {
          "output_type": "display_data",
          "data": {
            "text/plain": [
              "<Figure size 1000x700 with 1 Axes>"
            ],
            "image/png": "[encoded data removed]"
          },
          "metadata": {}
        }
      ]
    },
    {
      "cell_type": "markdown",
      "source": [
        "##Saving a model in PyTorch\n",
        "\n",
        "There are three main methods youu should know about for saving and loading models in PyTorch.\n",
        "\n",
        "1. `torch.save()` - allows you save a PyTorch object in Python's pickle format\n",
        "2. `torch.load()` - allows you load a saved PyTorch object\n",
        "3. `torch.nn.Module.load_state_dict()` - this allows to load a model's saved\n",
        " state dictionary\n"
      ],
      "metadata": {
        "id": "ooj4U3fgTOBd"
      }
    },
    {
      "cell_type": "code",
      "source": [
        "model_0.state_dict()"
      ],
      "metadata": {
        "id": "lYlfIRLvemVW",
        "colab": {
          "base_uri": "https://localhost:8080/"
        },
        "outputId": "291cf8ca-b11c-408d-abad-f7b025fedf2f"
      },
      "execution_count": null,
      "outputs": [
        {
          "output_type": "execute_result",
          "data": {
            "text/plain": [
              "OrderedDict([('weights', tensor([0.6990])), ('bias', tensor([0.3093]))])"
            ]
          },
          "metadata": {},
          "execution_count": 30
        }
      ]
    },
    {
      "cell_type": "code",
      "source": [
        "#Saving our PyTorch model\n",
        "\n",
        "from pathlib import Path\n",
        "\n",
        "# 1. Create models directory\n",
        "MODEL_PATH = Path(\"models\")\n",
        "MODEL_PATH.mkdir(parents=True,exist_ok=True)\n",
        "\n",
        "# 2. Create model save path\n",
        "MODEL_NAME = \"Linear_function_prognoser.pth\"\n",
        "MODEL_SAVE_PATH = MODEL_PATH / MODEL_NAME\n",
        "\n",
        "# 3. Save the model state dict\n",
        "print(f\"Saving model to: {MODEL_SAVE_PATH}\")\n",
        "torch.save(obj=model_0.state_dict(),\n",
        "           f=MODEL_SAVE_PATH)"
      ],
      "metadata": {
        "colab": {
          "base_uri": "https://localhost:8080/"
        },
        "id": "qEYzYL3perJ6",
        "outputId": "0a67ea72-95da-426d-854b-3841d86d0bfc"
      },
      "execution_count": null,
      "outputs": [
        {
          "output_type": "stream",
          "name": "stdout",
          "text": [
            "Saving model to: models/Linear_function_prognoser.pth\n"
          ]
        }
      ]
    },
    {
      "cell_type": "code",
      "source": [
        "MODEL_NAME1 = \"Linear_function_prognoser_full_model.pth\"\n",
        "MODEL_SAVE_PATH1 = MODEL_PATH / MODEL_NAME1\n",
        "\n",
        "print(f\"Saving whole model to: {MODEL_SAVE_PATH1}\")\n",
        "torch.save(obj=model_0,\n",
        "           f=MODEL_SAVE_PATH1)"
      ],
      "metadata": {
        "colab": {
          "base_uri": "https://localhost:8080/"
        },
        "id": "TFCFA9rZML7g",
        "outputId": "71143e14-8765-4ef1-daf5-4e6cb8ba6dac"
      },
      "execution_count": null,
      "outputs": [
        {
          "output_type": "stream",
          "name": "stdout",
          "text": [
            "Saving whole model to: models/Linear_function_prognoser_full_model.pth\n"
          ]
        }
      ]
    },
    {
      "cell_type": "code",
      "source": [
        "ls -l models"
      ],
      "metadata": {
        "colab": {
          "base_uri": "https://localhost:8080/"
        },
        "id": "Xbvsdf0fgZRD",
        "outputId": "6f13136c-9684-4ed3-c8ac-1cf58888cfd2"
      },
      "execution_count": null,
      "outputs": [
        {
          "output_type": "stream",
          "name": "stdout",
          "text": [
            "total 8\n",
            "-rw-r--r-- 1 root root 1819 Aug 19 11:10 Linear_function_prognoser_full_model.pth\n",
            "-rw-r--r-- 1 root root 1199 Aug 19 11:10 Linear_function_prognoser.pth\n"
          ]
        }
      ]
    },
    {
      "cell_type": "markdown",
      "source": [
        "## Loading a PyTorch model\n",
        "\n",
        "Since we saved our model static rather then the entire model, we'll create a new instancce of our model class and load the saved `state_dict()`into that"
      ],
      "metadata": {
        "id": "kHeIJE7ghS7Z"
      }
    },
    {
      "cell_type": "code",
      "source": [
        "model_0.state_dict()"
      ],
      "metadata": {
        "colab": {
          "base_uri": "https://localhost:8080/"
        },
        "id": "fTHMScToccO-",
        "outputId": "ca866926-2efd-40f1-e267-31ed681cd119"
      },
      "execution_count": null,
      "outputs": [
        {
          "output_type": "execute_result",
          "data": {
            "text/plain": [
              "OrderedDict([('weights', tensor([0.6990])), ('bias', tensor([0.3093]))])"
            ]
          },
          "metadata": {},
          "execution_count": 34
        }
      ]
    },
    {
      "cell_type": "code",
      "source": [
        "#To load in a saved state_dicct we have to instantiate a new instance of our model class\n",
        "loaded_model_0 = LinearRegressionModel()\n",
        "\n",
        "#Load the saved state_dict of model_0 (this will update the new instance with updated parameters)\n"
      ],
      "metadata": {
        "id": "m5pVqhlVcopb"
      },
      "execution_count": null,
      "outputs": []
    },
    {
      "cell_type": "code",
      "source": [
        "loaded_model_0.state_dict()"
      ],
      "metadata": {
        "colab": {
          "base_uri": "https://localhost:8080/"
        },
        "id": "tWZL3cYJh_OR",
        "outputId": "e56e2b4d-c40b-421e-82a8-df5b3cf1c148"
      },
      "execution_count": null,
      "outputs": [
        {
          "output_type": "execute_result",
          "data": {
            "text/plain": [
              "OrderedDict([('weights', tensor([0.3367])), ('bias', tensor([0.1288]))])"
            ]
          },
          "metadata": {},
          "execution_count": 36
        }
      ]
    },
    {
      "cell_type": "code",
      "source": [],
      "metadata": {
        "id": "U199x8tLicuA"
      },
      "execution_count": null,
      "outputs": []
    },
    {
      "cell_type": "code",
      "source": [
        "loaded_model_0.load_state_dict(torch.load(f=MODEL_SAVE_PATH))"
      ],
      "metadata": {
        "colab": {
          "base_uri": "https://localhost:8080/"
        },
        "id": "QJFHHYZAiEVi",
        "outputId": "8a2a48bd-eba0-4e6b-a027-7aacfd5b9b64"
      },
      "execution_count": null,
      "outputs": [
        {
          "output_type": "execute_result",
          "data": {
            "text/plain": [
              "<All keys matched successfully>"
            ]
          },
          "metadata": {},
          "execution_count": 37
        }
      ]
    },
    {
      "cell_type": "code",
      "source": [
        "loaded_model_0.state_dict()"
      ],
      "metadata": {
        "colab": {
          "base_uri": "https://localhost:8080/"
        },
        "id": "k0hFxTayihMt",
        "outputId": "b05c8ef6-11e0-4339-ab2b-f7b56f91c661"
      },
      "execution_count": null,
      "outputs": [
        {
          "output_type": "execute_result",
          "data": {
            "text/plain": [
              "OrderedDict([('weights', tensor([0.6990])), ('bias', tensor([0.3093]))])"
            ]
          },
          "metadata": {},
          "execution_count": 38
        }
      ]
    },
    {
      "cell_type": "code",
      "source": [
        "#Make some predictions with our loaded model\n",
        "loaded_model_0.eval()\n",
        "with torch.inference_mode():\n",
        "  loaded_model_preds = loaded_model_0(X_test)\n",
        "\n",
        "loaded_model_preds"
      ],
      "metadata": {
        "colab": {
          "base_uri": "https://localhost:8080/"
        },
        "id": "4QiXEh-Fipbj",
        "outputId": "8cf24b84-17e9-4d97-a83e-fb86fce47e87"
      },
      "execution_count": null,
      "outputs": [
        {
          "output_type": "execute_result",
          "data": {
            "text/plain": [
              "tensor([[0.8685],\n",
              "        [0.8825],\n",
              "        [0.8965],\n",
              "        [0.9105],\n",
              "        [0.9245],\n",
              "        [0.9384],\n",
              "        [0.9524],\n",
              "        [0.9664],\n",
              "        [0.9804],\n",
              "        [0.9944]])"
            ]
          },
          "metadata": {},
          "execution_count": 39
        }
      ]
    },
    {
      "cell_type": "code",
      "source": [
        "# Make some model preds\n",
        "model_0.eval()\n",
        "with torch.inference_mode():\n",
        "  y_preds = model_0(X_test)\n",
        "y_preds"
      ],
      "metadata": {
        "colab": {
          "base_uri": "https://localhost:8080/"
        },
        "id": "0xtkUKV3jPFm",
        "outputId": "e7374c26-6f63-4c7e-9f49-1f81e690a70b"
      },
      "execution_count": null,
      "outputs": [
        {
          "output_type": "execute_result",
          "data": {
            "text/plain": [
              "tensor([[0.8685],\n",
              "        [0.8825],\n",
              "        [0.8965],\n",
              "        [0.9105],\n",
              "        [0.9245],\n",
              "        [0.9384],\n",
              "        [0.9524],\n",
              "        [0.9664],\n",
              "        [0.9804],\n",
              "        [0.9944]])"
            ]
          },
          "metadata": {},
          "execution_count": 40
        }
      ]
    },
    {
      "cell_type": "code",
      "source": [
        "#Compare loaded model preds with original model preds\n",
        "y_preds==loaded_model_preds"
      ],
      "metadata": {
        "colab": {
          "base_uri": "https://localhost:8080/"
        },
        "id": "wM874y6hjs3j",
        "outputId": "5d159333-d283-4c5c-a5b6-10247bccc4f1"
      },
      "execution_count": null,
      "outputs": [
        {
          "output_type": "execute_result",
          "data": {
            "text/plain": [
              "tensor([[True],\n",
              "        [True],\n",
              "        [True],\n",
              "        [True],\n",
              "        [True],\n",
              "        [True],\n",
              "        [True],\n",
              "        [True],\n",
              "        [True],\n",
              "        [True]])"
            ]
          },
          "metadata": {},
          "execution_count": 41
        }
      ]
    },
    {
      "cell_type": "markdown",
      "source": [
        "## 6. Putting all together\n",
        "Let's go back the through the steps above and see it all in one place."
      ],
      "metadata": {
        "id": "oIMSefVnjSdF"
      }
    },
    {
      "cell_type": "code",
      "source": [
        "#Import PyTorch and matplotlib\n",
        "import torch\n",
        "from torch import nn\n",
        "import matplotlib.pyplot as plt\n",
        "\n",
        "#Check PyTorch version\n",
        "torch.__version__"
      ],
      "metadata": {
        "colab": {
          "base_uri": "https://localhost:8080/",
          "height": 35
        },
        "id": "vlVIry1TsrG2",
        "outputId": "a9dbaf7d-ddf4-4297-fc51-05ba1afdc357"
      },
      "execution_count": null,
      "outputs": [
        {
          "output_type": "execute_result",
          "data": {
            "text/plain": [
              "'2.0.1+cu118'"
            ],
            "application/vnd.google.colaboratory.intrinsic+json": {
              "type": "string"
            }
          },
          "metadata": {},
          "execution_count": 42
        }
      ]
    },
    {
      "cell_type": "markdown",
      "source": [
        "Create device-agnostic code:\n",
        "\n",
        "This means if we got access to a GPU, our code will use it (for potential faster computing)\n",
        "\n",
        "If no GPU is available, the code will default to using CPU."
      ],
      "metadata": {
        "id": "CBt3TMtztI2f"
      }
    },
    {
      "cell_type": "code",
      "source": [
        "# Setup device agnostic code\n",
        "\n",
        "device = \"cuda\" if torch.cuda.is_available() else \"cpu\"\n",
        "\n",
        "print(f\"Using device: {device}\")"
      ],
      "metadata": {
        "colab": {
          "base_uri": "https://localhost:8080/"
        },
        "id": "0RV9KrXmt4rl",
        "outputId": "81ca219d-d9bc-4f71-ab61-0f3ae0684131"
      },
      "execution_count": null,
      "outputs": [
        {
          "output_type": "stream",
          "name": "stdout",
          "text": [
            "Using device: cuda\n"
          ]
        }
      ]
    },
    {
      "cell_type": "markdown",
      "source": [
        "### 6.1 Data"
      ],
      "metadata": {
        "id": "QX7v7qPRvXgS"
      }
    },
    {
      "cell_type": "code",
      "source": [
        "#Create some data using the linear regression formula of y=weight*x+bias\n",
        "weight = 0.2\n",
        "bias = 0.9"
      ],
      "metadata": {
        "id": "douZJQ2uvBje"
      },
      "execution_count": null,
      "outputs": []
    },
    {
      "cell_type": "code",
      "source": [
        "#Create range values\n",
        "start = 0\n",
        "end = 1\n",
        "step = 0.02\n",
        "\n",
        "#Create x and y (features and labels)\n",
        "X = torch.arange(start,end,step).unsqueeze(dim=1)\n",
        "y = weight*X + bias\n",
        "\n",
        "X[:10],y[:10]"
      ],
      "metadata": {
        "colab": {
          "base_uri": "https://localhost:8080/"
        },
        "id": "Fq7ThzInvEye",
        "outputId": "ed7607f3-5ab1-439d-8854-300f7b30b28b"
      },
      "execution_count": null,
      "outputs": [
        {
          "output_type": "execute_result",
          "data": {
            "text/plain": [
              "(tensor([[0.0000],\n",
              "         [0.0200],\n",
              "         [0.0400],\n",
              "         [0.0600],\n",
              "         [0.0800],\n",
              "         [0.1000],\n",
              "         [0.1200],\n",
              "         [0.1400],\n",
              "         [0.1600],\n",
              "         [0.1800]]),\n",
              " tensor([[0.9000],\n",
              "         [0.9040],\n",
              "         [0.9080],\n",
              "         [0.9120],\n",
              "         [0.9160],\n",
              "         [0.9200],\n",
              "         [0.9240],\n",
              "         [0.9280],\n",
              "         [0.9320],\n",
              "         [0.9360]]))"
            ]
          },
          "metadata": {},
          "execution_count": 45
        }
      ]
    },
    {
      "cell_type": "code",
      "source": [
        "#Split data\n",
        "train_split = int(0.8*len(X))\n",
        "X_train, y_train = X[:train_split], y[:train_split]\n",
        "X_test, y_test = X[train_split:], y[train_split:]\n",
        "len(X_train), len(y_train), len(X_test), len(y_test)"
      ],
      "metadata": {
        "colab": {
          "base_uri": "https://localhost:8080/"
        },
        "id": "8TTtLZf6w2sW",
        "outputId": "821cdd5a-a510-472c-b4f4-1d78c6a8de11"
      },
      "execution_count": null,
      "outputs": [
        {
          "output_type": "execute_result",
          "data": {
            "text/plain": [
              "(40, 40, 10, 10)"
            ]
          },
          "metadata": {},
          "execution_count": 46
        }
      ]
    },
    {
      "cell_type": "code",
      "source": [
        "#Plot the data\n",
        "#Note: if you don't have the plot_predictions() function loaded, this will error\n",
        "plot_predictions(train_data=X_train.cpu(),\n",
        "                     train_labels=y_train.cpu(),\n",
        "                     test_data=X_test.cpu(),\n",
        "                     test_labels=y_test.cpu())"
      ],
      "metadata": {
        "colab": {
          "base_uri": "https://localhost:8080/",
          "height": 599
        },
        "id": "Sgb0qFKJyAi3",
        "outputId": "89f3b00f-e5da-44c4-cfaf-d55e85fa67cd"
      },
      "execution_count": null,
      "outputs": [
        {
          "output_type": "display_data",
          "data": {
            "text/plain": [
              "<Figure size 1000x700 with 1 Axes>"
            ],
            "image/png": "[encoded data removed]"
          },
          "metadata": {}
        }
      ]
    },
    {
      "cell_type": "markdown",
      "source": [
        "### 6.2 Building a PyTorch Linear model"
      ],
      "metadata": {
        "id": "kQ9Q2ISSynd1"
      }
    },
    {
      "cell_type": "code",
      "source": [
        "#Create a linear model by subclassing nn.Module\n",
        "class LinearRegressionModelV2(nn.Module):\n",
        "  def __init__(self):\n",
        "    super().__init__()\n",
        "    # Use nn.Linear() for creating the model parameters/ also called:linear transform, probing layer, fully connected layer, dense layer\n",
        "    self.linear_layer = nn.Linear(in_features=1,\n",
        "                                 out_features=1)\n",
        "  def forward(self, x)-> torch.Tensor:\n",
        "    return self.linear_layer(x)\n",
        "\n",
        "#Set the manual seed\n",
        "torch.manual_seed(42)\n",
        "model_1 = LinearRegressionModelV2()\n",
        "model_1, model_1.state_dict()\n"
      ],
      "metadata": {
        "colab": {
          "base_uri": "https://localhost:8080/"
        },
        "id": "9-83ABpWzBbW",
        "outputId": "e5e21e19-7c15-4960-d40b-14adca7062d6"
      },
      "execution_count": null,
      "outputs": [
        {
          "output_type": "execute_result",
          "data": {
            "text/plain": [
              "(LinearRegressionModelV2(\n",
              "   (linear_layer): Linear(in_features=1, out_features=1, bias=True)\n",
              " ),\n",
              " OrderedDict([('linear_layer.weight', tensor([[0.7645]])),\n",
              "              ('linear_layer.bias', tensor([0.8300]))]))"
            ]
          },
          "metadata": {},
          "execution_count": 48
        }
      ]
    },
    {
      "cell_type": "code",
      "source": [
        "#Check the model current device\n",
        "next(model_1.parameters()).device"
      ],
      "metadata": {
        "colab": {
          "base_uri": "https://localhost:8080/"
        },
        "id": "CdV2_6cr2vuW",
        "outputId": "c9267f5c-c58b-4510-f00a-3a89805738d5"
      },
      "execution_count": null,
      "outputs": [
        {
          "output_type": "execute_result",
          "data": {
            "text/plain": [
              "device(type='cpu')"
            ]
          },
          "metadata": {},
          "execution_count": 49
        }
      ]
    },
    {
      "cell_type": "code",
      "source": [
        "#Set the model to use target device\n",
        "model_1.to(device)"
      ],
      "metadata": {
        "colab": {
          "base_uri": "https://localhost:8080/"
        },
        "id": "xvNvFlqa00NP",
        "outputId": "293023b7-0a41-4089-9e29-b7d3bcf712c8"
      },
      "execution_count": null,
      "outputs": [
        {
          "output_type": "execute_result",
          "data": {
            "text/plain": [
              "LinearRegressionModelV2(\n",
              "  (linear_layer): Linear(in_features=1, out_features=1, bias=True)\n",
              ")"
            ]
          },
          "metadata": {},
          "execution_count": 50
        }
      ]
    },
    {
      "cell_type": "code",
      "source": [
        "next(model_1.parameters()).device\n"
      ],
      "metadata": {
        "colab": {
          "base_uri": "https://localhost:8080/"
        },
        "id": "CyR4rdpB2-Vu",
        "outputId": "67f3c0e9-8c33-45ae-98e4-a8b37caca368"
      },
      "execution_count": null,
      "outputs": [
        {
          "output_type": "execute_result",
          "data": {
            "text/plain": [
              "device(type='cuda', index=0)"
            ]
          },
          "metadata": {},
          "execution_count": 51
        }
      ]
    },
    {
      "cell_type": "markdown",
      "source": [
        "### 6.1 Training code\n",
        "\n",
        "For training we need:\n",
        "* Loss function\n",
        "* Optimizer\n",
        "* Training loop\n",
        "* Testing loop"
      ],
      "metadata": {
        "id": "HTV2uO1W3BwZ"
      }
    },
    {
      "cell_type": "code",
      "source": [
        "loss_fn = nn.L1Loss()\n",
        "\n",
        "optimizer = torch.optim.SGD(params= model_1.parameters(),\n",
        "                            lr=0.001)\n"
      ],
      "metadata": {
        "id": "yTZvsY6U3MOm"
      },
      "execution_count": null,
      "outputs": []
    },
    {
      "cell_type": "code",
      "source": [
        "device\n"
      ],
      "metadata": {
        "colab": {
          "base_uri": "https://localhost:8080/",
          "height": 35
        },
        "id": "Vs7ZgYN080XP",
        "outputId": "e0750c27-9fc2-486a-8012-275adae00410"
      },
      "execution_count": null,
      "outputs": [
        {
          "output_type": "execute_result",
          "data": {
            "text/plain": [
              "'cuda'"
            ],
            "application/vnd.google.colaboratory.intrinsic+json": {
              "type": "string"
            }
          },
          "metadata": {},
          "execution_count": 53
        }
      ]
    },
    {
      "cell_type": "code",
      "source": [
        "#Let's write a training loop\n",
        "torch.manual_seed(42)\n",
        "\n",
        "epochs=10000\n",
        "\n",
        "# Put data on target device (device agnostic code)\n",
        "\n",
        "X_train = X_train.to(device)\n",
        "y_train = y_train.to(device)\n",
        "X_test = X_test.to(device)\n",
        "y_test = y_test.to(device)\n",
        "\n",
        "for epoch in range(epochs):\n",
        "  model_1.train()\n",
        "\n",
        "  #1. Forward pass\n",
        "  y_pred = model_1(X_train)\n",
        "\n",
        "  #2. Calculate the loss\n",
        "  loss=loss_fn(y_pred,y_train)\n",
        "\n",
        "  #3. Optimizer zero grad\n",
        "  optimizer.zero_grad()\n",
        "\n",
        "  #4. Perform backpropagation\n",
        "  loss.backward()\n",
        "\n",
        "  #5. Optimizer step\n",
        "  optimizer.step()\n",
        "\n",
        "  ###Testing\n",
        "  model_1.eval()\n",
        "\n",
        "  with torch.inference_mode():\n",
        "    test_pred = model_1(X_test)\n",
        "\n",
        "    test_loss = loss_fn(test_pred, y_test)\n",
        "\n",
        "    #Print out what's happening\n",
        "\n",
        "    if epoch % 10 == 0:\n",
        "      print(f\"Epoch:{epoch} | Loss: {loss} | Test loss: {test_loss}\")"
      ],
      "metadata": {
        "colab": {
          "base_uri": "https://localhost:8080/"
        },
        "id": "sBbbW3t-32RI",
        "outputId": "eb3c5426-b997-4e58-f28a-2abb7ba8c352"
      },
      "execution_count": null,
      "outputs": [
        {
          "output_type": "stream",
          "name": "stdout",
          "text": [
            "Epoch:0 | Loss: 0.16281987726688385 | Test loss: 0.43146881461143494\n",
            "Epoch:10 | Loss: 0.15723328292369843 | Test loss: 0.42168474197387695\n",
            "Epoch:20 | Loss: 0.1521240472793579 | Test loss: 0.41235074400901794\n",
            "Epoch:30 | Loss: 0.14721716940402985 | Test loss: 0.40318652987480164\n",
            "Epoch:40 | Loss: 0.14293919503688812 | Test loss: 0.39453622698783875\n",
            "Epoch:50 | Loss: 0.1387808620929718 | Test loss: 0.38605985045433044\n",
            "Epoch:60 | Loss: 0.13509051501750946 | Test loss: 0.3779892027378082\n",
            "Epoch:70 | Loss: 0.1315327137708664 | Test loss: 0.37009531259536743\n",
            "Epoch:80 | Loss: 0.12838546931743622 | Test loss: 0.36261385679244995\n",
            "Epoch:90 | Loss: 0.12534503638744354 | Test loss: 0.35531172156333923\n",
            "Epoch:100 | Loss: 0.1226952075958252 | Test loss: 0.3484279215335846\n",
            "Epoch:110 | Loss: 0.12004537880420685 | Test loss: 0.3415442109107971\n",
            "Epoch:120 | Loss: 0.11782503128051758 | Test loss: 0.3352676331996918\n",
            "Epoch:130 | Loss: 0.11562669277191162 | Test loss: 0.3289911448955536\n",
            "Epoch:140 | Loss: 0.11364485323429108 | Test loss: 0.3230840265750885\n",
            "Epoch:150 | Loss: 0.11185093224048615 | Test loss: 0.3174232244491577\n",
            "Epoch:160 | Loss: 0.110057033598423 | Test loss: 0.31176242232322693\n",
            "Epoch:170 | Loss: 0.10856204479932785 | Test loss: 0.3066634237766266\n",
            "Epoch:180 | Loss: 0.10712476074695587 | Test loss: 0.30162686109542847\n",
            "Epoch:190 | Loss: 0.1056874543428421 | Test loss: 0.29659029841423035\n",
            "Epoch:200 | Loss: 0.1045030876994133 | Test loss: 0.29212409257888794\n",
            "Epoch:210 | Loss: 0.10337411612272263 | Test loss: 0.2877212464809418\n",
            "Epoch:220 | Loss: 0.10224514454603195 | Test loss: 0.2833184599876404\n",
            "Epoch:230 | Loss: 0.10119917243719101 | Test loss: 0.27917250990867615\n",
            "Epoch:240 | Loss: 0.10032904148101807 | Test loss: 0.2754119038581848\n",
            "Epoch:250 | Loss: 0.09945890307426453 | Test loss: 0.2716512382030487\n",
            "Epoch:260 | Loss: 0.09858876466751099 | Test loss: 0.2678906321525574\n",
            "Epoch:270 | Loss: 0.09774862974882126 | Test loss: 0.26426026225090027\n",
            "Epoch:280 | Loss: 0.09708694368600845 | Test loss: 0.26115089654922485\n",
            "Epoch:290 | Loss: 0.09642525762319565 | Test loss: 0.25804153084754944\n",
            "Epoch:300 | Loss: 0.09576359391212463 | Test loss: 0.254932165145874\n",
            "Epoch:310 | Loss: 0.09510191529989243 | Test loss: 0.2518227994441986\n",
            "Epoch:320 | Loss: 0.09444023668766022 | Test loss: 0.2487134486436844\n",
            "Epoch:330 | Loss: 0.09392901510000229 | Test loss: 0.24626436829566956\n",
            "Epoch:340 | Loss: 0.09342443197965622 | Test loss: 0.24381528794765472\n",
            "Epoch:350 | Loss: 0.09291984140872955 | Test loss: 0.2413662225008011\n",
            "Epoch:360 | Loss: 0.09241525083780289 | Test loss: 0.23891715705394745\n",
            "Epoch:370 | Loss: 0.09191066771745682 | Test loss: 0.23646807670593262\n",
            "Epoch:380 | Loss: 0.09140607714653015 | Test loss: 0.23401902616024017\n",
            "Epoch:390 | Loss: 0.09090149402618408 | Test loss: 0.23156993091106415\n",
            "Epoch:400 | Loss: 0.09049682319164276 | Test loss: 0.22979019582271576\n",
            "Epoch:410 | Loss: 0.0900968685746193 | Test loss: 0.2280104160308838\n",
            "Epoch:420 | Loss: 0.08969692885875702 | Test loss: 0.2262306660413742\n",
            "Epoch:430 | Loss: 0.08929698169231415 | Test loss: 0.22445087134838104\n",
            "Epoch:440 | Loss: 0.08889703452587128 | Test loss: 0.22267113626003265\n",
            "Epoch:450 | Loss: 0.0884970873594284 | Test loss: 0.2208913415670395\n",
            "Epoch:460 | Loss: 0.08809714019298553 | Test loss: 0.2191115915775299\n",
            "Epoch:470 | Loss: 0.08769719302654266 | Test loss: 0.21733181178569794\n",
            "Epoch:480 | Loss: 0.08729724586009979 | Test loss: 0.21555207669734955\n",
            "Epoch:490 | Loss: 0.08689729869365692 | Test loss: 0.21377229690551758\n",
            "Epoch:500 | Loss: 0.08649735152721405 | Test loss: 0.211992546916008\n",
            "Epoch:510 | Loss: 0.08613135665655136 | Test loss: 0.21068723499774933\n",
            "Epoch:520 | Loss: 0.08578234910964966 | Test loss: 0.2095852643251419\n",
            "Epoch:530 | Loss: 0.08543332666158676 | Test loss: 0.20848329365253448\n",
            "Epoch:540 | Loss: 0.08508431911468506 | Test loss: 0.20738132297992706\n",
            "Epoch:550 | Loss: 0.08473529666662216 | Test loss: 0.20627935230731964\n",
            "Epoch:560 | Loss: 0.08438628911972046 | Test loss: 0.20517738163471222\n",
            "Epoch:570 | Loss: 0.08403726667165756 | Test loss: 0.2040754109621048\n",
            "Epoch:580 | Loss: 0.08368825912475586 | Test loss: 0.20297344028949738\n",
            "Epoch:590 | Loss: 0.08333923667669296 | Test loss: 0.20187146961688995\n",
            "Epoch:600 | Loss: 0.08299022912979126 | Test loss: 0.20076949894428253\n",
            "Epoch:610 | Loss: 0.08264120668172836 | Test loss: 0.1996675282716751\n",
            "Epoch:620 | Loss: 0.08229219913482666 | Test loss: 0.1985655575990677\n",
            "Epoch:630 | Loss: 0.08194317668676376 | Test loss: 0.19746358692646027\n",
            "Epoch:640 | Loss: 0.08159416913986206 | Test loss: 0.19636161625385284\n",
            "Epoch:650 | Loss: 0.08124514669179916 | Test loss: 0.19525964558124542\n",
            "Epoch:660 | Loss: 0.08089613914489746 | Test loss: 0.194157674908638\n",
            "Epoch:670 | Loss: 0.08054711669683456 | Test loss: 0.19305570423603058\n",
            "Epoch:680 | Loss: 0.08019810914993286 | Test loss: 0.19195373356342316\n",
            "Epoch:690 | Loss: 0.07984908670186996 | Test loss: 0.19085176289081573\n",
            "Epoch:700 | Loss: 0.07950007915496826 | Test loss: 0.1897497922182083\n",
            "Epoch:710 | Loss: 0.07915105670690536 | Test loss: 0.1886478215456009\n",
            "Epoch:720 | Loss: 0.07880204916000366 | Test loss: 0.18754585087299347\n",
            "Epoch:730 | Loss: 0.07845302671194077 | Test loss: 0.18644388020038605\n",
            "Epoch:740 | Loss: 0.07810401916503906 | Test loss: 0.18534190952777863\n",
            "Epoch:750 | Loss: 0.07775499671697617 | Test loss: 0.1842399388551712\n",
            "Epoch:760 | Loss: 0.07740598917007446 | Test loss: 0.18313796818256378\n",
            "Epoch:770 | Loss: 0.07705696672201157 | Test loss: 0.18203599750995636\n",
            "Epoch:780 | Loss: 0.07670795917510986 | Test loss: 0.18093402683734894\n",
            "Epoch:790 | Loss: 0.07635893672704697 | Test loss: 0.17983205616474152\n",
            "Epoch:800 | Loss: 0.07600992918014526 | Test loss: 0.1787300854921341\n",
            "Epoch:810 | Loss: 0.07566090673208237 | Test loss: 0.17762811481952667\n",
            "Epoch:820 | Loss: 0.07531189918518066 | Test loss: 0.17652614414691925\n",
            "Epoch:830 | Loss: 0.07496287673711777 | Test loss: 0.17542417347431183\n",
            "Epoch:840 | Loss: 0.07461514323949814 | Test loss: 0.17439086735248566\n",
            "Epoch:850 | Loss: 0.07427122443914413 | Test loss: 0.17356359958648682\n",
            "Epoch:860 | Loss: 0.07392814010381699 | Test loss: 0.172805055975914\n",
            "Epoch:870 | Loss: 0.07358469069004059 | Test loss: 0.17197781801223755\n",
            "Epoch:880 | Loss: 0.07324077934026718 | Test loss: 0.1711505651473999\n",
            "Epoch:890 | Loss: 0.07289785146713257 | Test loss: 0.1703919768333435\n",
            "Epoch:900 | Loss: 0.07255423069000244 | Test loss: 0.16956473886966705\n",
            "Epoch:910 | Loss: 0.07221042364835739 | Test loss: 0.16880618035793304\n",
            "Epoch:920 | Loss: 0.07186754792928696 | Test loss: 0.1679789423942566\n",
            "Epoch:930 | Loss: 0.07152377814054489 | Test loss: 0.16715168952941895\n",
            "Epoch:940 | Loss: 0.07118012756109238 | Test loss: 0.16639313101768494\n",
            "Epoch:950 | Loss: 0.07083723694086075 | Test loss: 0.16556589305400848\n",
            "Epoch:960 | Loss: 0.07049331814050674 | Test loss: 0.16473865509033203\n",
            "Epoch:970 | Loss: 0.07014983147382736 | Test loss: 0.16398006677627563\n",
            "Epoch:980 | Loss: 0.0698067843914032 | Test loss: 0.16315284371376038\n",
            "Epoch:990 | Loss: 0.0694628655910492 | Test loss: 0.16232559084892273\n",
            "Epoch:1000 | Loss: 0.06911953538656235 | Test loss: 0.1615670621395111\n",
            "Epoch:1010 | Loss: 0.06877632439136505 | Test loss: 0.16073976457118988\n",
            "Epoch:1020 | Loss: 0.06843241304159164 | Test loss: 0.15991252660751343\n",
            "Epoch:1030 | Loss: 0.06808923929929733 | Test loss: 0.15915395319461823\n",
            "Epoch:1040 | Loss: 0.0677458792924881 | Test loss: 0.15832671523094177\n",
            "Epoch:1050 | Loss: 0.0674019604921341 | Test loss: 0.15749947726726532\n",
            "Epoch:1060 | Loss: 0.06705894321203232 | Test loss: 0.15674090385437012\n",
            "Epoch:1070 | Loss: 0.06671541184186935 | Test loss: 0.15591366589069366\n",
            "Epoch:1080 | Loss: 0.06637151539325714 | Test loss: 0.15515510737895966\n",
            "Epoch:1090 | Loss: 0.0660286471247673 | Test loss: 0.154327854514122\n",
            "Epoch:1100 | Loss: 0.0656849592924118 | Test loss: 0.15350061655044556\n",
            "Epoch:1110 | Loss: 0.06534122675657272 | Test loss: 0.15274207293987274\n",
            "Epoch:1120 | Loss: 0.06499835103750229 | Test loss: 0.1519147753715515\n",
            "Epoch:1130 | Loss: 0.06465449929237366 | Test loss: 0.15108753740787506\n",
            "Epoch:1140 | Loss: 0.06431092321872711 | Test loss: 0.15032897889614105\n",
            "Epoch:1150 | Loss: 0.06396796554327011 | Test loss: 0.1495017409324646\n",
            "Epoch:1160 | Loss: 0.06362404674291611 | Test loss: 0.14867448806762695\n",
            "Epoch:1170 | Loss: 0.0632806345820427 | Test loss: 0.14791592955589294\n",
            "Epoch:1180 | Loss: 0.06293749809265137 | Test loss: 0.1470886915922165\n",
            "Epoch:1190 | Loss: 0.06259404867887497 | Test loss: 0.14629575610160828\n",
            "Epoch:1200 | Loss: 0.06225031614303589 | Test loss: 0.14546851813793182\n",
            "Epoch:1210 | Loss: 0.06190663203597069 | Test loss: 0.14470992982387543\n",
            "Epoch:1220 | Loss: 0.06156374141573906 | Test loss: 0.14388269186019897\n",
            "Epoch:1230 | Loss: 0.06121986731886864 | Test loss: 0.14305545389652252\n",
            "Epoch:1240 | Loss: 0.06087633594870567 | Test loss: 0.14229688048362732\n",
            "Epoch:1250 | Loss: 0.060533322393894196 | Test loss: 0.14146964251995087\n",
            "Epoch:1260 | Loss: 0.060189422219991684 | Test loss: 0.140642449259758\n",
            "Epoch:1270 | Loss: 0.05984605476260185 | Test loss: 0.13988400995731354\n",
            "Epoch:1280 | Loss: 0.05950292572379112 | Test loss: 0.13905689120292664\n",
            "Epoch:1290 | Loss: 0.05915902182459831 | Test loss: 0.13822975754737854\n",
            "Epoch:1300 | Loss: 0.05881581827998161 | Test loss: 0.13747131824493408\n",
            "Epoch:1310 | Loss: 0.058472540229558945 | Test loss: 0.1366441696882248\n",
            "Epoch:1320 | Loss: 0.05812864378094673 | Test loss: 0.1358170360326767\n",
            "Epoch:1330 | Loss: 0.057785581797361374 | Test loss: 0.13505861163139343\n",
            "Epoch:1340 | Loss: 0.05744215473532677 | Test loss: 0.13423143327236176\n",
            "Epoch:1350 | Loss: 0.05709826946258545 | Test loss: 0.13340429961681366\n",
            "Epoch:1360 | Loss: 0.05675535276532173 | Test loss: 0.1326458901166916\n",
            "Epoch:1370 | Loss: 0.05641177296638489 | Test loss: 0.1318187564611435\n",
            "Epoch:1380 | Loss: 0.056067973375320435 | Test loss: 0.13106033205986023\n",
            "Epoch:1390 | Loss: 0.05572511628270149 | Test loss: 0.13023316860198975\n",
            "Epoch:1400 | Loss: 0.055381376296281815 | Test loss: 0.12940602004528046\n",
            "Epoch:1410 | Loss: 0.05503774806857109 | Test loss: 0.1286476105451584\n",
            "Epoch:1420 | Loss: 0.054694246500730515 | Test loss: 0.1277860850095749\n",
            "Epoch:1430 | Loss: 0.05435119941830635 | Test loss: 0.12702766060829163\n",
            "Epoch:1440 | Loss: 0.054007746279239655 | Test loss: 0.12620051205158234\n",
            "Epoch:1450 | Loss: 0.05366387590765953 | Test loss: 0.12537337839603424\n",
            "Epoch:1460 | Loss: 0.053320955485105515 | Test loss: 0.12461494654417038\n",
            "Epoch:1470 | Loss: 0.05297737196087837 | Test loss: 0.12378779798746109\n",
            "Epoch:1480 | Loss: 0.05263359472155571 | Test loss: 0.12302938848733902\n",
            "Epoch:1490 | Loss: 0.05229073390364647 | Test loss: 0.12220223248004913\n",
            "Epoch:1500 | Loss: 0.0519469790160656 | Test loss: 0.12137509882450104\n",
            "Epoch:1510 | Loss: 0.051603347063064575 | Test loss: 0.12061665207147598\n",
            "Epoch:1520 | Loss: 0.051260482519865036 | Test loss: 0.11978951841592789\n",
            "Epoch:1530 | Loss: 0.05091659352183342 | Test loss: 0.11896238476037979\n",
            "Epoch:1540 | Loss: 0.05057311803102493 | Test loss: 0.11820395290851593\n",
            "Epoch:1550 | Loss: 0.05023009702563286 | Test loss: 0.11737680435180664\n",
            "Epoch:1560 | Loss: 0.04988620802760124 | Test loss: 0.11654970794916153\n",
            "Epoch:1570 | Loss: 0.049542881548404694 | Test loss: 0.11579125374555588\n",
            "Epoch:1580 | Loss: 0.04919971525669098 | Test loss: 0.11496410518884659\n",
            "Epoch:1590 | Loss: 0.048855822533369064 | Test loss: 0.1141369566321373\n",
            "Epoch:1600 | Loss: 0.048512645065784454 | Test loss: 0.11337852478027344\n",
            "Epoch:1610 | Loss: 0.0481693334877491 | Test loss: 0.11255140602588654\n",
            "Epoch:1620 | Loss: 0.04782543703913689 | Test loss: 0.11172425746917725\n",
            "Epoch:1630 | Loss: 0.04748240485787392 | Test loss: 0.11096581071615219\n",
            "Epoch:1640 | Loss: 0.047138940542936325 | Test loss: 0.1101386770606041\n",
            "Epoch:1650 | Loss: 0.04679505154490471 | Test loss: 0.1093115583062172\n",
            "Epoch:1660 | Loss: 0.04645217955112457 | Test loss: 0.10855310410261154\n",
            "Epoch:1670 | Loss: 0.04610855504870415 | Test loss: 0.10772597044706345\n",
            "Epoch:1680 | Loss: 0.045764800161123276 | Test loss: 0.10696753114461899\n",
            "Epoch:1690 | Loss: 0.045421939343214035 | Test loss: 0.10614041239023209\n",
            "Epoch:1700 | Loss: 0.04507816955447197 | Test loss: 0.10531323403120041\n",
            "Epoch:1710 | Loss: 0.044734567403793335 | Test loss: 0.10455483198165894\n",
            "Epoch:1720 | Loss: 0.04439166933298111 | Test loss: 0.10372769832611084\n",
            "Epoch:1730 | Loss: 0.04404779151082039 | Test loss: 0.10290052741765976\n",
            "Epoch:1740 | Loss: 0.0437043271958828 | Test loss: 0.10214213281869888\n",
            "Epoch:1750 | Loss: 0.04336129501461983 | Test loss: 0.1013149619102478\n",
            "Epoch:1760 | Loss: 0.043017398566007614 | Test loss: 0.1004878431558609\n",
            "Epoch:1770 | Loss: 0.04267410561442375 | Test loss: 0.09972941875457764\n",
            "Epoch:1780 | Loss: 0.04233090206980705 | Test loss: 0.09890226274728775\n",
            "Epoch:1790 | Loss: 0.041987013071775436 | Test loss: 0.09807512909173965\n",
            "Epoch:1800 | Loss: 0.04164385423064232 | Test loss: 0.0973166823387146\n",
            "Epoch:1810 | Loss: 0.041300516575574875 | Test loss: 0.0964895486831665\n",
            "Epoch:1820 | Loss: 0.040956635028123856 | Test loss: 0.09566239267587662\n",
            "Epoch:1830 | Loss: 0.04061362147331238 | Test loss: 0.09490398317575455\n",
            "Epoch:1840 | Loss: 0.040270138531923294 | Test loss: 0.09407684952020645\n",
            "Epoch:1850 | Loss: 0.03992624580860138 | Test loss: 0.09328403323888779\n",
            "Epoch:1860 | Loss: 0.039583005011081696 | Test loss: 0.09245691448450089\n",
            "Epoch:1870 | Loss: 0.039239708334207535 | Test loss: 0.09169846773147583\n",
            "Epoch:1880 | Loss: 0.03889650106430054 | Test loss: 0.09087132662534714\n",
            "Epoch:1890 | Loss: 0.03855261206626892 | Test loss: 0.09004419296979904\n",
            "Epoch:1900 | Loss: 0.0382094644010067 | Test loss: 0.08928575366735458\n",
            "Epoch:1910 | Loss: 0.037866123020648956 | Test loss: 0.08845861256122589\n",
            "Epoch:1920 | Loss: 0.03752223029732704 | Test loss: 0.0876314640045166\n",
            "Epoch:1930 | Loss: 0.037179216742515564 | Test loss: 0.08687303215265274\n",
            "Epoch:1940 | Loss: 0.03683573752641678 | Test loss: 0.08604589849710464\n",
            "Epoch:1950 | Loss: 0.03649185225367546 | Test loss: 0.08528748899698257\n",
            "Epoch:1960 | Loss: 0.03614899516105652 | Test loss: 0.08446034044027328\n",
            "Epoch:1970 | Loss: 0.035805344581604004 | Test loss: 0.0836331844329834\n",
            "Epoch:1980 | Loss: 0.03546162322163582 | Test loss: 0.08287476748228073\n",
            "Epoch:1990 | Loss: 0.03511876240372658 | Test loss: 0.08204761892557144\n",
            "Epoch:2000 | Loss: 0.034774959087371826 | Test loss: 0.08122048527002335\n",
            "Epoch:2010 | Loss: 0.03443138673901558 | Test loss: 0.08046203851699829\n",
            "Epoch:2020 | Loss: 0.03408845141530037 | Test loss: 0.0796349048614502\n",
            "Epoch:2030 | Loss: 0.033744581043720245 | Test loss: 0.0788077861070633\n",
            "Epoch:2040 | Loss: 0.03340115770697594 | Test loss: 0.07804933935403824\n",
            "Epoch:2050 | Loss: 0.033058084547519684 | Test loss: 0.07722220569849014\n",
            "Epoch:2060 | Loss: 0.03271419554948807 | Test loss: 0.07639505714178085\n",
            "Epoch:2070 | Loss: 0.03237093612551689 | Test loss: 0.07563662528991699\n",
            "Epoch:2080 | Loss: 0.03202769532799721 | Test loss: 0.0748094916343689\n",
            "Epoch:2090 | Loss: 0.03168381005525589 | Test loss: 0.0739823505282402\n",
            "Epoch:2100 | Loss: 0.03134068101644516 | Test loss: 0.07322391122579575\n",
            "Epoch:2110 | Loss: 0.03099730610847473 | Test loss: 0.07239677757024765\n",
            "Epoch:2120 | Loss: 0.030653417110443115 | Test loss: 0.07156963646411896\n",
            "Epoch:2130 | Loss: 0.030310440808534622 | Test loss: 0.07081123441457748\n",
            "Epoch:2140 | Loss: 0.029966926202178 | Test loss: 0.0699840560555458\n",
            "Epoch:2150 | Loss: 0.029623061418533325 | Test loss: 0.06922563165426254\n",
            "Epoch:2160 | Loss: 0.029280204325914383 | Test loss: 0.06839849799871445\n",
            "Epoch:2170 | Loss: 0.028936535120010376 | Test loss: 0.06757135689258575\n",
            "Epoch:2180 | Loss: 0.028592824935913086 | Test loss: 0.0668129250407219\n",
            "Epoch:2190 | Loss: 0.028249967843294144 | Test loss: 0.0659857913851738\n",
            "Epoch:2200 | Loss: 0.027906155213713646 | Test loss: 0.06515862792730331\n",
            "Epoch:2210 | Loss: 0.02756260149180889 | Test loss: 0.06440021097660065\n",
            "Epoch:2220 | Loss: 0.027219653129577637 | Test loss: 0.06357307732105255\n",
            "Epoch:2230 | Loss: 0.02687576413154602 | Test loss: 0.06274592876434326\n",
            "Epoch:2240 | Loss: 0.026532357558608055 | Test loss: 0.0619874969124794\n",
            "Epoch:2250 | Loss: 0.02618926763534546 | Test loss: 0.061160363256931305\n",
            "Epoch:2260 | Loss: 0.02584538795053959 | Test loss: 0.06033322960138321\n",
            "Epoch:2270 | Loss: 0.025502121075987816 | Test loss: 0.059574760496616364\n",
            "Epoch:2280 | Loss: 0.02515888214111328 | Test loss: 0.058747660368680954\n",
            "Epoch:2290 | Loss: 0.02481558732688427 | Test loss: 0.0579548254609108\n",
            "Epoch:2300 | Loss: 0.024471750482916832 | Test loss: 0.05712772533297539\n",
            "Epoch:2310 | Loss: 0.024128206074237823 | Test loss: 0.056369271129369736\n",
            "Epoch:2320 | Loss: 0.023785239085555077 | Test loss: 0.05554213747382164\n",
            "Epoch:2330 | Loss: 0.023441368713974953 | Test loss: 0.054715003818273544\n",
            "Epoch:2340 | Loss: 0.023097973316907883 | Test loss: 0.053956545889377594\n",
            "Epoch:2350 | Loss: 0.02275487221777439 | Test loss: 0.053129423409700394\n",
            "Epoch:2360 | Loss: 0.022410983219742775 | Test loss: 0.0523022785782814\n",
            "Epoch:2370 | Loss: 0.02206774428486824 | Test loss: 0.05154386907815933\n",
            "Epoch:2380 | Loss: 0.021724490448832512 | Test loss: 0.05071672424674034\n",
            "Epoch:2390 | Loss: 0.021380601450800896 | Test loss: 0.04988957569003105\n",
            "Epoch:2400 | Loss: 0.021037502214312553 | Test loss: 0.049131132662296295\n",
            "Epoch:2410 | Loss: 0.020694099366664886 | Test loss: 0.0483039990067482\n",
            "Epoch:2420 | Loss: 0.02035020850598812 | Test loss: 0.047476865351200104\n",
            "Epoch:2430 | Loss: 0.020007262006402016 | Test loss: 0.04671845585107803\n",
            "Epoch:2440 | Loss: 0.019663715735077858 | Test loss: 0.04589128494262695\n",
            "Epoch:2450 | Loss: 0.01931988261640072 | Test loss: 0.04513285309076309\n",
            "Epoch:2460 | Loss: 0.018977021798491478 | Test loss: 0.044305719435214996\n",
            "Epoch:2470 | Loss: 0.01863332837820053 | Test loss: 0.0434785857796669\n",
            "Epoch:2480 | Loss: 0.018289653584361076 | Test loss: 0.04272015020251274\n",
            "Epoch:2490 | Loss: 0.017946792766451836 | Test loss: 0.04189300537109375\n",
            "Epoch:2500 | Loss: 0.017602944746613503 | Test loss: 0.04106588289141655\n",
            "Epoch:2510 | Loss: 0.017259420827031136 | Test loss: 0.04030743986368179\n",
            "Epoch:2520 | Loss: 0.016916444525122643 | Test loss: 0.0394803062081337\n",
            "Epoch:2530 | Loss: 0.016572557389736176 | Test loss: 0.038653161376714706\n",
            "Epoch:2540 | Loss: 0.016229180619120598 | Test loss: 0.03789472579956055\n",
            "Epoch:2550 | Loss: 0.015886057168245316 | Test loss: 0.037067580968141556\n",
            "Epoch:2560 | Loss: 0.015542173758149147 | Test loss: 0.03624044731259346\n",
            "Epoch:2570 | Loss: 0.015198947861790657 | Test loss: 0.035481978207826614\n",
            "Epoch:2580 | Loss: 0.014855674467980862 | Test loss: 0.03465486690402031\n",
            "Epoch:2590 | Loss: 0.014511785469949245 | Test loss: 0.033827733248472214\n",
            "Epoch:2600 | Loss: 0.014168712310492992 | Test loss: 0.03306931257247925\n",
            "Epoch:2610 | Loss: 0.013825292699038982 | Test loss: 0.03224217891693115\n",
            "Epoch:2620 | Loss: 0.01348140835762024 | Test loss: 0.031415022909641266\n",
            "Epoch:2630 | Loss: 0.013138475827872753 | Test loss: 0.030656589195132256\n",
            "Epoch:2640 | Loss: 0.01279490627348423 | Test loss: 0.029829442501068115\n",
            "Epoch:2650 | Loss: 0.012451096437871456 | Test loss: 0.02907102182507515\n",
            "Epoch:2660 | Loss: 0.012108239345252514 | Test loss: 0.02824387513101101\n",
            "Epoch:2670 | Loss: 0.011764518916606903 | Test loss: 0.027416741475462914\n",
            "Epoch:2680 | Loss: 0.011420860886573792 | Test loss: 0.026658309623599052\n",
            "Epoch:2690 | Loss: 0.011077987030148506 | Test loss: 0.025831175968050957\n",
            "Epoch:2700 | Loss: 0.01073413621634245 | Test loss: 0.025004029273986816\n",
            "Epoch:2710 | Loss: 0.010390627197921276 | Test loss: 0.024245595559477806\n",
            "Epoch:2720 | Loss: 0.01004700269550085 | Test loss: 0.023384083062410355\n",
            "Epoch:2730 | Loss: 0.009704085998237133 | Test loss: 0.02262566052377224\n",
            "Epoch:2740 | Loss: 0.009360507130622864 | Test loss: 0.021798526868224144\n",
            "Epoch:2750 | Loss: 0.00901670753955841 | Test loss: 0.02104008197784424\n",
            "Epoch:2760 | Loss: 0.008673853240907192 | Test loss: 0.020212937146425247\n",
            "Epoch:2770 | Loss: 0.008330120705068111 | Test loss: 0.019385790452361107\n",
            "Epoch:2780 | Loss: 0.007986473850905895 | Test loss: 0.01862736977636814\n",
            "Epoch:2790 | Loss: 0.007643608842045069 | Test loss: 0.01780024729669094\n",
            "Epoch:2800 | Loss: 0.00729973753914237 | Test loss: 0.016973091289401054\n",
            "Epoch:2810 | Loss: 0.006956242024898529 | Test loss: 0.016214657574892044\n",
            "Epoch:2820 | Loss: 0.006613239645957947 | Test loss: 0.015387511812150478\n",
            "Epoch:2830 | Loss: 0.006269350647926331 | Test loss: 0.014560378156602383\n",
            "Epoch:2840 | Loss: 0.005925999488681555 | Test loss: 0.013801956549286842\n",
            "Epoch:2850 | Loss: 0.005582854151725769 | Test loss: 0.012974822893738747\n",
            "Epoch:2860 | Loss: 0.005238963756710291 | Test loss: 0.012147677130997181\n",
            "Epoch:2870 | Loss: 0.004895767662674189 | Test loss: 0.01138926763087511\n",
            "Epoch:2880 | Loss: 0.0045524644665420055 | Test loss: 0.01056209858506918\n",
            "Epoch:2890 | Loss: 0.00420857360586524 | Test loss: 0.009734964929521084\n",
            "Epoch:2900 | Loss: 0.0038655325770378113 | Test loss: 0.008976543322205544\n",
            "Epoch:2910 | Loss: 0.003522080136463046 | Test loss: 0.008149421773850918\n",
            "Epoch:2920 | Loss: 0.0031781941652297974 | Test loss: 0.007322228047996759\n",
            "Epoch:2930 | Loss: 0.00283529469743371 | Test loss: 0.006563818547874689\n",
            "Epoch:2940 | Loss: 0.0024916918482631445 | Test loss: 0.005736672785133123\n",
            "Epoch:2950 | Loss: 0.002147922059521079 | Test loss: 0.00497825164347887\n",
            "Epoch:2960 | Loss: 0.0018050611251965165 | Test loss: 0.004151105880737305\n",
            "Epoch:2970 | Loss: 0.001461312174797058 | Test loss: 0.0033239603508263826\n",
            "Epoch:2980 | Loss: 0.001117685460485518 | Test loss: 0.002565538976341486\n",
            "Epoch:2990 | Loss: 0.0007748142234049737 | Test loss: 0.0017383814556524158\n",
            "Epoch:3000 | Loss: 0.0004309222276788205 | Test loss: 0.0009112477418966591\n",
            "Epoch:3010 | Loss: 0.000787164259236306 | Test loss: 0.0007549047586508095\n",
            "Epoch:3020 | Loss: 0.000787164259236306 | Test loss: 0.0007549047586508095\n",
            "Epoch:3030 | Loss: 0.000787164259236306 | Test loss: 0.0007549047586508095\n",
            "Epoch:3040 | Loss: 0.000787164259236306 | Test loss: 0.0007549047586508095\n",
            "Epoch:3050 | Loss: 0.000787164259236306 | Test loss: 0.0007549047586508095\n",
            "Epoch:3060 | Loss: 0.000787164259236306 | Test loss: 0.0007549047586508095\n",
            "Epoch:3070 | Loss: 0.000787164259236306 | Test loss: 0.0007549047586508095\n",
            "Epoch:3080 | Loss: 0.000787164259236306 | Test loss: 0.0007549047586508095\n",
            "Epoch:3090 | Loss: 0.000787164259236306 | Test loss: 0.0007549047586508095\n",
            "Epoch:3100 | Loss: 0.000787164259236306 | Test loss: 0.0007549047586508095\n",
            "Epoch:3110 | Loss: 0.000787164259236306 | Test loss: 0.0007549047586508095\n",
            "Epoch:3120 | Loss: 0.000787164259236306 | Test loss: 0.0007549047586508095\n",
            "Epoch:3130 | Loss: 0.000787164259236306 | Test loss: 0.0007549047586508095\n",
            "Epoch:3140 | Loss: 0.000787164259236306 | Test loss: 0.0007549047586508095\n",
            "Epoch:3150 | Loss: 0.000787164259236306 | Test loss: 0.0007549047586508095\n",
            "Epoch:3160 | Loss: 0.000787164259236306 | Test loss: 0.0007549047586508095\n",
            "Epoch:3170 | Loss: 0.000787164259236306 | Test loss: 0.0007549047586508095\n",
            "Epoch:3180 | Loss: 0.000787164259236306 | Test loss: 0.0007549047586508095\n",
            "Epoch:3190 | Loss: 0.000787164259236306 | Test loss: 0.0007549047586508095\n",
            "Epoch:3200 | Loss: 0.000787164259236306 | Test loss: 0.0007549047586508095\n",
            "Epoch:3210 | Loss: 0.000787164259236306 | Test loss: 0.0007549047586508095\n",
            "Epoch:3220 | Loss: 0.000787164259236306 | Test loss: 0.0007549047586508095\n",
            "Epoch:3230 | Loss: 0.000787164259236306 | Test loss: 0.0007549047586508095\n",
            "Epoch:3240 | Loss: 0.000787164259236306 | Test loss: 0.0007549047586508095\n",
            "Epoch:3250 | Loss: 0.000787164259236306 | Test loss: 0.0007549047586508095\n",
            "Epoch:3260 | Loss: 0.000787164259236306 | Test loss: 0.0007549047586508095\n",
            "Epoch:3270 | Loss: 0.000787164259236306 | Test loss: 0.0007549047586508095\n",
            "Epoch:3280 | Loss: 0.000787164259236306 | Test loss: 0.0007549047586508095\n",
            "Epoch:3290 | Loss: 0.000787164259236306 | Test loss: 0.0007549047586508095\n",
            "Epoch:3300 | Loss: 0.000787164259236306 | Test loss: 0.0007549047586508095\n",
            "Epoch:3310 | Loss: 0.000787164259236306 | Test loss: 0.0007549047586508095\n",
            "Epoch:3320 | Loss: 0.000787164259236306 | Test loss: 0.0007549047586508095\n",
            "Epoch:3330 | Loss: 0.000787164259236306 | Test loss: 0.0007549047586508095\n",
            "Epoch:3340 | Loss: 0.000787164259236306 | Test loss: 0.0007549047586508095\n",
            "Epoch:3350 | Loss: 0.000787164259236306 | Test loss: 0.0007549047586508095\n",
            "Epoch:3360 | Loss: 0.000787164259236306 | Test loss: 0.0007549047586508095\n",
            "Epoch:3370 | Loss: 0.000787164259236306 | Test loss: 0.0007549047586508095\n",
            "Epoch:3380 | Loss: 0.000787164259236306 | Test loss: 0.0007549047586508095\n",
            "Epoch:3390 | Loss: 0.000787164259236306 | Test loss: 0.0007549047586508095\n",
            "Epoch:3400 | Loss: 0.000787164259236306 | Test loss: 0.0007549047586508095\n",
            "Epoch:3410 | Loss: 0.000787164259236306 | Test loss: 0.0007549047586508095\n",
            "Epoch:3420 | Loss: 0.000787164259236306 | Test loss: 0.0007549047586508095\n",
            "Epoch:3430 | Loss: 0.000787164259236306 | Test loss: 0.0007549047586508095\n",
            "Epoch:3440 | Loss: 0.000787164259236306 | Test loss: 0.0007549047586508095\n",
            "Epoch:3450 | Loss: 0.000787164259236306 | Test loss: 0.0007549047586508095\n",
            "Epoch:3460 | Loss: 0.000787164259236306 | Test loss: 0.0007549047586508095\n",
            "Epoch:3470 | Loss: 0.000787164259236306 | Test loss: 0.0007549047586508095\n",
            "Epoch:3480 | Loss: 0.000787164259236306 | Test loss: 0.0007549047586508095\n",
            "Epoch:3490 | Loss: 0.000787164259236306 | Test loss: 0.0007549047586508095\n",
            "Epoch:3500 | Loss: 0.000787164259236306 | Test loss: 0.0007549047586508095\n",
            "Epoch:3510 | Loss: 0.000787164259236306 | Test loss: 0.0007549047586508095\n",
            "Epoch:3520 | Loss: 0.000787164259236306 | Test loss: 0.0007549047586508095\n",
            "Epoch:3530 | Loss: 0.000787164259236306 | Test loss: 0.0007549047586508095\n",
            "Epoch:3540 | Loss: 0.000787164259236306 | Test loss: 0.0007549047586508095\n",
            "Epoch:3550 | Loss: 0.000787164259236306 | Test loss: 0.0007549047586508095\n",
            "Epoch:3560 | Loss: 0.000787164259236306 | Test loss: 0.0007549047586508095\n",
            "Epoch:3570 | Loss: 0.000787164259236306 | Test loss: 0.0007549047586508095\n",
            "Epoch:3580 | Loss: 0.000787164259236306 | Test loss: 0.0007549047586508095\n",
            "Epoch:3590 | Loss: 0.000787164259236306 | Test loss: 0.0007549047586508095\n",
            "Epoch:3600 | Loss: 0.000787164259236306 | Test loss: 0.0007549047586508095\n",
            "Epoch:3610 | Loss: 0.000787164259236306 | Test loss: 0.0007549047586508095\n",
            "Epoch:3620 | Loss: 0.000787164259236306 | Test loss: 0.0007549047586508095\n",
            "Epoch:3630 | Loss: 0.000787164259236306 | Test loss: 0.0007549047586508095\n",
            "Epoch:3640 | Loss: 0.000787164259236306 | Test loss: 0.0007549047586508095\n",
            "Epoch:3650 | Loss: 0.000787164259236306 | Test loss: 0.0007549047586508095\n",
            "Epoch:3660 | Loss: 0.000787164259236306 | Test loss: 0.0007549047586508095\n",
            "Epoch:3670 | Loss: 0.000787164259236306 | Test loss: 0.0007549047586508095\n",
            "Epoch:3680 | Loss: 0.000787164259236306 | Test loss: 0.0007549047586508095\n",
            "Epoch:3690 | Loss: 0.000787164259236306 | Test loss: 0.0007549047586508095\n",
            "Epoch:3700 | Loss: 0.000787164259236306 | Test loss: 0.0007549047586508095\n",
            "Epoch:3710 | Loss: 0.000787164259236306 | Test loss: 0.0007549047586508095\n",
            "Epoch:3720 | Loss: 0.000787164259236306 | Test loss: 0.0007549047586508095\n",
            "Epoch:3730 | Loss: 0.000787164259236306 | Test loss: 0.0007549047586508095\n",
            "Epoch:3740 | Loss: 0.000787164259236306 | Test loss: 0.0007549047586508095\n",
            "Epoch:3750 | Loss: 0.000787164259236306 | Test loss: 0.0007549047586508095\n",
            "Epoch:3760 | Loss: 0.000787164259236306 | Test loss: 0.0007549047586508095\n",
            "Epoch:3770 | Loss: 0.000787164259236306 | Test loss: 0.0007549047586508095\n",
            "Epoch:3780 | Loss: 0.000787164259236306 | Test loss: 0.0007549047586508095\n",
            "Epoch:3790 | Loss: 0.000787164259236306 | Test loss: 0.0007549047586508095\n",
            "Epoch:3800 | Loss: 0.000787164259236306 | Test loss: 0.0007549047586508095\n",
            "Epoch:3810 | Loss: 0.000787164259236306 | Test loss: 0.0007549047586508095\n",
            "Epoch:3820 | Loss: 0.000787164259236306 | Test loss: 0.0007549047586508095\n",
            "Epoch:3830 | Loss: 0.000787164259236306 | Test loss: 0.0007549047586508095\n",
            "Epoch:3840 | Loss: 0.000787164259236306 | Test loss: 0.0007549047586508095\n",
            "Epoch:3850 | Loss: 0.000787164259236306 | Test loss: 0.0007549047586508095\n",
            "Epoch:3860 | Loss: 0.000787164259236306 | Test loss: 0.0007549047586508095\n",
            "Epoch:3870 | Loss: 0.000787164259236306 | Test loss: 0.0007549047586508095\n",
            "Epoch:3880 | Loss: 0.000787164259236306 | Test loss: 0.0007549047586508095\n",
            "Epoch:3890 | Loss: 0.000787164259236306 | Test loss: 0.0007549047586508095\n",
            "Epoch:3900 | Loss: 0.000787164259236306 | Test loss: 0.0007549047586508095\n",
            "Epoch:3910 | Loss: 0.000787164259236306 | Test loss: 0.0007549047586508095\n",
            "Epoch:3920 | Loss: 0.000787164259236306 | Test loss: 0.0007549047586508095\n",
            "Epoch:3930 | Loss: 0.000787164259236306 | Test loss: 0.0007549047586508095\n",
            "Epoch:3940 | Loss: 0.000787164259236306 | Test loss: 0.0007549047586508095\n",
            "Epoch:3950 | Loss: 0.000787164259236306 | Test loss: 0.0007549047586508095\n",
            "Epoch:3960 | Loss: 0.000787164259236306 | Test loss: 0.0007549047586508095\n",
            "Epoch:3970 | Loss: 0.000787164259236306 | Test loss: 0.0007549047586508095\n",
            "Epoch:3980 | Loss: 0.000787164259236306 | Test loss: 0.0007549047586508095\n",
            "Epoch:3990 | Loss: 0.000787164259236306 | Test loss: 0.0007549047586508095\n",
            "Epoch:4000 | Loss: 0.000787164259236306 | Test loss: 0.0007549047586508095\n",
            "Epoch:4010 | Loss: 0.000787164259236306 | Test loss: 0.0007549047586508095\n",
            "Epoch:4020 | Loss: 0.000787164259236306 | Test loss: 0.0007549047586508095\n",
            "Epoch:4030 | Loss: 0.000787164259236306 | Test loss: 0.0007549047586508095\n",
            "Epoch:4040 | Loss: 0.000787164259236306 | Test loss: 0.0007549047586508095\n",
            "Epoch:4050 | Loss: 0.000787164259236306 | Test loss: 0.0007549047586508095\n",
            "Epoch:4060 | Loss: 0.000787164259236306 | Test loss: 0.0007549047586508095\n",
            "Epoch:4070 | Loss: 0.000787164259236306 | Test loss: 0.0007549047586508095\n",
            "Epoch:4080 | Loss: 0.000787164259236306 | Test loss: 0.0007549047586508095\n",
            "Epoch:4090 | Loss: 0.000787164259236306 | Test loss: 0.0007549047586508095\n",
            "Epoch:4100 | Loss: 0.000787164259236306 | Test loss: 0.0007549047586508095\n",
            "Epoch:4110 | Loss: 0.000787164259236306 | Test loss: 0.0007549047586508095\n",
            "Epoch:4120 | Loss: 0.000787164259236306 | Test loss: 0.0007549047586508095\n",
            "Epoch:4130 | Loss: 0.000787164259236306 | Test loss: 0.0007549047586508095\n",
            "Epoch:4140 | Loss: 0.000787164259236306 | Test loss: 0.0007549047586508095\n",
            "Epoch:4150 | Loss: 0.000787164259236306 | Test loss: 0.0007549047586508095\n",
            "Epoch:4160 | Loss: 0.000787164259236306 | Test loss: 0.0007549047586508095\n",
            "Epoch:4170 | Loss: 0.000787164259236306 | Test loss: 0.0007549047586508095\n",
            "Epoch:4180 | Loss: 0.000787164259236306 | Test loss: 0.0007549047586508095\n",
            "Epoch:4190 | Loss: 0.000787164259236306 | Test loss: 0.0007549047586508095\n",
            "Epoch:4200 | Loss: 0.000787164259236306 | Test loss: 0.0007549047586508095\n",
            "Epoch:4210 | Loss: 0.000787164259236306 | Test loss: 0.0007549047586508095\n",
            "Epoch:4220 | Loss: 0.000787164259236306 | Test loss: 0.0007549047586508095\n",
            "Epoch:4230 | Loss: 0.000787164259236306 | Test loss: 0.0007549047586508095\n",
            "Epoch:4240 | Loss: 0.000787164259236306 | Test loss: 0.0007549047586508095\n",
            "Epoch:4250 | Loss: 0.000787164259236306 | Test loss: 0.0007549047586508095\n",
            "Epoch:4260 | Loss: 0.000787164259236306 | Test loss: 0.0007549047586508095\n",
            "Epoch:4270 | Loss: 0.000787164259236306 | Test loss: 0.0007549047586508095\n",
            "Epoch:4280 | Loss: 0.000787164259236306 | Test loss: 0.0007549047586508095\n",
            "Epoch:4290 | Loss: 0.000787164259236306 | Test loss: 0.0007549047586508095\n",
            "Epoch:4300 | Loss: 0.000787164259236306 | Test loss: 0.0007549047586508095\n",
            "Epoch:4310 | Loss: 0.000787164259236306 | Test loss: 0.0007549047586508095\n",
            "Epoch:4320 | Loss: 0.000787164259236306 | Test loss: 0.0007549047586508095\n",
            "Epoch:4330 | Loss: 0.000787164259236306 | Test loss: 0.0007549047586508095\n",
            "Epoch:4340 | Loss: 0.000787164259236306 | Test loss: 0.0007549047586508095\n",
            "Epoch:4350 | Loss: 0.000787164259236306 | Test loss: 0.0007549047586508095\n",
            "Epoch:4360 | Loss: 0.000787164259236306 | Test loss: 0.0007549047586508095\n",
            "Epoch:4370 | Loss: 0.000787164259236306 | Test loss: 0.0007549047586508095\n",
            "Epoch:4380 | Loss: 0.000787164259236306 | Test loss: 0.0007549047586508095\n",
            "Epoch:4390 | Loss: 0.000787164259236306 | Test loss: 0.0007549047586508095\n",
            "Epoch:4400 | Loss: 0.000787164259236306 | Test loss: 0.0007549047586508095\n",
            "Epoch:4410 | Loss: 0.000787164259236306 | Test loss: 0.0007549047586508095\n",
            "Epoch:4420 | Loss: 0.000787164259236306 | Test loss: 0.0007549047586508095\n",
            "Epoch:4430 | Loss: 0.000787164259236306 | Test loss: 0.0007549047586508095\n",
            "Epoch:4440 | Loss: 0.000787164259236306 | Test loss: 0.0007549047586508095\n",
            "Epoch:4450 | Loss: 0.000787164259236306 | Test loss: 0.0007549047586508095\n",
            "Epoch:4460 | Loss: 0.000787164259236306 | Test loss: 0.0007549047586508095\n",
            "Epoch:4470 | Loss: 0.000787164259236306 | Test loss: 0.0007549047586508095\n",
            "Epoch:4480 | Loss: 0.000787164259236306 | Test loss: 0.0007549047586508095\n",
            "Epoch:4490 | Loss: 0.000787164259236306 | Test loss: 0.0007549047586508095\n",
            "Epoch:4500 | Loss: 0.000787164259236306 | Test loss: 0.0007549047586508095\n",
            "Epoch:4510 | Loss: 0.000787164259236306 | Test loss: 0.0007549047586508095\n",
            "Epoch:4520 | Loss: 0.000787164259236306 | Test loss: 0.0007549047586508095\n",
            "Epoch:4530 | Loss: 0.000787164259236306 | Test loss: 0.0007549047586508095\n",
            "Epoch:4540 | Loss: 0.000787164259236306 | Test loss: 0.0007549047586508095\n",
            "Epoch:4550 | Loss: 0.000787164259236306 | Test loss: 0.0007549047586508095\n",
            "Epoch:4560 | Loss: 0.000787164259236306 | Test loss: 0.0007549047586508095\n",
            "Epoch:4570 | Loss: 0.000787164259236306 | Test loss: 0.0007549047586508095\n",
            "Epoch:4580 | Loss: 0.000787164259236306 | Test loss: 0.0007549047586508095\n",
            "Epoch:4590 | Loss: 0.000787164259236306 | Test loss: 0.0007549047586508095\n",
            "Epoch:4600 | Loss: 0.000787164259236306 | Test loss: 0.0007549047586508095\n",
            "Epoch:4610 | Loss: 0.000787164259236306 | Test loss: 0.0007549047586508095\n",
            "Epoch:4620 | Loss: 0.000787164259236306 | Test loss: 0.0007549047586508095\n",
            "Epoch:4630 | Loss: 0.000787164259236306 | Test loss: 0.0007549047586508095\n",
            "Epoch:4640 | Loss: 0.000787164259236306 | Test loss: 0.0007549047586508095\n",
            "Epoch:4650 | Loss: 0.000787164259236306 | Test loss: 0.0007549047586508095\n",
            "Epoch:4660 | Loss: 0.000787164259236306 | Test loss: 0.0007549047586508095\n",
            "Epoch:4670 | Loss: 0.000787164259236306 | Test loss: 0.0007549047586508095\n",
            "Epoch:4680 | Loss: 0.000787164259236306 | Test loss: 0.0007549047586508095\n",
            "Epoch:4690 | Loss: 0.000787164259236306 | Test loss: 0.0007549047586508095\n",
            "Epoch:4700 | Loss: 0.000787164259236306 | Test loss: 0.0007549047586508095\n",
            "Epoch:4710 | Loss: 0.000787164259236306 | Test loss: 0.0007549047586508095\n",
            "Epoch:4720 | Loss: 0.000787164259236306 | Test loss: 0.0007549047586508095\n",
            "Epoch:4730 | Loss: 0.000787164259236306 | Test loss: 0.0007549047586508095\n",
            "Epoch:4740 | Loss: 0.000787164259236306 | Test loss: 0.0007549047586508095\n",
            "Epoch:4750 | Loss: 0.000787164259236306 | Test loss: 0.0007549047586508095\n",
            "Epoch:4760 | Loss: 0.000787164259236306 | Test loss: 0.0007549047586508095\n",
            "Epoch:4770 | Loss: 0.000787164259236306 | Test loss: 0.0007549047586508095\n",
            "Epoch:4780 | Loss: 0.000787164259236306 | Test loss: 0.0007549047586508095\n",
            "Epoch:4790 | Loss: 0.000787164259236306 | Test loss: 0.0007549047586508095\n",
            "Epoch:4800 | Loss: 0.000787164259236306 | Test loss: 0.0007549047586508095\n",
            "Epoch:4810 | Loss: 0.000787164259236306 | Test loss: 0.0007549047586508095\n",
            "Epoch:4820 | Loss: 0.000787164259236306 | Test loss: 0.0007549047586508095\n",
            "Epoch:4830 | Loss: 0.000787164259236306 | Test loss: 0.0007549047586508095\n",
            "Epoch:4840 | Loss: 0.000787164259236306 | Test loss: 0.0007549047586508095\n",
            "Epoch:4850 | Loss: 0.000787164259236306 | Test loss: 0.0007549047586508095\n",
            "Epoch:4860 | Loss: 0.000787164259236306 | Test loss: 0.0007549047586508095\n",
            "Epoch:4870 | Loss: 0.000787164259236306 | Test loss: 0.0007549047586508095\n",
            "Epoch:4880 | Loss: 0.000787164259236306 | Test loss: 0.0007549047586508095\n",
            "Epoch:4890 | Loss: 0.000787164259236306 | Test loss: 0.0007549047586508095\n",
            "Epoch:4900 | Loss: 0.000787164259236306 | Test loss: 0.0007549047586508095\n",
            "Epoch:4910 | Loss: 0.000787164259236306 | Test loss: 0.0007549047586508095\n",
            "Epoch:4920 | Loss: 0.000787164259236306 | Test loss: 0.0007549047586508095\n",
            "Epoch:4930 | Loss: 0.000787164259236306 | Test loss: 0.0007549047586508095\n",
            "Epoch:4940 | Loss: 0.000787164259236306 | Test loss: 0.0007549047586508095\n",
            "Epoch:4950 | Loss: 0.000787164259236306 | Test loss: 0.0007549047586508095\n",
            "Epoch:4960 | Loss: 0.000787164259236306 | Test loss: 0.0007549047586508095\n",
            "Epoch:4970 | Loss: 0.000787164259236306 | Test loss: 0.0007549047586508095\n",
            "Epoch:4980 | Loss: 0.000787164259236306 | Test loss: 0.0007549047586508095\n",
            "Epoch:4990 | Loss: 0.000787164259236306 | Test loss: 0.0007549047586508095\n",
            "Epoch:5000 | Loss: 0.000787164259236306 | Test loss: 0.0007549047586508095\n",
            "Epoch:5010 | Loss: 0.000787164259236306 | Test loss: 0.0007549047586508095\n",
            "Epoch:5020 | Loss: 0.000787164259236306 | Test loss: 0.0007549047586508095\n",
            "Epoch:5030 | Loss: 0.000787164259236306 | Test loss: 0.0007549047586508095\n",
            "Epoch:5040 | Loss: 0.000787164259236306 | Test loss: 0.0007549047586508095\n",
            "Epoch:5050 | Loss: 0.000787164259236306 | Test loss: 0.0007549047586508095\n",
            "Epoch:5060 | Loss: 0.000787164259236306 | Test loss: 0.0007549047586508095\n",
            "Epoch:5070 | Loss: 0.000787164259236306 | Test loss: 0.0007549047586508095\n",
            "Epoch:5080 | Loss: 0.000787164259236306 | Test loss: 0.0007549047586508095\n",
            "Epoch:5090 | Loss: 0.000787164259236306 | Test loss: 0.0007549047586508095\n",
            "Epoch:5100 | Loss: 0.000787164259236306 | Test loss: 0.0007549047586508095\n",
            "Epoch:5110 | Loss: 0.000787164259236306 | Test loss: 0.0007549047586508095\n",
            "Epoch:5120 | Loss: 0.000787164259236306 | Test loss: 0.0007549047586508095\n",
            "Epoch:5130 | Loss: 0.000787164259236306 | Test loss: 0.0007549047586508095\n",
            "Epoch:5140 | Loss: 0.000787164259236306 | Test loss: 0.0007549047586508095\n",
            "Epoch:5150 | Loss: 0.000787164259236306 | Test loss: 0.0007549047586508095\n",
            "Epoch:5160 | Loss: 0.000787164259236306 | Test loss: 0.0007549047586508095\n",
            "Epoch:5170 | Loss: 0.000787164259236306 | Test loss: 0.0007549047586508095\n",
            "Epoch:5180 | Loss: 0.000787164259236306 | Test loss: 0.0007549047586508095\n",
            "Epoch:5190 | Loss: 0.000787164259236306 | Test loss: 0.0007549047586508095\n",
            "Epoch:5200 | Loss: 0.000787164259236306 | Test loss: 0.0007549047586508095\n",
            "Epoch:5210 | Loss: 0.000787164259236306 | Test loss: 0.0007549047586508095\n",
            "Epoch:5220 | Loss: 0.000787164259236306 | Test loss: 0.0007549047586508095\n",
            "Epoch:5230 | Loss: 0.000787164259236306 | Test loss: 0.0007549047586508095\n",
            "Epoch:5240 | Loss: 0.000787164259236306 | Test loss: 0.0007549047586508095\n",
            "Epoch:5250 | Loss: 0.000787164259236306 | Test loss: 0.0007549047586508095\n",
            "Epoch:5260 | Loss: 0.000787164259236306 | Test loss: 0.0007549047586508095\n",
            "Epoch:5270 | Loss: 0.000787164259236306 | Test loss: 0.0007549047586508095\n",
            "Epoch:5280 | Loss: 0.000787164259236306 | Test loss: 0.0007549047586508095\n",
            "Epoch:5290 | Loss: 0.000787164259236306 | Test loss: 0.0007549047586508095\n",
            "Epoch:5300 | Loss: 0.000787164259236306 | Test loss: 0.0007549047586508095\n",
            "Epoch:5310 | Loss: 0.000787164259236306 | Test loss: 0.0007549047586508095\n",
            "Epoch:5320 | Loss: 0.000787164259236306 | Test loss: 0.0007549047586508095\n",
            "Epoch:5330 | Loss: 0.000787164259236306 | Test loss: 0.0007549047586508095\n",
            "Epoch:5340 | Loss: 0.000787164259236306 | Test loss: 0.0007549047586508095\n",
            "Epoch:5350 | Loss: 0.000787164259236306 | Test loss: 0.0007549047586508095\n",
            "Epoch:5360 | Loss: 0.000787164259236306 | Test loss: 0.0007549047586508095\n",
            "Epoch:5370 | Loss: 0.000787164259236306 | Test loss: 0.0007549047586508095\n",
            "Epoch:5380 | Loss: 0.000787164259236306 | Test loss: 0.0007549047586508095\n",
            "Epoch:5390 | Loss: 0.000787164259236306 | Test loss: 0.0007549047586508095\n",
            "Epoch:5400 | Loss: 0.000787164259236306 | Test loss: 0.0007549047586508095\n",
            "Epoch:5410 | Loss: 0.000787164259236306 | Test loss: 0.0007549047586508095\n",
            "Epoch:5420 | Loss: 0.000787164259236306 | Test loss: 0.0007549047586508095\n",
            "Epoch:5430 | Loss: 0.000787164259236306 | Test loss: 0.0007549047586508095\n",
            "Epoch:5440 | Loss: 0.000787164259236306 | Test loss: 0.0007549047586508095\n",
            "Epoch:5450 | Loss: 0.000787164259236306 | Test loss: 0.0007549047586508095\n",
            "Epoch:5460 | Loss: 0.000787164259236306 | Test loss: 0.0007549047586508095\n",
            "Epoch:5470 | Loss: 0.000787164259236306 | Test loss: 0.0007549047586508095\n",
            "Epoch:5480 | Loss: 0.000787164259236306 | Test loss: 0.0007549047586508095\n",
            "Epoch:5490 | Loss: 0.000787164259236306 | Test loss: 0.0007549047586508095\n",
            "Epoch:5500 | Loss: 0.000787164259236306 | Test loss: 0.0007549047586508095\n",
            "Epoch:5510 | Loss: 0.000787164259236306 | Test loss: 0.0007549047586508095\n",
            "Epoch:5520 | Loss: 0.000787164259236306 | Test loss: 0.0007549047586508095\n",
            "Epoch:5530 | Loss: 0.000787164259236306 | Test loss: 0.0007549047586508095\n",
            "Epoch:5540 | Loss: 0.000787164259236306 | Test loss: 0.0007549047586508095\n",
            "Epoch:5550 | Loss: 0.000787164259236306 | Test loss: 0.0007549047586508095\n",
            "Epoch:5560 | Loss: 0.000787164259236306 | Test loss: 0.0007549047586508095\n",
            "Epoch:5570 | Loss: 0.000787164259236306 | Test loss: 0.0007549047586508095\n",
            "Epoch:5580 | Loss: 0.000787164259236306 | Test loss: 0.0007549047586508095\n",
            "Epoch:5590 | Loss: 0.000787164259236306 | Test loss: 0.0007549047586508095\n",
            "Epoch:5600 | Loss: 0.000787164259236306 | Test loss: 0.0007549047586508095\n",
            "Epoch:5610 | Loss: 0.000787164259236306 | Test loss: 0.0007549047586508095\n",
            "Epoch:5620 | Loss: 0.000787164259236306 | Test loss: 0.0007549047586508095\n",
            "Epoch:5630 | Loss: 0.000787164259236306 | Test loss: 0.0007549047586508095\n",
            "Epoch:5640 | Loss: 0.000787164259236306 | Test loss: 0.0007549047586508095\n",
            "Epoch:5650 | Loss: 0.000787164259236306 | Test loss: 0.0007549047586508095\n",
            "Epoch:5660 | Loss: 0.000787164259236306 | Test loss: 0.0007549047586508095\n",
            "Epoch:5670 | Loss: 0.000787164259236306 | Test loss: 0.0007549047586508095\n",
            "Epoch:5680 | Loss: 0.000787164259236306 | Test loss: 0.0007549047586508095\n",
            "Epoch:5690 | Loss: 0.000787164259236306 | Test loss: 0.0007549047586508095\n",
            "Epoch:5700 | Loss: 0.000787164259236306 | Test loss: 0.0007549047586508095\n",
            "Epoch:5710 | Loss: 0.000787164259236306 | Test loss: 0.0007549047586508095\n",
            "Epoch:5720 | Loss: 0.000787164259236306 | Test loss: 0.0007549047586508095\n",
            "Epoch:5730 | Loss: 0.000787164259236306 | Test loss: 0.0007549047586508095\n",
            "Epoch:5740 | Loss: 0.000787164259236306 | Test loss: 0.0007549047586508095\n",
            "Epoch:5750 | Loss: 0.000787164259236306 | Test loss: 0.0007549047586508095\n",
            "Epoch:5760 | Loss: 0.000787164259236306 | Test loss: 0.0007549047586508095\n",
            "Epoch:5770 | Loss: 0.000787164259236306 | Test loss: 0.0007549047586508095\n",
            "Epoch:5780 | Loss: 0.000787164259236306 | Test loss: 0.0007549047586508095\n",
            "Epoch:5790 | Loss: 0.000787164259236306 | Test loss: 0.0007549047586508095\n",
            "Epoch:5800 | Loss: 0.000787164259236306 | Test loss: 0.0007549047586508095\n",
            "Epoch:5810 | Loss: 0.000787164259236306 | Test loss: 0.0007549047586508095\n",
            "Epoch:5820 | Loss: 0.000787164259236306 | Test loss: 0.0007549047586508095\n",
            "Epoch:5830 | Loss: 0.000787164259236306 | Test loss: 0.0007549047586508095\n",
            "Epoch:5840 | Loss: 0.000787164259236306 | Test loss: 0.0007549047586508095\n",
            "Epoch:5850 | Loss: 0.000787164259236306 | Test loss: 0.0007549047586508095\n",
            "Epoch:5860 | Loss: 0.000787164259236306 | Test loss: 0.0007549047586508095\n",
            "Epoch:5870 | Loss: 0.000787164259236306 | Test loss: 0.0007549047586508095\n",
            "Epoch:5880 | Loss: 0.000787164259236306 | Test loss: 0.0007549047586508095\n",
            "Epoch:5890 | Loss: 0.000787164259236306 | Test loss: 0.0007549047586508095\n",
            "Epoch:5900 | Loss: 0.000787164259236306 | Test loss: 0.0007549047586508095\n",
            "Epoch:5910 | Loss: 0.000787164259236306 | Test loss: 0.0007549047586508095\n",
            "Epoch:5920 | Loss: 0.000787164259236306 | Test loss: 0.0007549047586508095\n",
            "Epoch:5930 | Loss: 0.000787164259236306 | Test loss: 0.0007549047586508095\n",
            "Epoch:5940 | Loss: 0.000787164259236306 | Test loss: 0.0007549047586508095\n",
            "Epoch:5950 | Loss: 0.000787164259236306 | Test loss: 0.0007549047586508095\n",
            "Epoch:5960 | Loss: 0.000787164259236306 | Test loss: 0.0007549047586508095\n",
            "Epoch:5970 | Loss: 0.000787164259236306 | Test loss: 0.0007549047586508095\n",
            "Epoch:5980 | Loss: 0.000787164259236306 | Test loss: 0.0007549047586508095\n",
            "Epoch:5990 | Loss: 0.000787164259236306 | Test loss: 0.0007549047586508095\n",
            "Epoch:6000 | Loss: 0.000787164259236306 | Test loss: 0.0007549047586508095\n",
            "Epoch:6010 | Loss: 0.000787164259236306 | Test loss: 0.0007549047586508095\n",
            "Epoch:6020 | Loss: 0.000787164259236306 | Test loss: 0.0007549047586508095\n",
            "Epoch:6030 | Loss: 0.000787164259236306 | Test loss: 0.0007549047586508095\n",
            "Epoch:6040 | Loss: 0.000787164259236306 | Test loss: 0.0007549047586508095\n",
            "Epoch:6050 | Loss: 0.000787164259236306 | Test loss: 0.0007549047586508095\n",
            "Epoch:6060 | Loss: 0.000787164259236306 | Test loss: 0.0007549047586508095\n",
            "Epoch:6070 | Loss: 0.000787164259236306 | Test loss: 0.0007549047586508095\n",
            "Epoch:6080 | Loss: 0.000787164259236306 | Test loss: 0.0007549047586508095\n",
            "Epoch:6090 | Loss: 0.000787164259236306 | Test loss: 0.0007549047586508095\n",
            "Epoch:6100 | Loss: 0.000787164259236306 | Test loss: 0.0007549047586508095\n",
            "Epoch:6110 | Loss: 0.000787164259236306 | Test loss: 0.0007549047586508095\n",
            "Epoch:6120 | Loss: 0.000787164259236306 | Test loss: 0.0007549047586508095\n",
            "Epoch:6130 | Loss: 0.000787164259236306 | Test loss: 0.0007549047586508095\n",
            "Epoch:6140 | Loss: 0.000787164259236306 | Test loss: 0.0007549047586508095\n",
            "Epoch:6150 | Loss: 0.000787164259236306 | Test loss: 0.0007549047586508095\n",
            "Epoch:6160 | Loss: 0.000787164259236306 | Test loss: 0.0007549047586508095\n",
            "Epoch:6170 | Loss: 0.000787164259236306 | Test loss: 0.0007549047586508095\n",
            "Epoch:6180 | Loss: 0.000787164259236306 | Test loss: 0.0007549047586508095\n",
            "Epoch:6190 | Loss: 0.000787164259236306 | Test loss: 0.0007549047586508095\n",
            "Epoch:6200 | Loss: 0.000787164259236306 | Test loss: 0.0007549047586508095\n",
            "Epoch:6210 | Loss: 0.000787164259236306 | Test loss: 0.0007549047586508095\n",
            "Epoch:6220 | Loss: 0.000787164259236306 | Test loss: 0.0007549047586508095\n",
            "Epoch:6230 | Loss: 0.000787164259236306 | Test loss: 0.0007549047586508095\n",
            "Epoch:6240 | Loss: 0.000787164259236306 | Test loss: 0.0007549047586508095\n",
            "Epoch:6250 | Loss: 0.000787164259236306 | Test loss: 0.0007549047586508095\n",
            "Epoch:6260 | Loss: 0.000787164259236306 | Test loss: 0.0007549047586508095\n",
            "Epoch:6270 | Loss: 0.000787164259236306 | Test loss: 0.0007549047586508095\n",
            "Epoch:6280 | Loss: 0.000787164259236306 | Test loss: 0.0007549047586508095\n",
            "Epoch:6290 | Loss: 0.000787164259236306 | Test loss: 0.0007549047586508095\n",
            "Epoch:6300 | Loss: 0.000787164259236306 | Test loss: 0.0007549047586508095\n",
            "Epoch:6310 | Loss: 0.000787164259236306 | Test loss: 0.0007549047586508095\n",
            "Epoch:6320 | Loss: 0.000787164259236306 | Test loss: 0.0007549047586508095\n",
            "Epoch:6330 | Loss: 0.000787164259236306 | Test loss: 0.0007549047586508095\n",
            "Epoch:6340 | Loss: 0.000787164259236306 | Test loss: 0.0007549047586508095\n",
            "Epoch:6350 | Loss: 0.000787164259236306 | Test loss: 0.0007549047586508095\n",
            "Epoch:6360 | Loss: 0.000787164259236306 | Test loss: 0.0007549047586508095\n",
            "Epoch:6370 | Loss: 0.000787164259236306 | Test loss: 0.0007549047586508095\n",
            "Epoch:6380 | Loss: 0.000787164259236306 | Test loss: 0.0007549047586508095\n",
            "Epoch:6390 | Loss: 0.000787164259236306 | Test loss: 0.0007549047586508095\n",
            "Epoch:6400 | Loss: 0.000787164259236306 | Test loss: 0.0007549047586508095\n",
            "Epoch:6410 | Loss: 0.000787164259236306 | Test loss: 0.0007549047586508095\n",
            "Epoch:6420 | Loss: 0.000787164259236306 | Test loss: 0.0007549047586508095\n",
            "Epoch:6430 | Loss: 0.000787164259236306 | Test loss: 0.0007549047586508095\n",
            "Epoch:6440 | Loss: 0.000787164259236306 | Test loss: 0.0007549047586508095\n",
            "Epoch:6450 | Loss: 0.000787164259236306 | Test loss: 0.0007549047586508095\n",
            "Epoch:6460 | Loss: 0.000787164259236306 | Test loss: 0.0007549047586508095\n",
            "Epoch:6470 | Loss: 0.000787164259236306 | Test loss: 0.0007549047586508095\n",
            "Epoch:6480 | Loss: 0.000787164259236306 | Test loss: 0.0007549047586508095\n",
            "Epoch:6490 | Loss: 0.000787164259236306 | Test loss: 0.0007549047586508095\n",
            "Epoch:6500 | Loss: 0.000787164259236306 | Test loss: 0.0007549047586508095\n",
            "Epoch:6510 | Loss: 0.000787164259236306 | Test loss: 0.0007549047586508095\n",
            "Epoch:6520 | Loss: 0.000787164259236306 | Test loss: 0.0007549047586508095\n",
            "Epoch:6530 | Loss: 0.000787164259236306 | Test loss: 0.0007549047586508095\n",
            "Epoch:6540 | Loss: 0.000787164259236306 | Test loss: 0.0007549047586508095\n",
            "Epoch:6550 | Loss: 0.000787164259236306 | Test loss: 0.0007549047586508095\n",
            "Epoch:6560 | Loss: 0.000787164259236306 | Test loss: 0.0007549047586508095\n",
            "Epoch:6570 | Loss: 0.000787164259236306 | Test loss: 0.0007549047586508095\n",
            "Epoch:6580 | Loss: 0.000787164259236306 | Test loss: 0.0007549047586508095\n",
            "Epoch:6590 | Loss: 0.000787164259236306 | Test loss: 0.0007549047586508095\n",
            "Epoch:6600 | Loss: 0.000787164259236306 | Test loss: 0.0007549047586508095\n",
            "Epoch:6610 | Loss: 0.000787164259236306 | Test loss: 0.0007549047586508095\n",
            "Epoch:6620 | Loss: 0.000787164259236306 | Test loss: 0.0007549047586508095\n",
            "Epoch:6630 | Loss: 0.000787164259236306 | Test loss: 0.0007549047586508095\n",
            "Epoch:6640 | Loss: 0.000787164259236306 | Test loss: 0.0007549047586508095\n",
            "Epoch:6650 | Loss: 0.000787164259236306 | Test loss: 0.0007549047586508095\n",
            "Epoch:6660 | Loss: 0.000787164259236306 | Test loss: 0.0007549047586508095\n",
            "Epoch:6670 | Loss: 0.000787164259236306 | Test loss: 0.0007549047586508095\n",
            "Epoch:6680 | Loss: 0.000787164259236306 | Test loss: 0.0007549047586508095\n",
            "Epoch:6690 | Loss: 0.000787164259236306 | Test loss: 0.0007549047586508095\n",
            "Epoch:6700 | Loss: 0.000787164259236306 | Test loss: 0.0007549047586508095\n",
            "Epoch:6710 | Loss: 0.000787164259236306 | Test loss: 0.0007549047586508095\n",
            "Epoch:6720 | Loss: 0.000787164259236306 | Test loss: 0.0007549047586508095\n",
            "Epoch:6730 | Loss: 0.000787164259236306 | Test loss: 0.0007549047586508095\n",
            "Epoch:6740 | Loss: 0.000787164259236306 | Test loss: 0.0007549047586508095\n",
            "Epoch:6750 | Loss: 0.000787164259236306 | Test loss: 0.0007549047586508095\n",
            "Epoch:6760 | Loss: 0.000787164259236306 | Test loss: 0.0007549047586508095\n",
            "Epoch:6770 | Loss: 0.000787164259236306 | Test loss: 0.0007549047586508095\n",
            "Epoch:6780 | Loss: 0.000787164259236306 | Test loss: 0.0007549047586508095\n",
            "Epoch:6790 | Loss: 0.000787164259236306 | Test loss: 0.0007549047586508095\n",
            "Epoch:6800 | Loss: 0.000787164259236306 | Test loss: 0.0007549047586508095\n",
            "Epoch:6810 | Loss: 0.000787164259236306 | Test loss: 0.0007549047586508095\n",
            "Epoch:6820 | Loss: 0.000787164259236306 | Test loss: 0.0007549047586508095\n",
            "Epoch:6830 | Loss: 0.000787164259236306 | Test loss: 0.0007549047586508095\n",
            "Epoch:6840 | Loss: 0.000787164259236306 | Test loss: 0.0007549047586508095\n",
            "Epoch:6850 | Loss: 0.000787164259236306 | Test loss: 0.0007549047586508095\n",
            "Epoch:6860 | Loss: 0.000787164259236306 | Test loss: 0.0007549047586508095\n",
            "Epoch:6870 | Loss: 0.000787164259236306 | Test loss: 0.0007549047586508095\n",
            "Epoch:6880 | Loss: 0.000787164259236306 | Test loss: 0.0007549047586508095\n",
            "Epoch:6890 | Loss: 0.000787164259236306 | Test loss: 0.0007549047586508095\n",
            "Epoch:6900 | Loss: 0.000787164259236306 | Test loss: 0.0007549047586508095\n",
            "Epoch:6910 | Loss: 0.000787164259236306 | Test loss: 0.0007549047586508095\n",
            "Epoch:6920 | Loss: 0.000787164259236306 | Test loss: 0.0007549047586508095\n",
            "Epoch:6930 | Loss: 0.000787164259236306 | Test loss: 0.0007549047586508095\n",
            "Epoch:6940 | Loss: 0.000787164259236306 | Test loss: 0.0007549047586508095\n",
            "Epoch:6950 | Loss: 0.000787164259236306 | Test loss: 0.0007549047586508095\n",
            "Epoch:6960 | Loss: 0.000787164259236306 | Test loss: 0.0007549047586508095\n",
            "Epoch:6970 | Loss: 0.000787164259236306 | Test loss: 0.0007549047586508095\n",
            "Epoch:6980 | Loss: 0.000787164259236306 | Test loss: 0.0007549047586508095\n",
            "Epoch:6990 | Loss: 0.000787164259236306 | Test loss: 0.0007549047586508095\n",
            "Epoch:7000 | Loss: 0.000787164259236306 | Test loss: 0.0007549047586508095\n",
            "Epoch:7010 | Loss: 0.000787164259236306 | Test loss: 0.0007549047586508095\n",
            "Epoch:7020 | Loss: 0.000787164259236306 | Test loss: 0.0007549047586508095\n",
            "Epoch:7030 | Loss: 0.000787164259236306 | Test loss: 0.0007549047586508095\n",
            "Epoch:7040 | Loss: 0.000787164259236306 | Test loss: 0.0007549047586508095\n",
            "Epoch:7050 | Loss: 0.000787164259236306 | Test loss: 0.0007549047586508095\n",
            "Epoch:7060 | Loss: 0.000787164259236306 | Test loss: 0.0007549047586508095\n",
            "Epoch:7070 | Loss: 0.000787164259236306 | Test loss: 0.0007549047586508095\n",
            "Epoch:7080 | Loss: 0.000787164259236306 | Test loss: 0.0007549047586508095\n",
            "Epoch:7090 | Loss: 0.000787164259236306 | Test loss: 0.0007549047586508095\n",
            "Epoch:7100 | Loss: 0.000787164259236306 | Test loss: 0.0007549047586508095\n",
            "Epoch:7110 | Loss: 0.000787164259236306 | Test loss: 0.0007549047586508095\n",
            "Epoch:7120 | Loss: 0.000787164259236306 | Test loss: 0.0007549047586508095\n",
            "Epoch:7130 | Loss: 0.000787164259236306 | Test loss: 0.0007549047586508095\n",
            "Epoch:7140 | Loss: 0.000787164259236306 | Test loss: 0.0007549047586508095\n",
            "Epoch:7150 | Loss: 0.000787164259236306 | Test loss: 0.0007549047586508095\n",
            "Epoch:7160 | Loss: 0.000787164259236306 | Test loss: 0.0007549047586508095\n",
            "Epoch:7170 | Loss: 0.000787164259236306 | Test loss: 0.0007549047586508095\n",
            "Epoch:7180 | Loss: 0.000787164259236306 | Test loss: 0.0007549047586508095\n",
            "Epoch:7190 | Loss: 0.000787164259236306 | Test loss: 0.0007549047586508095\n",
            "Epoch:7200 | Loss: 0.000787164259236306 | Test loss: 0.0007549047586508095\n",
            "Epoch:7210 | Loss: 0.000787164259236306 | Test loss: 0.0007549047586508095\n",
            "Epoch:7220 | Loss: 0.000787164259236306 | Test loss: 0.0007549047586508095\n",
            "Epoch:7230 | Loss: 0.000787164259236306 | Test loss: 0.0007549047586508095\n",
            "Epoch:7240 | Loss: 0.000787164259236306 | Test loss: 0.0007549047586508095\n",
            "Epoch:7250 | Loss: 0.000787164259236306 | Test loss: 0.0007549047586508095\n",
            "Epoch:7260 | Loss: 0.000787164259236306 | Test loss: 0.0007549047586508095\n",
            "Epoch:7270 | Loss: 0.000787164259236306 | Test loss: 0.0007549047586508095\n",
            "Epoch:7280 | Loss: 0.000787164259236306 | Test loss: 0.0007549047586508095\n",
            "Epoch:7290 | Loss: 0.000787164259236306 | Test loss: 0.0007549047586508095\n",
            "Epoch:7300 | Loss: 0.000787164259236306 | Test loss: 0.0007549047586508095\n",
            "Epoch:7310 | Loss: 0.000787164259236306 | Test loss: 0.0007549047586508095\n",
            "Epoch:7320 | Loss: 0.000787164259236306 | Test loss: 0.0007549047586508095\n",
            "Epoch:7330 | Loss: 0.000787164259236306 | Test loss: 0.0007549047586508095\n",
            "Epoch:7340 | Loss: 0.000787164259236306 | Test loss: 0.0007549047586508095\n",
            "Epoch:7350 | Loss: 0.000787164259236306 | Test loss: 0.0007549047586508095\n",
            "Epoch:7360 | Loss: 0.000787164259236306 | Test loss: 0.0007549047586508095\n",
            "Epoch:7370 | Loss: 0.000787164259236306 | Test loss: 0.0007549047586508095\n",
            "Epoch:7380 | Loss: 0.000787164259236306 | Test loss: 0.0007549047586508095\n",
            "Epoch:7390 | Loss: 0.000787164259236306 | Test loss: 0.0007549047586508095\n",
            "Epoch:7400 | Loss: 0.000787164259236306 | Test loss: 0.0007549047586508095\n",
            "Epoch:7410 | Loss: 0.000787164259236306 | Test loss: 0.0007549047586508095\n",
            "Epoch:7420 | Loss: 0.000787164259236306 | Test loss: 0.0007549047586508095\n",
            "Epoch:7430 | Loss: 0.000787164259236306 | Test loss: 0.0007549047586508095\n",
            "Epoch:7440 | Loss: 0.000787164259236306 | Test loss: 0.0007549047586508095\n",
            "Epoch:7450 | Loss: 0.000787164259236306 | Test loss: 0.0007549047586508095\n",
            "Epoch:7460 | Loss: 0.000787164259236306 | Test loss: 0.0007549047586508095\n",
            "Epoch:7470 | Loss: 0.000787164259236306 | Test loss: 0.0007549047586508095\n",
            "Epoch:7480 | Loss: 0.000787164259236306 | Test loss: 0.0007549047586508095\n",
            "Epoch:7490 | Loss: 0.000787164259236306 | Test loss: 0.0007549047586508095\n",
            "Epoch:7500 | Loss: 0.000787164259236306 | Test loss: 0.0007549047586508095\n",
            "Epoch:7510 | Loss: 0.000787164259236306 | Test loss: 0.0007549047586508095\n",
            "Epoch:7520 | Loss: 0.000787164259236306 | Test loss: 0.0007549047586508095\n",
            "Epoch:7530 | Loss: 0.000787164259236306 | Test loss: 0.0007549047586508095\n",
            "Epoch:7540 | Loss: 0.000787164259236306 | Test loss: 0.0007549047586508095\n",
            "Epoch:7550 | Loss: 0.000787164259236306 | Test loss: 0.0007549047586508095\n",
            "Epoch:7560 | Loss: 0.000787164259236306 | Test loss: 0.0007549047586508095\n",
            "Epoch:7570 | Loss: 0.000787164259236306 | Test loss: 0.0007549047586508095\n",
            "Epoch:7580 | Loss: 0.000787164259236306 | Test loss: 0.0007549047586508095\n",
            "Epoch:7590 | Loss: 0.000787164259236306 | Test loss: 0.0007549047586508095\n",
            "Epoch:7600 | Loss: 0.000787164259236306 | Test loss: 0.0007549047586508095\n",
            "Epoch:7610 | Loss: 0.000787164259236306 | Test loss: 0.0007549047586508095\n",
            "Epoch:7620 | Loss: 0.000787164259236306 | Test loss: 0.0007549047586508095\n",
            "Epoch:7630 | Loss: 0.000787164259236306 | Test loss: 0.0007549047586508095\n",
            "Epoch:7640 | Loss: 0.000787164259236306 | Test loss: 0.0007549047586508095\n",
            "Epoch:7650 | Loss: 0.000787164259236306 | Test loss: 0.0007549047586508095\n",
            "Epoch:7660 | Loss: 0.000787164259236306 | Test loss: 0.0007549047586508095\n",
            "Epoch:7670 | Loss: 0.000787164259236306 | Test loss: 0.0007549047586508095\n",
            "Epoch:7680 | Loss: 0.000787164259236306 | Test loss: 0.0007549047586508095\n",
            "Epoch:7690 | Loss: 0.000787164259236306 | Test loss: 0.0007549047586508095\n",
            "Epoch:7700 | Loss: 0.000787164259236306 | Test loss: 0.0007549047586508095\n",
            "Epoch:7710 | Loss: 0.000787164259236306 | Test loss: 0.0007549047586508095\n",
            "Epoch:7720 | Loss: 0.000787164259236306 | Test loss: 0.0007549047586508095\n",
            "Epoch:7730 | Loss: 0.000787164259236306 | Test loss: 0.0007549047586508095\n",
            "Epoch:7740 | Loss: 0.000787164259236306 | Test loss: 0.0007549047586508095\n",
            "Epoch:7750 | Loss: 0.000787164259236306 | Test loss: 0.0007549047586508095\n",
            "Epoch:7760 | Loss: 0.000787164259236306 | Test loss: 0.0007549047586508095\n",
            "Epoch:7770 | Loss: 0.000787164259236306 | Test loss: 0.0007549047586508095\n",
            "Epoch:7780 | Loss: 0.000787164259236306 | Test loss: 0.0007549047586508095\n",
            "Epoch:7790 | Loss: 0.000787164259236306 | Test loss: 0.0007549047586508095\n",
            "Epoch:7800 | Loss: 0.000787164259236306 | Test loss: 0.0007549047586508095\n",
            "Epoch:7810 | Loss: 0.000787164259236306 | Test loss: 0.0007549047586508095\n",
            "Epoch:7820 | Loss: 0.000787164259236306 | Test loss: 0.0007549047586508095\n",
            "Epoch:7830 | Loss: 0.000787164259236306 | Test loss: 0.0007549047586508095\n",
            "Epoch:7840 | Loss: 0.000787164259236306 | Test loss: 0.0007549047586508095\n",
            "Epoch:7850 | Loss: 0.000787164259236306 | Test loss: 0.0007549047586508095\n",
            "Epoch:7860 | Loss: 0.000787164259236306 | Test loss: 0.0007549047586508095\n",
            "Epoch:7870 | Loss: 0.000787164259236306 | Test loss: 0.0007549047586508095\n",
            "Epoch:7880 | Loss: 0.000787164259236306 | Test loss: 0.0007549047586508095\n",
            "Epoch:7890 | Loss: 0.000787164259236306 | Test loss: 0.0007549047586508095\n",
            "Epoch:7900 | Loss: 0.000787164259236306 | Test loss: 0.0007549047586508095\n",
            "Epoch:7910 | Loss: 0.000787164259236306 | Test loss: 0.0007549047586508095\n",
            "Epoch:7920 | Loss: 0.000787164259236306 | Test loss: 0.0007549047586508095\n",
            "Epoch:7930 | Loss: 0.000787164259236306 | Test loss: 0.0007549047586508095\n",
            "Epoch:7940 | Loss: 0.000787164259236306 | Test loss: 0.0007549047586508095\n",
            "Epoch:7950 | Loss: 0.000787164259236306 | Test loss: 0.0007549047586508095\n",
            "Epoch:7960 | Loss: 0.000787164259236306 | Test loss: 0.0007549047586508095\n",
            "Epoch:7970 | Loss: 0.000787164259236306 | Test loss: 0.0007549047586508095\n",
            "Epoch:7980 | Loss: 0.000787164259236306 | Test loss: 0.0007549047586508095\n",
            "Epoch:7990 | Loss: 0.000787164259236306 | Test loss: 0.0007549047586508095\n",
            "Epoch:8000 | Loss: 0.000787164259236306 | Test loss: 0.0007549047586508095\n",
            "Epoch:8010 | Loss: 0.000787164259236306 | Test loss: 0.0007549047586508095\n",
            "Epoch:8020 | Loss: 0.000787164259236306 | Test loss: 0.0007549047586508095\n",
            "Epoch:8030 | Loss: 0.000787164259236306 | Test loss: 0.0007549047586508095\n",
            "Epoch:8040 | Loss: 0.000787164259236306 | Test loss: 0.0007549047586508095\n",
            "Epoch:8050 | Loss: 0.000787164259236306 | Test loss: 0.0007549047586508095\n",
            "Epoch:8060 | Loss: 0.000787164259236306 | Test loss: 0.0007549047586508095\n",
            "Epoch:8070 | Loss: 0.000787164259236306 | Test loss: 0.0007549047586508095\n",
            "Epoch:8080 | Loss: 0.000787164259236306 | Test loss: 0.0007549047586508095\n",
            "Epoch:8090 | Loss: 0.000787164259236306 | Test loss: 0.0007549047586508095\n",
            "Epoch:8100 | Loss: 0.000787164259236306 | Test loss: 0.0007549047586508095\n",
            "Epoch:8110 | Loss: 0.000787164259236306 | Test loss: 0.0007549047586508095\n",
            "Epoch:8120 | Loss: 0.000787164259236306 | Test loss: 0.0007549047586508095\n",
            "Epoch:8130 | Loss: 0.000787164259236306 | Test loss: 0.0007549047586508095\n",
            "Epoch:8140 | Loss: 0.000787164259236306 | Test loss: 0.0007549047586508095\n",
            "Epoch:8150 | Loss: 0.000787164259236306 | Test loss: 0.0007549047586508095\n",
            "Epoch:8160 | Loss: 0.000787164259236306 | Test loss: 0.0007549047586508095\n",
            "Epoch:8170 | Loss: 0.000787164259236306 | Test loss: 0.0007549047586508095\n",
            "Epoch:8180 | Loss: 0.000787164259236306 | Test loss: 0.0007549047586508095\n",
            "Epoch:8190 | Loss: 0.000787164259236306 | Test loss: 0.0007549047586508095\n",
            "Epoch:8200 | Loss: 0.000787164259236306 | Test loss: 0.0007549047586508095\n",
            "Epoch:8210 | Loss: 0.000787164259236306 | Test loss: 0.0007549047586508095\n",
            "Epoch:8220 | Loss: 0.000787164259236306 | Test loss: 0.0007549047586508095\n",
            "Epoch:8230 | Loss: 0.000787164259236306 | Test loss: 0.0007549047586508095\n",
            "Epoch:8240 | Loss: 0.000787164259236306 | Test loss: 0.0007549047586508095\n",
            "Epoch:8250 | Loss: 0.000787164259236306 | Test loss: 0.0007549047586508095\n",
            "Epoch:8260 | Loss: 0.000787164259236306 | Test loss: 0.0007549047586508095\n",
            "Epoch:8270 | Loss: 0.000787164259236306 | Test loss: 0.0007549047586508095\n",
            "Epoch:8280 | Loss: 0.000787164259236306 | Test loss: 0.0007549047586508095\n",
            "Epoch:8290 | Loss: 0.000787164259236306 | Test loss: 0.0007549047586508095\n",
            "Epoch:8300 | Loss: 0.000787164259236306 | Test loss: 0.0007549047586508095\n",
            "Epoch:8310 | Loss: 0.000787164259236306 | Test loss: 0.0007549047586508095\n",
            "Epoch:8320 | Loss: 0.000787164259236306 | Test loss: 0.0007549047586508095\n",
            "Epoch:8330 | Loss: 0.000787164259236306 | Test loss: 0.0007549047586508095\n",
            "Epoch:8340 | Loss: 0.000787164259236306 | Test loss: 0.0007549047586508095\n",
            "Epoch:8350 | Loss: 0.000787164259236306 | Test loss: 0.0007549047586508095\n",
            "Epoch:8360 | Loss: 0.000787164259236306 | Test loss: 0.0007549047586508095\n",
            "Epoch:8370 | Loss: 0.000787164259236306 | Test loss: 0.0007549047586508095\n",
            "Epoch:8380 | Loss: 0.000787164259236306 | Test loss: 0.0007549047586508095\n",
            "Epoch:8390 | Loss: 0.000787164259236306 | Test loss: 0.0007549047586508095\n",
            "Epoch:8400 | Loss: 0.000787164259236306 | Test loss: 0.0007549047586508095\n",
            "Epoch:8410 | Loss: 0.000787164259236306 | Test loss: 0.0007549047586508095\n",
            "Epoch:8420 | Loss: 0.000787164259236306 | Test loss: 0.0007549047586508095\n",
            "Epoch:8430 | Loss: 0.000787164259236306 | Test loss: 0.0007549047586508095\n",
            "Epoch:8440 | Loss: 0.000787164259236306 | Test loss: 0.0007549047586508095\n",
            "Epoch:8450 | Loss: 0.000787164259236306 | Test loss: 0.0007549047586508095\n",
            "Epoch:8460 | Loss: 0.000787164259236306 | Test loss: 0.0007549047586508095\n",
            "Epoch:8470 | Loss: 0.000787164259236306 | Test loss: 0.0007549047586508095\n",
            "Epoch:8480 | Loss: 0.000787164259236306 | Test loss: 0.0007549047586508095\n",
            "Epoch:8490 | Loss: 0.000787164259236306 | Test loss: 0.0007549047586508095\n",
            "Epoch:8500 | Loss: 0.000787164259236306 | Test loss: 0.0007549047586508095\n",
            "Epoch:8510 | Loss: 0.000787164259236306 | Test loss: 0.0007549047586508095\n",
            "Epoch:8520 | Loss: 0.000787164259236306 | Test loss: 0.0007549047586508095\n",
            "Epoch:8530 | Loss: 0.000787164259236306 | Test loss: 0.0007549047586508095\n",
            "Epoch:8540 | Loss: 0.000787164259236306 | Test loss: 0.0007549047586508095\n",
            "Epoch:8550 | Loss: 0.000787164259236306 | Test loss: 0.0007549047586508095\n",
            "Epoch:8560 | Loss: 0.000787164259236306 | Test loss: 0.0007549047586508095\n",
            "Epoch:8570 | Loss: 0.000787164259236306 | Test loss: 0.0007549047586508095\n",
            "Epoch:8580 | Loss: 0.000787164259236306 | Test loss: 0.0007549047586508095\n",
            "Epoch:8590 | Loss: 0.000787164259236306 | Test loss: 0.0007549047586508095\n",
            "Epoch:8600 | Loss: 0.000787164259236306 | Test loss: 0.0007549047586508095\n",
            "Epoch:8610 | Loss: 0.000787164259236306 | Test loss: 0.0007549047586508095\n",
            "Epoch:8620 | Loss: 0.000787164259236306 | Test loss: 0.0007549047586508095\n",
            "Epoch:8630 | Loss: 0.000787164259236306 | Test loss: 0.0007549047586508095\n",
            "Epoch:8640 | Loss: 0.000787164259236306 | Test loss: 0.0007549047586508095\n",
            "Epoch:8650 | Loss: 0.000787164259236306 | Test loss: 0.0007549047586508095\n",
            "Epoch:8660 | Loss: 0.000787164259236306 | Test loss: 0.0007549047586508095\n",
            "Epoch:8670 | Loss: 0.000787164259236306 | Test loss: 0.0007549047586508095\n",
            "Epoch:8680 | Loss: 0.000787164259236306 | Test loss: 0.0007549047586508095\n",
            "Epoch:8690 | Loss: 0.000787164259236306 | Test loss: 0.0007549047586508095\n",
            "Epoch:8700 | Loss: 0.000787164259236306 | Test loss: 0.0007549047586508095\n",
            "Epoch:8710 | Loss: 0.000787164259236306 | Test loss: 0.0007549047586508095\n",
            "Epoch:8720 | Loss: 0.000787164259236306 | Test loss: 0.0007549047586508095\n",
            "Epoch:8730 | Loss: 0.000787164259236306 | Test loss: 0.0007549047586508095\n",
            "Epoch:8740 | Loss: 0.000787164259236306 | Test loss: 0.0007549047586508095\n",
            "Epoch:8750 | Loss: 0.000787164259236306 | Test loss: 0.0007549047586508095\n",
            "Epoch:8760 | Loss: 0.000787164259236306 | Test loss: 0.0007549047586508095\n",
            "Epoch:8770 | Loss: 0.000787164259236306 | Test loss: 0.0007549047586508095\n",
            "Epoch:8780 | Loss: 0.000787164259236306 | Test loss: 0.0007549047586508095\n",
            "Epoch:8790 | Loss: 0.000787164259236306 | Test loss: 0.0007549047586508095\n",
            "Epoch:8800 | Loss: 0.000787164259236306 | Test loss: 0.0007549047586508095\n",
            "Epoch:8810 | Loss: 0.000787164259236306 | Test loss: 0.0007549047586508095\n",
            "Epoch:8820 | Loss: 0.000787164259236306 | Test loss: 0.0007549047586508095\n",
            "Epoch:8830 | Loss: 0.000787164259236306 | Test loss: 0.0007549047586508095\n",
            "Epoch:8840 | Loss: 0.000787164259236306 | Test loss: 0.0007549047586508095\n",
            "Epoch:8850 | Loss: 0.000787164259236306 | Test loss: 0.0007549047586508095\n",
            "Epoch:8860 | Loss: 0.000787164259236306 | Test loss: 0.0007549047586508095\n",
            "Epoch:8870 | Loss: 0.000787164259236306 | Test loss: 0.0007549047586508095\n",
            "Epoch:8880 | Loss: 0.000787164259236306 | Test loss: 0.0007549047586508095\n",
            "Epoch:8890 | Loss: 0.000787164259236306 | Test loss: 0.0007549047586508095\n",
            "Epoch:8900 | Loss: 0.000787164259236306 | Test loss: 0.0007549047586508095\n",
            "Epoch:8910 | Loss: 0.000787164259236306 | Test loss: 0.0007549047586508095\n",
            "Epoch:8920 | Loss: 0.000787164259236306 | Test loss: 0.0007549047586508095\n",
            "Epoch:8930 | Loss: 0.000787164259236306 | Test loss: 0.0007549047586508095\n",
            "Epoch:8940 | Loss: 0.000787164259236306 | Test loss: 0.0007549047586508095\n",
            "Epoch:8950 | Loss: 0.000787164259236306 | Test loss: 0.0007549047586508095\n",
            "Epoch:8960 | Loss: 0.000787164259236306 | Test loss: 0.0007549047586508095\n",
            "Epoch:8970 | Loss: 0.000787164259236306 | Test loss: 0.0007549047586508095\n",
            "Epoch:8980 | Loss: 0.000787164259236306 | Test loss: 0.0007549047586508095\n",
            "Epoch:8990 | Loss: 0.000787164259236306 | Test loss: 0.0007549047586508095\n",
            "Epoch:9000 | Loss: 0.000787164259236306 | Test loss: 0.0007549047586508095\n",
            "Epoch:9010 | Loss: 0.000787164259236306 | Test loss: 0.0007549047586508095\n",
            "Epoch:9020 | Loss: 0.000787164259236306 | Test loss: 0.0007549047586508095\n",
            "Epoch:9030 | Loss: 0.000787164259236306 | Test loss: 0.0007549047586508095\n",
            "Epoch:9040 | Loss: 0.000787164259236306 | Test loss: 0.0007549047586508095\n",
            "Epoch:9050 | Loss: 0.000787164259236306 | Test loss: 0.0007549047586508095\n",
            "Epoch:9060 | Loss: 0.000787164259236306 | Test loss: 0.0007549047586508095\n",
            "Epoch:9070 | Loss: 0.000787164259236306 | Test loss: 0.0007549047586508095\n",
            "Epoch:9080 | Loss: 0.000787164259236306 | Test loss: 0.0007549047586508095\n",
            "Epoch:9090 | Loss: 0.000787164259236306 | Test loss: 0.0007549047586508095\n",
            "Epoch:9100 | Loss: 0.000787164259236306 | Test loss: 0.0007549047586508095\n",
            "Epoch:9110 | Loss: 0.000787164259236306 | Test loss: 0.0007549047586508095\n",
            "Epoch:9120 | Loss: 0.000787164259236306 | Test loss: 0.0007549047586508095\n",
            "Epoch:9130 | Loss: 0.000787164259236306 | Test loss: 0.0007549047586508095\n",
            "Epoch:9140 | Loss: 0.000787164259236306 | Test loss: 0.0007549047586508095\n",
            "Epoch:9150 | Loss: 0.000787164259236306 | Test loss: 0.0007549047586508095\n",
            "Epoch:9160 | Loss: 0.000787164259236306 | Test loss: 0.0007549047586508095\n",
            "Epoch:9170 | Loss: 0.000787164259236306 | Test loss: 0.0007549047586508095\n",
            "Epoch:9180 | Loss: 0.000787164259236306 | Test loss: 0.0007549047586508095\n",
            "Epoch:9190 | Loss: 0.000787164259236306 | Test loss: 0.0007549047586508095\n",
            "Epoch:9200 | Loss: 0.000787164259236306 | Test loss: 0.0007549047586508095\n",
            "Epoch:9210 | Loss: 0.000787164259236306 | Test loss: 0.0007549047586508095\n",
            "Epoch:9220 | Loss: 0.000787164259236306 | Test loss: 0.0007549047586508095\n",
            "Epoch:9230 | Loss: 0.000787164259236306 | Test loss: 0.0007549047586508095\n",
            "Epoch:9240 | Loss: 0.000787164259236306 | Test loss: 0.0007549047586508095\n",
            "Epoch:9250 | Loss: 0.000787164259236306 | Test loss: 0.0007549047586508095\n",
            "Epoch:9260 | Loss: 0.000787164259236306 | Test loss: 0.0007549047586508095\n",
            "Epoch:9270 | Loss: 0.000787164259236306 | Test loss: 0.0007549047586508095\n",
            "Epoch:9280 | Loss: 0.000787164259236306 | Test loss: 0.0007549047586508095\n",
            "Epoch:9290 | Loss: 0.000787164259236306 | Test loss: 0.0007549047586508095\n",
            "Epoch:9300 | Loss: 0.000787164259236306 | Test loss: 0.0007549047586508095\n",
            "Epoch:9310 | Loss: 0.000787164259236306 | Test loss: 0.0007549047586508095\n",
            "Epoch:9320 | Loss: 0.000787164259236306 | Test loss: 0.0007549047586508095\n",
            "Epoch:9330 | Loss: 0.000787164259236306 | Test loss: 0.0007549047586508095\n",
            "Epoch:9340 | Loss: 0.000787164259236306 | Test loss: 0.0007549047586508095\n",
            "Epoch:9350 | Loss: 0.000787164259236306 | Test loss: 0.0007549047586508095\n",
            "Epoch:9360 | Loss: 0.000787164259236306 | Test loss: 0.0007549047586508095\n",
            "Epoch:9370 | Loss: 0.000787164259236306 | Test loss: 0.0007549047586508095\n",
            "Epoch:9380 | Loss: 0.000787164259236306 | Test loss: 0.0007549047586508095\n",
            "Epoch:9390 | Loss: 0.000787164259236306 | Test loss: 0.0007549047586508095\n",
            "Epoch:9400 | Loss: 0.000787164259236306 | Test loss: 0.0007549047586508095\n",
            "Epoch:9410 | Loss: 0.000787164259236306 | Test loss: 0.0007549047586508095\n",
            "Epoch:9420 | Loss: 0.000787164259236306 | Test loss: 0.0007549047586508095\n",
            "Epoch:9430 | Loss: 0.000787164259236306 | Test loss: 0.0007549047586508095\n",
            "Epoch:9440 | Loss: 0.000787164259236306 | Test loss: 0.0007549047586508095\n",
            "Epoch:9450 | Loss: 0.000787164259236306 | Test loss: 0.0007549047586508095\n",
            "Epoch:9460 | Loss: 0.000787164259236306 | Test loss: 0.0007549047586508095\n",
            "Epoch:9470 | Loss: 0.000787164259236306 | Test loss: 0.0007549047586508095\n",
            "Epoch:9480 | Loss: 0.000787164259236306 | Test loss: 0.0007549047586508095\n",
            "Epoch:9490 | Loss: 0.000787164259236306 | Test loss: 0.0007549047586508095\n",
            "Epoch:9500 | Loss: 0.000787164259236306 | Test loss: 0.0007549047586508095\n",
            "Epoch:9510 | Loss: 0.000787164259236306 | Test loss: 0.0007549047586508095\n",
            "Epoch:9520 | Loss: 0.000787164259236306 | Test loss: 0.0007549047586508095\n",
            "Epoch:9530 | Loss: 0.000787164259236306 | Test loss: 0.0007549047586508095\n",
            "Epoch:9540 | Loss: 0.000787164259236306 | Test loss: 0.0007549047586508095\n",
            "Epoch:9550 | Loss: 0.000787164259236306 | Test loss: 0.0007549047586508095\n",
            "Epoch:9560 | Loss: 0.000787164259236306 | Test loss: 0.0007549047586508095\n",
            "Epoch:9570 | Loss: 0.000787164259236306 | Test loss: 0.0007549047586508095\n",
            "Epoch:9580 | Loss: 0.000787164259236306 | Test loss: 0.0007549047586508095\n",
            "Epoch:9590 | Loss: 0.000787164259236306 | Test loss: 0.0007549047586508095\n",
            "Epoch:9600 | Loss: 0.000787164259236306 | Test loss: 0.0007549047586508095\n",
            "Epoch:9610 | Loss: 0.000787164259236306 | Test loss: 0.0007549047586508095\n",
            "Epoch:9620 | Loss: 0.000787164259236306 | Test loss: 0.0007549047586508095\n",
            "Epoch:9630 | Loss: 0.000787164259236306 | Test loss: 0.0007549047586508095\n",
            "Epoch:9640 | Loss: 0.000787164259236306 | Test loss: 0.0007549047586508095\n",
            "Epoch:9650 | Loss: 0.000787164259236306 | Test loss: 0.0007549047586508095\n",
            "Epoch:9660 | Loss: 0.000787164259236306 | Test loss: 0.0007549047586508095\n",
            "Epoch:9670 | Loss: 0.000787164259236306 | Test loss: 0.0007549047586508095\n",
            "Epoch:9680 | Loss: 0.000787164259236306 | Test loss: 0.0007549047586508095\n",
            "Epoch:9690 | Loss: 0.000787164259236306 | Test loss: 0.0007549047586508095\n",
            "Epoch:9700 | Loss: 0.000787164259236306 | Test loss: 0.0007549047586508095\n",
            "Epoch:9710 | Loss: 0.000787164259236306 | Test loss: 0.0007549047586508095\n",
            "Epoch:9720 | Loss: 0.000787164259236306 | Test loss: 0.0007549047586508095\n",
            "Epoch:9730 | Loss: 0.000787164259236306 | Test loss: 0.0007549047586508095\n",
            "Epoch:9740 | Loss: 0.000787164259236306 | Test loss: 0.0007549047586508095\n",
            "Epoch:9750 | Loss: 0.000787164259236306 | Test loss: 0.0007549047586508095\n",
            "Epoch:9760 | Loss: 0.000787164259236306 | Test loss: 0.0007549047586508095\n",
            "Epoch:9770 | Loss: 0.000787164259236306 | Test loss: 0.0007549047586508095\n",
            "Epoch:9780 | Loss: 0.000787164259236306 | Test loss: 0.0007549047586508095\n",
            "Epoch:9790 | Loss: 0.000787164259236306 | Test loss: 0.0007549047586508095\n",
            "Epoch:9800 | Loss: 0.000787164259236306 | Test loss: 0.0007549047586508095\n",
            "Epoch:9810 | Loss: 0.000787164259236306 | Test loss: 0.0007549047586508095\n",
            "Epoch:9820 | Loss: 0.000787164259236306 | Test loss: 0.0007549047586508095\n",
            "Epoch:9830 | Loss: 0.000787164259236306 | Test loss: 0.0007549047586508095\n",
            "Epoch:9840 | Loss: 0.000787164259236306 | Test loss: 0.0007549047586508095\n",
            "Epoch:9850 | Loss: 0.000787164259236306 | Test loss: 0.0007549047586508095\n",
            "Epoch:9860 | Loss: 0.000787164259236306 | Test loss: 0.0007549047586508095\n",
            "Epoch:9870 | Loss: 0.000787164259236306 | Test loss: 0.0007549047586508095\n",
            "Epoch:9880 | Loss: 0.000787164259236306 | Test loss: 0.0007549047586508095\n",
            "Epoch:9890 | Loss: 0.000787164259236306 | Test loss: 0.0007549047586508095\n",
            "Epoch:9900 | Loss: 0.000787164259236306 | Test loss: 0.0007549047586508095\n",
            "Epoch:9910 | Loss: 0.000787164259236306 | Test loss: 0.0007549047586508095\n",
            "Epoch:9920 | Loss: 0.000787164259236306 | Test loss: 0.0007549047586508095\n",
            "Epoch:9930 | Loss: 0.000787164259236306 | Test loss: 0.0007549047586508095\n",
            "Epoch:9940 | Loss: 0.000787164259236306 | Test loss: 0.0007549047586508095\n",
            "Epoch:9950 | Loss: 0.000787164259236306 | Test loss: 0.0007549047586508095\n",
            "Epoch:9960 | Loss: 0.000787164259236306 | Test loss: 0.0007549047586508095\n",
            "Epoch:9970 | Loss: 0.000787164259236306 | Test loss: 0.0007549047586508095\n",
            "Epoch:9980 | Loss: 0.000787164259236306 | Test loss: 0.0007549047586508095\n",
            "Epoch:9990 | Loss: 0.000787164259236306 | Test loss: 0.0007549047586508095\n"
          ]
        }
      ]
    },
    {
      "cell_type": "code",
      "source": [
        "model_1.state_dict()"
      ],
      "metadata": {
        "colab": {
          "base_uri": "https://localhost:8080/"
        },
        "id": "8A_HVURR6DFE",
        "outputId": "232b0f03-b05a-434d-a38d-d32e961647e0"
      },
      "execution_count": null,
      "outputs": [
        {
          "output_type": "execute_result",
          "data": {
            "text/plain": [
              "OrderedDict([('linear_layer.weight', tensor([[0.2004]], device='cuda:0')),\n",
              "             ('linear_layer.bias', tensor([0.8991], device='cuda:0'))])"
            ]
          },
          "metadata": {},
          "execution_count": 55
        }
      ]
    },
    {
      "cell_type": "markdown",
      "source": [
        "## 6.4. Making and evaluating predictions\n",
        "I'll try to make it for myself!"
      ],
      "metadata": {
        "id": "CDaJIUdieV01"
      }
    },
    {
      "cell_type": "code",
      "source": [
        "#Turn model into evaluation mode\n",
        "model_1.eval()"
      ],
      "metadata": {
        "colab": {
          "base_uri": "https://localhost:8080/"
        },
        "id": "JHt-MWkThfdj",
        "outputId": "0488c4a8-e600-4aff-987f-77c02e68303b"
      },
      "execution_count": null,
      "outputs": [
        {
          "output_type": "execute_result",
          "data": {
            "text/plain": [
              "LinearRegressionModelV2(\n",
              "  (linear_layer): Linear(in_features=1, out_features=1, bias=True)\n",
              ")"
            ]
          },
          "metadata": {},
          "execution_count": 56
        }
      ]
    },
    {
      "cell_type": "code",
      "source": [
        "with torch.inference_mode():\n",
        "  y_preds_new = model_1(X_test)"
      ],
      "metadata": {
        "id": "Qo7EAFBQfhfo"
      },
      "execution_count": null,
      "outputs": []
    },
    {
      "cell_type": "code",
      "source": [
        "plot_predictions(train_data=X_train.cpu(),\n",
        "                     train_labels=y_train.cpu(),\n",
        "                     test_data=X_test.cpu(),\n",
        "                     test_labels=y_test.cpu(),\n",
        "                    predictions=y_preds_new.cpu())"
      ],
      "metadata": {
        "colab": {
          "base_uri": "https://localhost:8080/",
          "height": 599
        },
        "id": "Xy8jXzhXflZD",
        "outputId": "451b8ff8-abca-4086-cf53-f33d1f91a6ea"
      },
      "execution_count": null,
      "outputs": [
        {
          "output_type": "display_data",
          "data": {
            "text/plain": [
              "<Figure size 1000x700 with 1 Axes>"
            ],
            "image/png": "[encoded data removed]"
          },
          "metadata": {}
        }
      ]
    },
    {
      "cell_type": "markdown",
      "source": [
        "### 6.5 Saving & loading a trained model"
      ],
      "metadata": {
        "id": "o8xuWj0Af8YW"
      }
    },
    {
      "cell_type": "code",
      "source": [
        "from pathlib import Path\n",
        "\n",
        "#Create models directory\n",
        "MODEL_PATH = Path(\"models\")\n",
        "MODEL_PATH.mkdir(parents=True, exist_ok=True)\n",
        "\n",
        "# 2. Create model save path\n",
        "MODEL_NAME = \"O1_pytorch_workflow_model_1.pth\"\n",
        "MODEL_SAVE_PATH = MODEL_PATH / MODEL_NAME\n",
        "\n",
        "MODEL_SAVE_PATH"
      ],
      "metadata": {
        "colab": {
          "base_uri": "https://localhost:8080/"
        },
        "id": "UI3RM8S0Z4-T",
        "outputId": "03ed4896-9864-4c8b-89bd-f139792d13e0"
      },
      "execution_count": null,
      "outputs": [
        {
          "output_type": "execute_result",
          "data": {
            "text/plain": [
              "PosixPath('models/O1_pytorch_workflow_model_1.pth')"
            ]
          },
          "metadata": {},
          "execution_count": 59
        }
      ]
    },
    {
      "cell_type": "code",
      "source": [
        "# 3. Save the model state dict\n",
        "print(f\"Saving model to: {MODEL_SAVE_PATH}\")\n",
        "torch.save(f=MODEL_SAVE_PATH,obj=model_1.state_dict())"
      ],
      "metadata": {
        "colab": {
          "base_uri": "https://localhost:8080/"
        },
        "id": "BXtrLsivdHEO",
        "outputId": "50ea62eb-f7ae-4e2c-9dc3-d0b362208a0e"
      },
      "execution_count": null,
      "outputs": [
        {
          "output_type": "stream",
          "name": "stdout",
          "text": [
            "Saving model to: models/O1_pytorch_workflow_model_1.pth\n"
          ]
        }
      ]
    },
    {
      "cell_type": "code",
      "source": [
        "model_1.state_dict()"
      ],
      "metadata": {
        "colab": {
          "base_uri": "https://localhost:8080/"
        },
        "id": "1twonVSgfIRX",
        "outputId": "b44f1537-870d-49fd-9267-1240b6405b2c"
      },
      "execution_count": null,
      "outputs": [
        {
          "output_type": "execute_result",
          "data": {
            "text/plain": [
              "OrderedDict([('linear_layer.weight', tensor([[0.2004]], device='cuda:0')),\n",
              "             ('linear_layer.bias', tensor([0.8991], device='cuda:0'))])"
            ]
          },
          "metadata": {},
          "execution_count": 62
        }
      ]
    },
    {
      "cell_type": "code",
      "source": [
        "#Load a PyTorch\n",
        "\n",
        "#Create a new instance of linear regression model V2\n",
        "loaded_model_1 = LinearRegressionModelV2()\n",
        "\n",
        "#Load the saved model_1 state_dict\n",
        "loaded_model_1.load_state_dict(torch.load(MODEL_SAVE_PATH))\n",
        "\n",
        "#Put the loaded model to device\n",
        "loaded_model_1.to(device)"
      ],
      "metadata": {
        "colab": {
          "base_uri": "https://localhost:8080/"
        },
        "id": "0QfXy00SffyM",
        "outputId": "ec2bc4c2-e8a4-4de5-9e4c-7a1f9214b347"
      },
      "execution_count": null,
      "outputs": [
        {
          "output_type": "execute_result",
          "data": {
            "text/plain": [
              "LinearRegressionModelV2(\n",
              "  (linear_layer): Linear(in_features=1, out_features=1, bias=True)\n",
              ")"
            ]
          },
          "metadata": {},
          "execution_count": 76
        }
      ]
    },
    {
      "cell_type": "code",
      "source": [
        "#Evaluate loaded model\n",
        "loaded_model_1.eval()\n",
        "with torch.inference_mode():\n",
        "  loaded_model_1_preds = loaded_model_1(X_test)\n",
        "\n",
        "y_preds_new == loaded_model_1_preds"
      ],
      "metadata": {
        "colab": {
          "base_uri": "https://localhost:8080/"
        },
        "id": "sJ9lOtWWhWZt",
        "outputId": "ee56bad2-2427-46ad-d471-4a40b433b41f"
      },
      "execution_count": null,
      "outputs": [
        {
          "output_type": "execute_result",
          "data": {
            "text/plain": [
              "tensor([[True],\n",
              "        [True],\n",
              "        [True],\n",
              "        [True],\n",
              "        [True],\n",
              "        [True],\n",
              "        [True],\n",
              "        [True],\n",
              "        [True],\n",
              "        [True]], device='cuda:0')"
            ]
          },
          "metadata": {},
          "execution_count": 78
        }
      ]
    },
    {
      "cell_type": "code",
      "source": [
        "next(loaded_model_1.parameters()).device"
      ],
      "metadata": {
        "colab": {
          "base_uri": "https://localhost:8080/"
        },
        "id": "-J1thKKcgRGR",
        "outputId": "4045583c-3762-4fe4-bdf1-402a46cc5384"
      },
      "execution_count": null,
      "outputs": [
        {
          "output_type": "execute_result",
          "data": {
            "text/plain": [
              "device(type='cuda', index=0)"
            ]
          },
          "metadata": {},
          "execution_count": 72
        }
      ]
    },
    {
      "cell_type": "code",
      "source": [
        "device"
      ],
      "metadata": {
        "colab": {
          "base_uri": "https://localhost:8080/",
          "height": 35
        },
        "id": "8igZl0dthM4T",
        "outputId": "92d16fc2-9095-4542-b344-76951b71a30d"
      },
      "execution_count": null,
      "outputs": [
        {
          "output_type": "execute_result",
          "data": {
            "text/plain": [
              "'cuda'"
            ],
            "application/vnd.google.colaboratory.intrinsic+json": {
              "type": "string"
            }
          },
          "metadata": {},
          "execution_count": 69
        }
      ]
    },
    {
      "cell_type": "code",
      "source": [
        "!nvidia-smi"
      ],
      "metadata": {
        "colab": {
          "base_uri": "https://localhost:8080/"
        },
        "id": "stt3jEtUg4GO",
        "outputId": "b3042385-f338-4541-b109-388ba752fa6d"
      },
      "execution_count": null,
      "outputs": [
        {
          "output_type": "stream",
          "name": "stdout",
          "text": [
            "Sat Aug 19 11:18:30 2023       \n",
            "+-----------------------------------------------------------------------------+\n",
            "| NVIDIA-SMI 525.105.17   Driver Version: 525.105.17   CUDA Version: 12.0     |\n",
            "|-------------------------------+----------------------+----------------------+\n",
            "| GPU  Name        Persistence-M| Bus-Id        Disp.A | Volatile Uncorr. ECC |\n",
            "| Fan  Temp  Perf  Pwr:Usage/Cap|         Memory-Usage | GPU-Util  Compute M. |\n",
            "|                               |                      |               MIG M. |\n",
            "|===============================+======================+======================|\n",
            "|   0  Tesla T4            Off  | 00000000:00:04.0 Off |                    0 |\n",
            "| N/A   67C    P0    29W /  70W |    821MiB / 15360MiB |      0%      Default |\n",
            "|                               |                      |                  N/A |\n",
            "+-------------------------------+----------------------+----------------------+\n",
            "                                                                               \n",
            "+-----------------------------------------------------------------------------+\n",
            "| Processes:                                                                  |\n",
            "|  GPU   GI   CI        PID   Type   Process name                  GPU Memory |\n",
            "|        ID   ID                                                   Usage      |\n",
            "|=============================================================================|\n",
            "+-----------------------------------------------------------------------------+\n"
          ]
        }
      ]
    },
    {
      "cell_type": "markdown",
      "source": [
        "##Exercises & Extra-curriculum\n",
        "\n",
        "They are here: https://learnpytorch.io/01_pytorch_workflow/"
      ],
      "metadata": {
        "id": "h1am6Z6XhBvk"
      }
    }
  ]
}