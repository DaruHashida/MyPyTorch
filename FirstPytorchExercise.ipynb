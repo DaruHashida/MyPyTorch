{
  "nbformat": 4,
  "nbformat_minor": 0,
  "metadata": {
    "colab": {
      "provenance": [],
      "gpuType": "T4",
      "authorship_tag": "ABX9TyMwyq4fpPcaC+iHrelV5XLR",
      "include_colab_link": true
    },
    "kernelspec": {
      "name": "python3",
      "display_name": "Python 3"
    },
    "language_info": {
      "name": "python"
    },
    "accelerator": "GPU"
  },
  "cells": [
    {
      "cell_type": "markdown",
      "metadata": {
        "id": "view-in-github",
        "colab_type": "text"
      },
      "source": [
        "<a href=\"https://colab.research.google.com/github/DaruHashida/MyPyTorch/blob/main/FirstPytorchExercise.ipynb\" target=\"_parent\"><img src=\"https://colab.research.google.com/assets/colab-badge.svg\" alt=\"Open In Colab\"/></a>"
      ]
    },
    {
      "cell_type": "markdown",
      "source": [
        "##00. PyTorch Fundamentals\n"
      ],
      "metadata": {
        "id": "xlLkIY-jTtHJ"
      }
    },
    {
      "cell_type": "markdown",
      "source": [],
      "metadata": {
        "id": "2WZcy2rlVB54"
      }
    },
    {
      "cell_type": "code",
      "source": [],
      "metadata": {
        "id": "V9TSp40dVBrW"
      },
      "execution_count": null,
      "outputs": []
    },
    {
      "cell_type": "markdown",
      "source": [],
      "metadata": {
        "id": "pbRY-yqcVBHJ"
      }
    },
    {
      "cell_type": "code",
      "execution_count": null,
      "metadata": {
        "colab": {
          "base_uri": "https://localhost:8080/"
        },
        "id": "9KTZETP5f1M1",
        "outputId": "0ca8289b-aec4-415f-fe77-2a098e18abaa"
      },
      "outputs": [
        {
          "output_type": "stream",
          "name": "stdout",
          "text": [
            "I'd like to perfectly learn PyTorch\n"
          ]
        }
      ],
      "source": [
        "print('I\\'d like to perfectly learn PyTorch')"
      ]
    },
    {
      "cell_type": "markdown",
      "source": [
        "Давайте попробуем посмотреть, что за версия у видеокарты:"
      ],
      "metadata": {
        "id": "HhmzmHwDTJmN"
      }
    },
    {
      "cell_type": "code",
      "source": [
        "!nvidia-smi"
      ],
      "metadata": {
        "colab": {
          "base_uri": "https://localhost:8080/"
        },
        "id": "xVcrH_sqTTiq",
        "outputId": "5089f8ef-4e04-46f0-9f3c-0ebb7f809a28"
      },
      "execution_count": null,
      "outputs": [
        {
          "output_type": "stream",
          "name": "stdout",
          "text": [
            "/bin/bash: line 1: nvidia-smi: command not found\n"
          ]
        }
      ]
    },
    {
      "cell_type": "code",
      "source": [
        "import torch\n",
        "import pandas as pd\n",
        "import numpy as np\n",
        "import matplotlib.pyplot as plt\n",
        "print(torch.__version__)"
      ],
      "metadata": {
        "colab": {
          "base_uri": "https://localhost:8080/"
        },
        "id": "ulp2fywYVjLp",
        "outputId": "3f826859-8e03-49ea-c16a-520ab55a1a73"
      },
      "execution_count": null,
      "outputs": [
        {
          "output_type": "stream",
          "name": "stdout",
          "text": [
            "2.0.1+cu118\n"
          ]
        }
      ]
    },
    {
      "cell_type": "markdown",
      "source": [
        "##Introduction to Tensors\n",
        "\n",
        "### Creating tensors"
      ],
      "metadata": {
        "id": "HbX80T9vJKZe"
      }
    },
    {
      "cell_type": "code",
      "source": [
        "# scalar\n",
        "scalar = torch.tensor(7)\n",
        "scalar"
      ],
      "metadata": {
        "id": "BYGpi1YwJJqP",
        "colab": {
          "base_uri": "https://localhost:8080/"
        },
        "outputId": "5baa91c2-84cc-4de2-ff01-7acd04d3e0a7"
      },
      "execution_count": null,
      "outputs": [
        {
          "output_type": "execute_result",
          "data": {
            "text/plain": [
              "tensor(7)"
            ]
          },
          "metadata": {},
          "execution_count": 5
        }
      ]
    },
    {
      "cell_type": "markdown",
      "source": [
        "PyTorch tensorsare created using `torch.Tensor{}` -= https://pytorch.org/docs/stable/tensors.html"
      ],
      "metadata": {
        "id": "reXgKu_5KWCN"
      }
    },
    {
      "cell_type": "code",
      "source": [
        "scalar.ndim"
      ],
      "metadata": {
        "colab": {
          "base_uri": "https://localhost:8080/"
        },
        "id": "qkUbjeskKaJ_",
        "outputId": "36ce4a95-9276-48c2-ac0d-938d13b4003e"
      },
      "execution_count": null,
      "outputs": [
        {
          "output_type": "execute_result",
          "data": {
            "text/plain": [
              "0"
            ]
          },
          "metadata": {},
          "execution_count": 6
        }
      ]
    },
    {
      "cell_type": "code",
      "source": [
        "#Get tensor back as Python int\n",
        "scalar.item()"
      ],
      "metadata": {
        "colab": {
          "base_uri": "https://localhost:8080/"
        },
        "id": "zlFRULQrLS-Z",
        "outputId": "6f7a6dd5-f617-48d5-cabe-e6971dd40dad"
      },
      "execution_count": null,
      "outputs": [
        {
          "output_type": "execute_result",
          "data": {
            "text/plain": [
              "7"
            ]
          },
          "metadata": {},
          "execution_count": 7
        }
      ]
    },
    {
      "cell_type": "code",
      "source": [
        "# Vector\n",
        "vector=torch.tensor([7,7])\n",
        "vector"
      ],
      "metadata": {
        "colab": {
          "base_uri": "https://localhost:8080/"
        },
        "id": "UbMYluQ_LZqO",
        "outputId": "99310fef-a9a3-4811-d72b-1afbefc6e6a3"
      },
      "execution_count": null,
      "outputs": [
        {
          "output_type": "execute_result",
          "data": {
            "text/plain": [
              "tensor([7, 7])"
            ]
          },
          "metadata": {},
          "execution_count": 8
        }
      ]
    },
    {
      "cell_type": "code",
      "source": [
        "vector.ndim"
      ],
      "metadata": {
        "colab": {
          "base_uri": "https://localhost:8080/"
        },
        "id": "y6tHMao1MFd9",
        "outputId": "92eef7df-619c-4d82-e71a-21d083fb225c"
      },
      "execution_count": null,
      "outputs": [
        {
          "output_type": "execute_result",
          "data": {
            "text/plain": [
              "1"
            ]
          },
          "metadata": {},
          "execution_count": 9
        }
      ]
    },
    {
      "cell_type": "code",
      "source": [
        "vector.shape"
      ],
      "metadata": {
        "colab": {
          "base_uri": "https://localhost:8080/"
        },
        "id": "ngJbtgchMTGD",
        "outputId": "047b7cc2-baa5-40d0-c07a-57acefcac854"
      },
      "execution_count": null,
      "outputs": [
        {
          "output_type": "execute_result",
          "data": {
            "text/plain": [
              "torch.Size([2])"
            ]
          },
          "metadata": {},
          "execution_count": 10
        }
      ]
    },
    {
      "cell_type": "code",
      "source": [
        "#MATRIX\n",
        "MATRIX = torch.tensor([[7,8],\n",
        "                      [9,10]])\n",
        "MATRIX"
      ],
      "metadata": {
        "colab": {
          "base_uri": "https://localhost:8080/"
        },
        "id": "S8pmYkMeMe0v",
        "outputId": "8c763d2d-3a3e-4d8b-fc0d-13666202e825"
      },
      "execution_count": null,
      "outputs": [
        {
          "output_type": "execute_result",
          "data": {
            "text/plain": [
              "tensor([[ 7,  8],\n",
              "        [ 9, 10]])"
            ]
          },
          "metadata": {},
          "execution_count": 11
        }
      ]
    },
    {
      "cell_type": "code",
      "source": [
        "MATRIX.ndim"
      ],
      "metadata": {
        "colab": {
          "base_uri": "https://localhost:8080/"
        },
        "id": "OmooH66_M75P",
        "outputId": "5990bec9-21fa-466e-ac32-e842d1af1386"
      },
      "execution_count": null,
      "outputs": [
        {
          "output_type": "execute_result",
          "data": {
            "text/plain": [
              "2"
            ]
          },
          "metadata": {},
          "execution_count": 12
        }
      ]
    },
    {
      "cell_type": "code",
      "source": [
        "MATRIX[0]"
      ],
      "metadata": {
        "colab": {
          "base_uri": "https://localhost:8080/"
        },
        "id": "j9nMZzEXNI_h",
        "outputId": "9c10db67-382f-479a-bbbd-9665af1f153f"
      },
      "execution_count": null,
      "outputs": [
        {
          "output_type": "execute_result",
          "data": {
            "text/plain": [
              "tensor([7, 8])"
            ]
          },
          "metadata": {},
          "execution_count": 13
        }
      ]
    },
    {
      "cell_type": "code",
      "source": [
        "MATRIX[1]"
      ],
      "metadata": {
        "colab": {
          "base_uri": "https://localhost:8080/"
        },
        "id": "874a9yeDNPUl",
        "outputId": "75c4d66d-b460-411c-d12c-e887f4bf7032"
      },
      "execution_count": null,
      "outputs": [
        {
          "output_type": "execute_result",
          "data": {
            "text/plain": [
              "tensor([ 9, 10])"
            ]
          },
          "metadata": {},
          "execution_count": 14
        }
      ]
    },
    {
      "cell_type": "code",
      "source": [
        "MATRIX.shape"
      ],
      "metadata": {
        "colab": {
          "base_uri": "https://localhost:8080/"
        },
        "id": "vY8upZ85NRoW",
        "outputId": "6fec1242-6a8e-45fd-dd92-3e2c36eaf2ce"
      },
      "execution_count": null,
      "outputs": [
        {
          "output_type": "execute_result",
          "data": {
            "text/plain": [
              "torch.Size([2, 2])"
            ]
          },
          "metadata": {},
          "execution_count": 15
        }
      ]
    },
    {
      "cell_type": "code",
      "source": [
        "# TENSOR\n",
        "TENSOR = torch.tensor([[[1, 2, 3],\n",
        "                        [3, 6, 9],\n",
        "                        [2, 4, 5]]])\n",
        "TENSOR\n"
      ],
      "metadata": {
        "colab": {
          "base_uri": "https://localhost:8080/"
        },
        "id": "xDC32nliNTRR",
        "outputId": "22483f3a-fe5a-4c8d-8f60-0e14d2869a2a"
      },
      "execution_count": null,
      "outputs": [
        {
          "output_type": "execute_result",
          "data": {
            "text/plain": [
              "tensor([[[1, 2, 3],\n",
              "         [3, 6, 9],\n",
              "         [2, 4, 5]]])"
            ]
          },
          "metadata": {},
          "execution_count": 16
        }
      ]
    },
    {
      "cell_type": "code",
      "source": [
        "TENSOR.ndim"
      ],
      "metadata": {
        "colab": {
          "base_uri": "https://localhost:8080/"
        },
        "id": "jyaymjWCN5JJ",
        "outputId": "bb492ce6-83cd-4e48-f999-d5d2a053b5ce"
      },
      "execution_count": null,
      "outputs": [
        {
          "output_type": "execute_result",
          "data": {
            "text/plain": [
              "3"
            ]
          },
          "metadata": {},
          "execution_count": 17
        }
      ]
    },
    {
      "cell_type": "code",
      "source": [
        "TENSOR.shape"
      ],
      "metadata": {
        "colab": {
          "base_uri": "https://localhost:8080/"
        },
        "id": "lh_vpxyaORpq",
        "outputId": "5807dbb8-d452-430e-8eeb-1be6cc5a3e5b"
      },
      "execution_count": null,
      "outputs": [
        {
          "output_type": "execute_result",
          "data": {
            "text/plain": [
              "torch.Size([1, 3, 3])"
            ]
          },
          "metadata": {},
          "execution_count": 18
        }
      ]
    },
    {
      "cell_type": "code",
      "source": [
        "TENSOR[0]"
      ],
      "metadata": {
        "colab": {
          "base_uri": "https://localhost:8080/"
        },
        "id": "krMOxmyqOXFk",
        "outputId": "32c5ca40-365d-4121-818f-b58aad74ed5e"
      },
      "execution_count": null,
      "outputs": [
        {
          "output_type": "execute_result",
          "data": {
            "text/plain": [
              "tensor([[1, 2, 3],\n",
              "        [3, 6, 9],\n",
              "        [2, 4, 5]])"
            ]
          },
          "metadata": {},
          "execution_count": 19
        }
      ]
    },
    {
      "cell_type": "code",
      "source": [
        "TENSOR1 = torch.tensor([[[3, 2, 1],\n",
        "                         [7, 18, 124],\n",
        "                         [15, 90, 60]],\n",
        "                        [[19, 18, 17],\n",
        "                         [16, 15, 14],\n",
        "                         [10, 8, 7]]])\n",
        "TENSOR1"
      ],
      "metadata": {
        "colab": {
          "base_uri": "https://localhost:8080/"
        },
        "id": "gJiRAugnOeym",
        "outputId": "27a1426d-2c5d-49d3-a6b2-4a18974c372c"
      },
      "execution_count": null,
      "outputs": [
        {
          "output_type": "execute_result",
          "data": {
            "text/plain": [
              "tensor([[[  3,   2,   1],\n",
              "         [  7,  18, 124],\n",
              "         [ 15,  90,  60]],\n",
              "\n",
              "        [[ 19,  18,  17],\n",
              "         [ 16,  15,  14],\n",
              "         [ 10,   8,   7]]])"
            ]
          },
          "metadata": {},
          "execution_count": 20
        }
      ]
    },
    {
      "cell_type": "code",
      "source": [
        "TENSOR1.ndim"
      ],
      "metadata": {
        "colab": {
          "base_uri": "https://localhost:8080/"
        },
        "id": "9dGwljfTPvyd",
        "outputId": "46197450-a230-4ff3-937e-7e02e6046936"
      },
      "execution_count": null,
      "outputs": [
        {
          "output_type": "execute_result",
          "data": {
            "text/plain": [
              "3"
            ]
          },
          "metadata": {},
          "execution_count": 21
        }
      ]
    },
    {
      "cell_type": "markdown",
      "source": [],
      "metadata": {
        "id": "RJd2xYLmlXft"
      }
    },
    {
      "cell_type": "code",
      "source": [
        "TENSOR1.shape"
      ],
      "metadata": {
        "colab": {
          "base_uri": "https://localhost:8080/"
        },
        "id": "DKuXn3kVRQiO",
        "outputId": "27a4baeb-4386-4c9a-ec19-9baed4b37357"
      },
      "execution_count": null,
      "outputs": [
        {
          "output_type": "execute_result",
          "data": {
            "text/plain": [
              "torch.Size([2, 3, 3])"
            ]
          },
          "metadata": {},
          "execution_count": 22
        }
      ]
    },
    {
      "cell_type": "markdown",
      "source": [
        "###Random tensors\n",
        "\n",
        "Why random tensors???\n",
        "\n",
        "Random tensors are important because the way many neural networks learn is that they start with tensors full of random numbers and then adjust those random numbers to better represent the data.\n",
        "\n",
        "`Start with random numbers -> look at data-> update random numbers-> look at data-> update random numbers`"
      ],
      "metadata": {
        "id": "LDDBU-Osllx1"
      }
    },
    {
      "cell_type": "code",
      "source": [
        "#Create a random tensor of size [3,4]\n",
        "\n",
        "random_tensor=torch.rand(1,3,4)\n",
        "random_tensor"
      ],
      "metadata": {
        "colab": {
          "base_uri": "https://localhost:8080/"
        },
        "id": "dlsI03WRnLZw",
        "outputId": "6f80842a-4a01-484f-9350-a3372ab76dde"
      },
      "execution_count": null,
      "outputs": [
        {
          "output_type": "execute_result",
          "data": {
            "text/plain": [
              "tensor([[[0.5330, 0.9270, 0.5722, 0.5464],\n",
              "         [0.7611, 0.8534, 0.4754, 0.5093],\n",
              "         [0.7929, 0.4531, 0.3862, 0.4404]]])"
            ]
          },
          "metadata": {},
          "execution_count": 23
        }
      ]
    },
    {
      "cell_type": "code",
      "source": [],
      "metadata": {
        "id": "ES5-l0CDpBJH"
      },
      "execution_count": null,
      "outputs": []
    },
    {
      "cell_type": "code",
      "source": [
        "#Create a random tensor with similar shape to an image tensor\n",
        "random_image_size_tensor=torch.rand(size=(3,224,224)) #height, width, colour channels (R, G, B)\n",
        "random_image_size_tensor.shape, random_image_size_tensor.ndim"
      ],
      "metadata": {
        "colab": {
          "base_uri": "https://localhost:8080/"
        },
        "id": "fW--TeJCndMd",
        "outputId": "d53b00ca-c9aa-42dc-eff0-4c373de5f2da"
      },
      "execution_count": null,
      "outputs": [
        {
          "output_type": "execute_result",
          "data": {
            "text/plain": [
              "(torch.Size([3, 224, 224]), 3)"
            ]
          },
          "metadata": {},
          "execution_count": 24
        }
      ]
    },
    {
      "cell_type": "code",
      "source": [
        "random_tensor2=torch.rand(3,4,5,6)\n",
        "random_tensor2"
      ],
      "metadata": {
        "colab": {
          "base_uri": "https://localhost:8080/"
        },
        "id": "zxrrIBNBnhhk",
        "outputId": "ce54a942-689d-4947-8953-8fa055eb3860"
      },
      "execution_count": null,
      "outputs": [
        {
          "output_type": "execute_result",
          "data": {
            "text/plain": [
              "tensor([[[[0.6047, 0.6848, 0.7304, 0.8194, 0.2221, 0.0331],\n",
              "          [0.3614, 0.2196, 0.3077, 0.4263, 0.3784, 0.0754],\n",
              "          [0.5788, 0.4831, 0.8578, 0.2789, 0.7726, 0.0038],\n",
              "          [0.3373, 0.7772, 0.7788, 0.1798, 0.5603, 0.1713],\n",
              "          [0.4183, 0.7306, 0.7074, 0.7502, 0.3024, 0.3181]],\n",
              "\n",
              "         [[0.1625, 0.5199, 0.6627, 0.0945, 0.4706, 0.4538],\n",
              "          [0.6468, 0.4079, 0.3545, 0.6595, 0.8388, 0.9183],\n",
              "          [0.1346, 0.6755, 0.8925, 0.5572, 0.9333, 0.7588],\n",
              "          [0.6126, 0.2275, 0.8054, 0.2960, 0.4558, 0.5349],\n",
              "          [0.2173, 0.4326, 0.9833, 0.3911, 0.7762, 0.5204]],\n",
              "\n",
              "         [[0.0933, 0.9364, 0.4509, 0.4390, 0.8419, 0.7142],\n",
              "          [0.7069, 0.1756, 0.4223, 0.2135, 0.1514, 0.3402],\n",
              "          [0.1664, 0.7737, 0.5875, 0.7212, 0.7769, 0.9032],\n",
              "          [0.9862, 0.0781, 0.7051, 0.3249, 0.9876, 0.6367],\n",
              "          [0.1194, 0.7492, 0.6835, 0.0853, 0.6342, 0.9029]],\n",
              "\n",
              "         [[0.4958, 0.7995, 0.3782, 0.7638, 0.0586, 0.8244],\n",
              "          [0.7495, 0.7246, 0.3141, 0.1015, 0.0831, 0.9556],\n",
              "          [0.2944, 0.0764, 0.5806, 0.4459, 0.9737, 0.7605],\n",
              "          [0.8282, 0.1482, 0.9560, 0.9732, 0.8297, 0.9085],\n",
              "          [0.9080, 0.0791, 0.6316, 0.2762, 0.8184, 0.5296]]],\n",
              "\n",
              "\n",
              "        [[[0.7807, 0.8747, 0.1812, 0.5060, 0.1321, 0.7705],\n",
              "          [0.5217, 0.2056, 0.1178, 0.3018, 0.6704, 0.8588],\n",
              "          [0.1439, 0.6541, 0.0836, 0.6231, 0.8699, 0.4997],\n",
              "          [0.6781, 0.2720, 0.4708, 0.2117, 0.7098, 0.3489],\n",
              "          [0.9355, 0.8380, 0.4436, 0.1182, 0.4376, 0.0896]],\n",
              "\n",
              "         [[0.7152, 0.6717, 0.7977, 0.4206, 0.6955, 0.6271],\n",
              "          [0.2104, 0.8516, 0.8788, 0.3234, 0.4319, 0.3875],\n",
              "          [0.3367, 0.0953, 0.4670, 0.5032, 0.5023, 0.8512],\n",
              "          [0.6703, 0.7076, 0.0396, 0.6548, 0.2054, 0.3789],\n",
              "          [0.4489, 0.2596, 0.4177, 0.7513, 0.6204, 0.2205]],\n",
              "\n",
              "         [[0.1031, 0.2571, 0.2697, 0.9065, 0.8747, 0.4999],\n",
              "          [0.6692, 0.3179, 0.3455, 0.8610, 0.2094, 0.6923],\n",
              "          [0.9619, 0.8306, 0.0441, 0.8735, 0.8540, 0.8783],\n",
              "          [0.0046, 0.8376, 0.3352, 0.3576, 0.0605, 0.1367],\n",
              "          [0.1862, 0.4884, 0.1782, 0.3140, 0.2211, 0.8610]],\n",
              "\n",
              "         [[0.8551, 0.1818, 0.0906, 0.0740, 0.5423, 0.1185],\n",
              "          [0.2429, 0.2138, 0.2840, 0.7692, 0.5708, 0.5125],\n",
              "          [0.7390, 0.9660, 0.8346, 0.8103, 0.2986, 0.3942],\n",
              "          [0.6172, 0.7268, 0.5352, 0.1242, 0.2363, 0.7417],\n",
              "          [0.9888, 0.3289, 0.5366, 0.1336, 0.2244, 0.5848]]],\n",
              "\n",
              "\n",
              "        [[[0.1340, 0.7686, 0.1599, 0.9467, 0.1368, 0.1647],\n",
              "          [0.1184, 0.8119, 0.3442, 0.7489, 0.0614, 0.7028],\n",
              "          [0.3114, 0.1812, 0.4508, 0.4861, 0.2676, 0.5248],\n",
              "          [0.6620, 0.9400, 0.0547, 0.0140, 0.2746, 0.1266],\n",
              "          [0.1987, 0.8998, 0.6494, 0.8417, 0.9245, 0.1751]],\n",
              "\n",
              "         [[0.3482, 0.9637, 0.5967, 0.4578, 0.2349, 0.8622],\n",
              "          [0.2974, 0.4240, 0.5810, 0.8269, 0.9227, 0.5372],\n",
              "          [0.4219, 0.4091, 0.0365, 0.2881, 0.9667, 0.1692],\n",
              "          [0.1171, 0.1319, 0.8943, 0.8506, 0.8325, 0.6537],\n",
              "          [0.2881, 0.8097, 0.3889, 0.2346, 0.4980, 0.2975]],\n",
              "\n",
              "         [[0.6355, 0.7100, 0.1259, 0.8955, 0.6415, 0.3816],\n",
              "          [0.6541, 0.4613, 0.0982, 0.5125, 0.9286, 0.5905],\n",
              "          [0.1450, 0.9868, 0.4072, 0.0372, 0.3451, 0.7897],\n",
              "          [0.3111, 0.9983, 0.6050, 0.3590, 0.1533, 0.7413],\n",
              "          [0.0235, 0.1118, 0.9864, 0.8230, 0.3359, 0.9513]],\n",
              "\n",
              "         [[0.5262, 0.5122, 0.6987, 0.4180, 0.9649, 0.5453],\n",
              "          [0.3687, 0.7221, 0.8052, 0.2794, 0.5173, 0.3606],\n",
              "          [0.0373, 0.9009, 0.7511, 0.5634, 0.2485, 0.8896],\n",
              "          [0.7129, 0.0318, 0.0262, 0.7452, 0.1206, 0.8007],\n",
              "          [0.7915, 0.8045, 0.4856, 0.5910, 0.7673, 0.5138]]]])"
            ]
          },
          "metadata": {},
          "execution_count": 25
        }
      ]
    },
    {
      "cell_type": "markdown",
      "source": [
        "### Zeros and ones"
      ],
      "metadata": {
        "id": "2ex27cSdpWp_"
      }
    },
    {
      "cell_type": "code",
      "source": [
        "zeros = torch.zeros(3,4)\n",
        "zeros"
      ],
      "metadata": {
        "colab": {
          "base_uri": "https://localhost:8080/"
        },
        "id": "gnxROn199ATn",
        "outputId": "7d848ea1-948f-4cd7-c0ac-4ad2d1a6652f"
      },
      "execution_count": null,
      "outputs": [
        {
          "output_type": "execute_result",
          "data": {
            "text/plain": [
              "tensor([[0., 0., 0., 0.],\n",
              "        [0., 0., 0., 0.],\n",
              "        [0., 0., 0., 0.]])"
            ]
          },
          "metadata": {},
          "execution_count": 26
        }
      ]
    },
    {
      "cell_type": "code",
      "source": [
        "#Create a tensor of all ones\n",
        "ones=torch.ones(3,4)\n",
        "ones"
      ],
      "metadata": {
        "colab": {
          "base_uri": "https://localhost:8080/"
        },
        "id": "L1DOTNvM9L0Z",
        "outputId": "9a71fd2b-db12-468d-91e1-42ebd38ca30f"
      },
      "execution_count": null,
      "outputs": [
        {
          "output_type": "execute_result",
          "data": {
            "text/plain": [
              "tensor([[1., 1., 1., 1.],\n",
              "        [1., 1., 1., 1.],\n",
              "        [1., 1., 1., 1.]])"
            ]
          },
          "metadata": {},
          "execution_count": 27
        }
      ]
    },
    {
      "cell_type": "code",
      "source": [
        "ones.dtype"
      ],
      "metadata": {
        "colab": {
          "base_uri": "https://localhost:8080/"
        },
        "id": "p_q6f9P79XoC",
        "outputId": "f751e79f-dc31-43cf-b10b-342fcc9ced3e"
      },
      "execution_count": null,
      "outputs": [
        {
          "output_type": "execute_result",
          "data": {
            "text/plain": [
              "torch.float32"
            ]
          },
          "metadata": {},
          "execution_count": 28
        }
      ]
    },
    {
      "cell_type": "code",
      "source": [
        "random_tensor.dtype"
      ],
      "metadata": {
        "colab": {
          "base_uri": "https://localhost:8080/"
        },
        "id": "SjsgdeOz9v3L",
        "outputId": "d25eb114-27f7-4e00-bb6b-72a6ddf124d8"
      },
      "execution_count": null,
      "outputs": [
        {
          "output_type": "execute_result",
          "data": {
            "text/plain": [
              "torch.float32"
            ]
          },
          "metadata": {},
          "execution_count": 29
        }
      ]
    },
    {
      "cell_type": "markdown",
      "source": [
        "### Creating a range of tensors and tensors-like"
      ],
      "metadata": {
        "id": "M4mowkgV92a8"
      }
    },
    {
      "cell_type": "code",
      "source": [
        "#Use torch.range()\n",
        "one_to_ten = torch.arange(start=0,end=11,step=1)\n",
        "one_to_ten"
      ],
      "metadata": {
        "colab": {
          "base_uri": "https://localhost:8080/"
        },
        "id": "MdJWF1CA-JkL",
        "outputId": "17ab63f6-f763-47cc-ccc5-78905bb4d226"
      },
      "execution_count": null,
      "outputs": [
        {
          "output_type": "execute_result",
          "data": {
            "text/plain": [
              "tensor([ 0,  1,  2,  3,  4,  5,  6,  7,  8,  9, 10])"
            ]
          },
          "metadata": {},
          "execution_count": 30
        }
      ]
    },
    {
      "cell_type": "code",
      "source": [
        "#Creating tensors like\n",
        "ten_zeroes=torch.zeros_like(one_to_ten)\n",
        "ten_zeroes"
      ],
      "metadata": {
        "colab": {
          "base_uri": "https://localhost:8080/"
        },
        "id": "JURJ89OH-SEJ",
        "outputId": "8564d5a4-63ff-41b1-97d2-c23b1077f7ee"
      },
      "execution_count": null,
      "outputs": [
        {
          "output_type": "execute_result",
          "data": {
            "text/plain": [
              "tensor([0, 0, 0, 0, 0, 0, 0, 0, 0, 0, 0])"
            ]
          },
          "metadata": {},
          "execution_count": 31
        }
      ]
    },
    {
      "cell_type": "markdown",
      "source": [
        "###Tensor datatypes\n",
        "**Note:** Tensor datatypes is one of the 3 big errors i'll run into with PyTorch & deep learning:\n",
        "1. Tensors not right datatype\n",
        "2. Tensors not right shape\n",
        "3. Tensors not on the right device"
      ],
      "metadata": {
        "id": "yC8Lkzkp_Yit"
      }
    },
    {
      "cell_type": "code",
      "source": [
        "float_32_tensor = torch.tensor([3.0, 6.0, 9.0],\n",
        "                               dtype=None, #what dtype is the tensor\n",
        "                               device=None, #default \"cpu\", maybe \"cuda\"\n",
        "                               requires_grad=False #track gradients with tensor operations\n",
        "                               )\n",
        "float_32_tensor\n",
        "\n"
      ],
      "metadata": {
        "colab": {
          "base_uri": "https://localhost:8080/"
        },
        "id": "-NbgwlMMfdHU",
        "outputId": "5be248fb-6b8d-47f7-ff4d-5b1abe521643"
      },
      "execution_count": null,
      "outputs": [
        {
          "output_type": "execute_result",
          "data": {
            "text/plain": [
              "tensor([3., 6., 9.])"
            ]
          },
          "metadata": {},
          "execution_count": 32
        }
      ]
    },
    {
      "cell_type": "code",
      "source": [
        "float_32_tensor.dtype"
      ],
      "metadata": {
        "colab": {
          "base_uri": "https://localhost:8080/"
        },
        "id": "Gc4BTSdZfoaE",
        "outputId": "f3953e70-7cb1-4177-87cb-3909094eb78b"
      },
      "execution_count": null,
      "outputs": [
        {
          "output_type": "execute_result",
          "data": {
            "text/plain": [
              "torch.float32"
            ]
          },
          "metadata": {},
          "execution_count": 33
        }
      ]
    },
    {
      "cell_type": "code",
      "source": [
        "float_16_tensor=float_32_tensor.type(torch.float16)\n",
        "float_16_tensor"
      ],
      "metadata": {
        "colab": {
          "base_uri": "https://localhost:8080/"
        },
        "id": "53g-dHJIjttw",
        "outputId": "83b6d6a7-c606-4bd1-b8ca-23afc172a982"
      },
      "execution_count": null,
      "outputs": [
        {
          "output_type": "execute_result",
          "data": {
            "text/plain": [
              "tensor([3., 6., 9.], dtype=torch.float16)"
            ]
          },
          "metadata": {},
          "execution_count": 34
        }
      ]
    },
    {
      "cell_type": "code",
      "source": [
        "float_32_tensor*float_16_tensor"
      ],
      "metadata": {
        "colab": {
          "base_uri": "https://localhost:8080/"
        },
        "id": "JtWspL6EkTVl",
        "outputId": "83e2671a-588c-470c-de46-091d4afc1813"
      },
      "execution_count": null,
      "outputs": [
        {
          "output_type": "execute_result",
          "data": {
            "text/plain": [
              "tensor([ 9., 36., 81.])"
            ]
          },
          "metadata": {},
          "execution_count": 35
        }
      ]
    },
    {
      "cell_type": "code",
      "source": [
        "int_32_tensor = torch.tensor([3, 6, 9], dtype=torch.long)\n",
        "int_32_tensor"
      ],
      "metadata": {
        "colab": {
          "base_uri": "https://localhost:8080/"
        },
        "id": "P6LyVOhQleBf",
        "outputId": "6654000d-99ca-46d6-c958-8304c90afe78"
      },
      "execution_count": null,
      "outputs": [
        {
          "output_type": "execute_result",
          "data": {
            "text/plain": [
              "tensor([3, 6, 9])"
            ]
          },
          "metadata": {},
          "execution_count": 36
        }
      ]
    },
    {
      "cell_type": "code",
      "source": [
        "float_32_tensor*int_32_tensor"
      ],
      "metadata": {
        "colab": {
          "base_uri": "https://localhost:8080/"
        },
        "id": "OVhB4zytlz-n",
        "outputId": "228cdde2-3ec8-4be2-e43e-7135d35c3fcd"
      },
      "execution_count": null,
      "outputs": [
        {
          "output_type": "execute_result",
          "data": {
            "text/plain": [
              "tensor([ 9., 36., 81.])"
            ]
          },
          "metadata": {},
          "execution_count": 37
        }
      ]
    },
    {
      "cell_type": "markdown",
      "source": [
        "### Getting information from tensors\n",
        "1. To get dtype\n",
        "2. To get shape\n",
        "3. To get device"
      ],
      "metadata": {
        "id": "kTkvfkMwmWrD"
      }
    },
    {
      "cell_type": "code",
      "source": [
        "some_tensor = torch.rand(3,4, device=\"cpu\")\n",
        "some_tensor"
      ],
      "metadata": {
        "colab": {
          "base_uri": "https://localhost:8080/"
        },
        "id": "wyk3WnROmsoB",
        "outputId": "6f06d43e-f839-4431-e67c-c815006e27cb"
      },
      "execution_count": null,
      "outputs": [
        {
          "output_type": "execute_result",
          "data": {
            "text/plain": [
              "tensor([[0.4382, 0.3103, 0.2009, 0.1810],\n",
              "        [0.0944, 0.3712, 0.9083, 0.1940],\n",
              "        [0.6631, 0.6212, 0.9447, 0.8653]])"
            ]
          },
          "metadata": {},
          "execution_count": 38
        }
      ]
    },
    {
      "cell_type": "code",
      "source": [
        "print(some_tensor)\n",
        "print(f\"Datatype of tensor: {some_tensor.dtype}\")\n",
        "print(f\"Shape of tensor: {some_tensor.shape}\")\n",
        "print(f\"Device of tensor: {some_tensor.device}\")\n"
      ],
      "metadata": {
        "id": "E72RVgLCm0i1",
        "colab": {
          "base_uri": "https://localhost:8080/"
        },
        "outputId": "3b7239b3-aed2-49b1-b0a9-66330230efef"
      },
      "execution_count": null,
      "outputs": [
        {
          "output_type": "stream",
          "name": "stdout",
          "text": [
            "tensor([[0.4382, 0.3103, 0.2009, 0.1810],\n",
            "        [0.0944, 0.3712, 0.9083, 0.1940],\n",
            "        [0.6631, 0.6212, 0.9447, 0.8653]])\n",
            "Datatype of tensor: torch.float32\n",
            "Shape of tensor: torch.Size([3, 4])\n",
            "Device of tensor: cpu\n"
          ]
        }
      ]
    },
    {
      "cell_type": "markdown",
      "source": [
        "###Manipulating tensors (tensor operations)\n",
        "Tensor operations include:\n",
        "* Addition\n",
        "* Substraction\n",
        "* Multiplication (element-wise)\n",
        "* Division\n",
        "* Matrix multiplication"
      ],
      "metadata": {
        "id": "mfsnIfi6jx8R"
      }
    },
    {
      "cell_type": "code",
      "source": [
        "#Create a tensor and add 100 to it: addition\n",
        "tensor=torch.tensor([1, 2, 3])\n",
        "tensor + 100"
      ],
      "metadata": {
        "colab": {
          "base_uri": "https://localhost:8080/"
        },
        "id": "HXVaCrvzapWk",
        "outputId": "ffd06eb2-51ce-42a1-f745-a00bfa2db317"
      },
      "execution_count": null,
      "outputs": [
        {
          "output_type": "execute_result",
          "data": {
            "text/plain": [
              "tensor([101, 102, 103])"
            ]
          },
          "metadata": {},
          "execution_count": 40
        }
      ]
    },
    {
      "cell_type": "code",
      "source": [
        "#Multiply tensor by 10\n",
        "tensor*10"
      ],
      "metadata": {
        "colab": {
          "base_uri": "https://localhost:8080/"
        },
        "id": "y_4Zv-C7bPI2",
        "outputId": "9bdaa41b-77ce-4b01-93ac-4ace35e1ff5e"
      },
      "execution_count": null,
      "outputs": [
        {
          "output_type": "execute_result",
          "data": {
            "text/plain": [
              "tensor([10, 20, 30])"
            ]
          },
          "metadata": {},
          "execution_count": 41
        }
      ]
    },
    {
      "cell_type": "code",
      "source": [
        "#Substract 10\n",
        "tensor-10"
      ],
      "metadata": {
        "colab": {
          "base_uri": "https://localhost:8080/"
        },
        "id": "9Chs4-WdbmOe",
        "outputId": "5670834c-375e-4240-fdf0-8cfde3d74eae"
      },
      "execution_count": null,
      "outputs": [
        {
          "output_type": "execute_result",
          "data": {
            "text/plain": [
              "tensor([-9, -8, -7])"
            ]
          },
          "metadata": {},
          "execution_count": 42
        }
      ]
    },
    {
      "cell_type": "code",
      "source": [
        "#Try out PyTorch in-built functions\n",
        "torch.mul(tensor,10)"
      ],
      "metadata": {
        "colab": {
          "base_uri": "https://localhost:8080/"
        },
        "id": "Qp22sqSzcDmJ",
        "outputId": "812e1e73-d5f5-4410-bade-4fd75185e78e"
      },
      "execution_count": null,
      "outputs": [
        {
          "output_type": "execute_result",
          "data": {
            "text/plain": [
              "tensor([10, 20, 30])"
            ]
          },
          "metadata": {},
          "execution_count": 43
        }
      ]
    },
    {
      "cell_type": "code",
      "source": [
        "torch.add(tensor,10)"
      ],
      "metadata": {
        "colab": {
          "base_uri": "https://localhost:8080/"
        },
        "id": "Gboa76tGcvIa",
        "outputId": "676c0a07-9054-4068-cac6-1bef3ae9e11c"
      },
      "execution_count": null,
      "outputs": [
        {
          "output_type": "execute_result",
          "data": {
            "text/plain": [
              "tensor([11, 12, 13])"
            ]
          },
          "metadata": {},
          "execution_count": 44
        }
      ]
    },
    {
      "cell_type": "markdown",
      "source": [
        "### Matrix multiplication\n",
        "\n",
        "Two main ways of performing multiplication in neural network and deep learning\n",
        "\n",
        "1. Element-wise multiplication (scalar multiplication)\n",
        "2. Matrix multiplication (dot product)\n",
        "\n",
        "There are two main rules that performing matrix multiplication needs to satisfy:\n",
        "1. The **inner dimensions** must match:\n",
        "* `(3,2) @ (3,2)` won't work\n",
        "* `(2,3) @ (3,2)` will work\n",
        "* `(3,2) @ (2,3)` will work\n",
        "2. The resulting matrix has the shape of the **outer dimensions**:\n",
        "1rows->2columns"
      ],
      "metadata": {
        "id": "FAm0LF08c9_h"
      }
    },
    {
      "cell_type": "code",
      "source": [
        "torch.matmul(torch.rand(2,3), torch.rand(3,4))"
      ],
      "metadata": {
        "colab": {
          "base_uri": "https://localhost:8080/"
        },
        "id": "FI31ei1li0f3",
        "outputId": "e9aeb8dd-a09d-4229-94dd-758c2f882dae"
      },
      "execution_count": null,
      "outputs": [
        {
          "output_type": "execute_result",
          "data": {
            "text/plain": [
              "tensor([[1.1396, 0.6853, 0.7934, 0.8170],\n",
              "        [1.2082, 0.7385, 0.6347, 1.0769]])"
            ]
          },
          "metadata": {},
          "execution_count": 45
        }
      ]
    },
    {
      "cell_type": "code",
      "source": [
        "#Element wise multiplication\n",
        "print(tensor, '*', tensor)\n",
        "print(f\"Equals: {tensor * tensor}\")"
      ],
      "metadata": {
        "colab": {
          "base_uri": "https://localhost:8080/"
        },
        "id": "CjTU5DLyfPm9",
        "outputId": "e5d84ac9-1b09-40bd-fdc5-bec4916c9b81"
      },
      "execution_count": null,
      "outputs": [
        {
          "output_type": "stream",
          "name": "stdout",
          "text": [
            "tensor([1, 2, 3]) * tensor([1, 2, 3])\n",
            "Equals: tensor([1, 4, 9])\n"
          ]
        }
      ]
    },
    {
      "cell_type": "code",
      "source": [
        "#Matrix multiplication\n",
        "torch.matmul(tensor, tensor)"
      ],
      "metadata": {
        "colab": {
          "base_uri": "https://localhost:8080/"
        },
        "id": "cC7zER7efngJ",
        "outputId": "08d27a11-5c0c-4cc4-8d7d-b0387e2af798"
      },
      "execution_count": null,
      "outputs": [
        {
          "output_type": "execute_result",
          "data": {
            "text/plain": [
              "tensor(14)"
            ]
          },
          "metadata": {},
          "execution_count": 47
        }
      ]
    },
    {
      "cell_type": "code",
      "source": [
        "#Matrix multiplication by hand\n",
        "1*1+2*2+3*3"
      ],
      "metadata": {
        "colab": {
          "base_uri": "https://localhost:8080/"
        },
        "id": "Yr5HpOC2f8XM",
        "outputId": "5752f954-0575-49a0-8e37-f8768c6e1323"
      },
      "execution_count": null,
      "outputs": [
        {
          "output_type": "execute_result",
          "data": {
            "text/plain": [
              "14"
            ]
          },
          "metadata": {},
          "execution_count": 48
        }
      ]
    },
    {
      "cell_type": "code",
      "source": [
        "%%time\n",
        "value=0\n",
        "for i in range(len(tensor)):\n",
        "  value+=tensor[i]*tensor[i]\n",
        "print(value)"
      ],
      "metadata": {
        "colab": {
          "base_uri": "https://localhost:8080/"
        },
        "id": "ZsbnU2Z0gh6C",
        "outputId": "bcdc0dd5-06bf-43b9-80ba-1f5260500087"
      },
      "execution_count": null,
      "outputs": [
        {
          "output_type": "stream",
          "name": "stdout",
          "text": [
            "tensor(14)\n",
            "CPU times: user 448 µs, sys: 0 ns, total: 448 µs\n",
            "Wall time: 457 µs\n"
          ]
        }
      ]
    },
    {
      "cell_type": "code",
      "source": [
        "%%time\n",
        "torch.matmul(tensor,tensor)"
      ],
      "metadata": {
        "colab": {
          "base_uri": "https://localhost:8080/"
        },
        "id": "djBnkLlOgkNz",
        "outputId": "964a2b13-bc24-4d3e-dcd3-56427bffd6ce"
      },
      "execution_count": null,
      "outputs": [
        {
          "output_type": "stream",
          "name": "stdout",
          "text": [
            "CPU times: user 0 ns, sys: 37 µs, total: 37 µs\n",
            "Wall time: 40.3 µs\n"
          ]
        },
        {
          "output_type": "execute_result",
          "data": {
            "text/plain": [
              "tensor(14)"
            ]
          },
          "metadata": {},
          "execution_count": 50
        }
      ]
    },
    {
      "cell_type": "markdown",
      "source": [
        "### One of the most common errors in deep learning: shape errors\n",
        "\n"
      ],
      "metadata": {
        "id": "rBWmd9J1g_e9"
      }
    },
    {
      "cell_type": "code",
      "source": [
        "#shapes for matrix multiplication\n",
        "tensor_A = torch.tensor([[1,2],\n",
        "                       [3, 4],\n",
        "                       [5,6]])\n",
        "tensor_B= torch.tensor([[7,10],\n",
        "                       [8, 11],\n",
        "                       [9,12]])\n",
        "torch.mm(tensor_A, tensor_B) # torch.mm is the same as torch.matmul (it's an alias for writing less code)"
      ],
      "metadata": {
        "colab": {
          "base_uri": "https://localhost:8080/",
          "height": 236
        },
        "id": "Q3jMgwhClhD4",
        "outputId": "63452b69-f0ff-4faf-a541-3ff76da74510"
      },
      "execution_count": null,
      "outputs": [
        {
          "output_type": "error",
          "ename": "RuntimeError",
          "evalue": "ignored",
          "traceback": [
            "\u001b[0;31m---------------------------------------------------------------------------\u001b[0m",
            "\u001b[0;31mRuntimeError\u001b[0m                              Traceback (most recent call last)",
            "\u001b[0;32m<ipython-input-52-dc05f6c6e4b2>\u001b[0m in \u001b[0;36m<cell line: 8>\u001b[0;34m()\u001b[0m\n\u001b[1;32m      6\u001b[0m                        \u001b[0;34m[\u001b[0m\u001b[0;36m8\u001b[0m\u001b[0;34m,\u001b[0m \u001b[0;36m11\u001b[0m\u001b[0;34m]\u001b[0m\u001b[0;34m,\u001b[0m\u001b[0;34m\u001b[0m\u001b[0;34m\u001b[0m\u001b[0m\n\u001b[1;32m      7\u001b[0m                        [9,12]])\n\u001b[0;32m----> 8\u001b[0;31m \u001b[0mtorch\u001b[0m\u001b[0;34m.\u001b[0m\u001b[0mmm\u001b[0m\u001b[0;34m(\u001b[0m\u001b[0mtensor_A\u001b[0m\u001b[0;34m,\u001b[0m \u001b[0mtensor_B\u001b[0m\u001b[0;34m)\u001b[0m \u001b[0;31m# torch.mm is the same as torch.matmul (it's an alias for writing less code)\u001b[0m\u001b[0;34m\u001b[0m\u001b[0;34m\u001b[0m\u001b[0m\n\u001b[0m",
            "\u001b[0;31mRuntimeError\u001b[0m: mat1 and mat2 shapes cannot be multiplied (3x2 and 3x2)"
          ]
        }
      ]
    },
    {
      "cell_type": "markdown",
      "source": [
        "To fix our tensor shape issues, we can manipulate the shape of one of our tensors using a **transpose**\n",
        "\n",
        "A **transpose** switches the axes or dimensions of a given tensor"
      ],
      "metadata": {
        "id": "C7DNeRzWlxXe"
      }
    },
    {
      "cell_type": "code",
      "source": [
        "tensor_B.T, tensor_B.T.shape"
      ],
      "metadata": {
        "colab": {
          "base_uri": "https://localhost:8080/"
        },
        "id": "N82fJhInnaaJ",
        "outputId": "136ac6ae-0d1a-4ea5-ccd4-cfafbca8fdb2"
      },
      "execution_count": null,
      "outputs": [
        {
          "output_type": "execute_result",
          "data": {
            "text/plain": [
              "(tensor([[ 7,  8,  9],\n",
              "         [10, 11, 12]]),\n",
              " torch.Size([2, 3]))"
            ]
          },
          "metadata": {},
          "execution_count": 53
        }
      ]
    },
    {
      "cell_type": "code",
      "source": [
        "tensor_B, tensor_B.shape"
      ],
      "metadata": {
        "colab": {
          "base_uri": "https://localhost:8080/"
        },
        "id": "qoBDugqtnjEC",
        "outputId": "c8ad5c93-6908-44e1-80e3-1a2020ed7edf"
      },
      "execution_count": null,
      "outputs": [
        {
          "output_type": "execute_result",
          "data": {
            "text/plain": [
              "(tensor([[ 7, 10],\n",
              "         [ 8, 11],\n",
              "         [ 9, 12]]),\n",
              " torch.Size([3, 2]))"
            ]
          },
          "metadata": {},
          "execution_count": 54
        }
      ]
    },
    {
      "cell_type": "code",
      "source": [
        "#The matrix multiplication operation works when tensor_b is transposed\n",
        "print(f\"Original shapes: tensor_A = {tensor_A.shape}, tensor_B = {tensor_B.shape}\")\n",
        "print(f\"New shape: tensor_A = {tensor_A.shape} (same shape as above), tensor_B.T = {tensor_B.T.shape}\")\n",
        "print(f\"Multiplying: {tensor_A.shape} @ {tensor_B.T.shape} <- inner dimensions must match\")\n",
        "print(\"Output:\\n\")\n",
        "output = torch.matmul(tensor_A,tensor_B.T)\n",
        "print(output)\n",
        "print(f\"\\nOutput shape: {output.shape}\")"
      ],
      "metadata": {
        "colab": {
          "base_uri": "https://localhost:8080/"
        },
        "id": "oXaLnWX8nk7K",
        "outputId": "b48e3a39-d19c-46b4-c9cb-8ee822f029a7"
      },
      "execution_count": null,
      "outputs": [
        {
          "output_type": "stream",
          "name": "stdout",
          "text": [
            "Original shapes: tensor_A = torch.Size([3, 2]), tensor_B = torch.Size([3, 2])\n",
            "New shape: tensor_A = torch.Size([3, 2]) (same shape as above), tensor_B.T = torch.Size([2, 3])\n",
            "Multiplying: torch.Size([3, 2]) @ torch.Size([2, 3]) <- inner dimensions must match\n",
            "Output:\n",
            "\n",
            "tensor([[ 27,  30,  33],\n",
            "        [ 61,  68,  75],\n",
            "        [ 95, 106, 117]])\n",
            "\n",
            "Output shape: torch.Size([3, 3])\n"
          ]
        }
      ]
    },
    {
      "cell_type": "code",
      "source": [
        "print(f\"Original shapes: tensor_A = {tensor_A.shape}, tensor_B = {tensor_B.shape}\")\n",
        "print(f\"New shape: tensor_A.T = {tensor_A.T.shape}, tensor_B = {tensor_B.shape} (same shape as above)\")\n",
        "print(f\"Multiplying: {tensor_A.T.shape} @ {tensor_B.shape} <- inner dimensions must match\")\n",
        "print(\"Output:\\n\")\n",
        "output = torch.mm(tensor_A.T, tensor_B)\n",
        "print(output)\n",
        "print(f\"\\nOutput shape: {output.shape}\")"
      ],
      "metadata": {
        "colab": {
          "base_uri": "https://localhost:8080/"
        },
        "id": "uhDKKd-GoToF",
        "outputId": "798239e3-aebc-462f-b49e-57589013da28"
      },
      "execution_count": null,
      "outputs": [
        {
          "output_type": "stream",
          "name": "stdout",
          "text": [
            "Original shapes: tensor_A = torch.Size([3, 2]), tensor_B = torch.Size([3, 2])\n",
            "New shape: tensor_A.T = torch.Size([2, 3]), tensor_B = torch.Size([3, 2]) (same shape as above)\n",
            "Multiplying: torch.Size([2, 3]) @ torch.Size([3, 2]) <- inner dimensions must match\n",
            "Output:\n",
            "\n",
            "tensor([[ 76, 103],\n",
            "        [100, 136]])\n",
            "\n",
            "Output shape: torch.Size([2, 2])\n"
          ]
        }
      ]
    },
    {
      "cell_type": "markdown",
      "source": [
        "### Finding the min, max, mean, sum, etc (tensor aggregation)"
      ],
      "metadata": {
        "id": "RdxlHKtUqybm"
      }
    },
    {
      "cell_type": "code",
      "source": [
        "#Create a tensor\n",
        "x = torch.arange(0,100,10)\n",
        "x, x.dtype"
      ],
      "metadata": {
        "colab": {
          "base_uri": "https://localhost:8080/"
        },
        "id": "ycn0G-94rOiS",
        "outputId": "2a4e1caa-b50d-4df6-c036-b75769f75f99"
      },
      "execution_count": null,
      "outputs": [
        {
          "output_type": "execute_result",
          "data": {
            "text/plain": [
              "(tensor([ 0, 10, 20, 30, 40, 50, 60, 70, 80, 90]), torch.int64)"
            ]
          },
          "metadata": {},
          "execution_count": 57
        }
      ]
    },
    {
      "cell_type": "code",
      "source": [
        "#Find the min\n",
        "torch.min(x),x.min()"
      ],
      "metadata": {
        "colab": {
          "base_uri": "https://localhost:8080/"
        },
        "id": "J8clCMv2rZBV",
        "outputId": "bfba29f3-4131-4209-8317-41b5ef1d3e48"
      },
      "execution_count": null,
      "outputs": [
        {
          "output_type": "execute_result",
          "data": {
            "text/plain": [
              "(tensor(0), tensor(0))"
            ]
          },
          "metadata": {},
          "execution_count": 58
        }
      ]
    },
    {
      "cell_type": "code",
      "source": [
        "torch.max(x), x.max()"
      ],
      "metadata": {
        "colab": {
          "base_uri": "https://localhost:8080/"
        },
        "id": "KyZOKnsfrd0P",
        "outputId": "8e340890-845f-4620-d876-9462cd21bd31"
      },
      "execution_count": null,
      "outputs": [
        {
          "output_type": "execute_result",
          "data": {
            "text/plain": [
              "(tensor(90), tensor(90))"
            ]
          },
          "metadata": {},
          "execution_count": 59
        }
      ]
    },
    {
      "cell_type": "code",
      "source": [
        "#Find the mean, requires a tensor of torch.float32\n",
        "torch.mean(x.type(torch.float32)), x.type(torch.float32).mean() #should be float, not a long"
      ],
      "metadata": {
        "colab": {
          "base_uri": "https://localhost:8080/"
        },
        "id": "3Oa5zH1GsEMB",
        "outputId": "cb252052-0df6-4c3c-930a-6fb297724c97"
      },
      "execution_count": null,
      "outputs": [
        {
          "output_type": "execute_result",
          "data": {
            "text/plain": [
              "(tensor(45.), tensor(45.))"
            ]
          },
          "metadata": {},
          "execution_count": 60
        }
      ]
    },
    {
      "cell_type": "code",
      "source": [
        "#Find the sum:\n",
        "torch.sum(x),x.sum()"
      ],
      "metadata": {
        "colab": {
          "base_uri": "https://localhost:8080/"
        },
        "id": "T7SpmNfCsJhx",
        "outputId": "0f80d09b-003c-48c4-9994-11c4cb991efe"
      },
      "execution_count": null,
      "outputs": [
        {
          "output_type": "execute_result",
          "data": {
            "text/plain": [
              "(tensor(450), tensor(450))"
            ]
          },
          "metadata": {},
          "execution_count": 61
        }
      ]
    },
    {
      "cell_type": "markdown",
      "source": [
        "### Finding the positional min, max"
      ],
      "metadata": {
        "id": "KNjuG_YstJPF"
      }
    },
    {
      "cell_type": "code",
      "source": [
        "x"
      ],
      "metadata": {
        "colab": {
          "base_uri": "https://localhost:8080/"
        },
        "id": "11Yk4gNYtvjK",
        "outputId": "8fda1569-535b-471c-cb72-3e68741d316a"
      },
      "execution_count": null,
      "outputs": [
        {
          "output_type": "execute_result",
          "data": {
            "text/plain": [
              "tensor([ 0, 10, 20, 30, 40, 50, 60, 70, 80, 90])"
            ]
          },
          "metadata": {},
          "execution_count": 62
        }
      ]
    },
    {
      "cell_type": "code",
      "source": [
        "#Find the position in tensor that has a minimum value, returns index position of target tensor where minimum value accurs\n",
        "x.argmin()"
      ],
      "metadata": {
        "colab": {
          "base_uri": "https://localhost:8080/"
        },
        "id": "96Rpe_JntrQt",
        "outputId": "1fd56ab5-69f9-4070-cb09-bad6cd07e773"
      },
      "execution_count": null,
      "outputs": [
        {
          "output_type": "execute_result",
          "data": {
            "text/plain": [
              "tensor(0)"
            ]
          },
          "metadata": {},
          "execution_count": 63
        }
      ]
    },
    {
      "cell_type": "code",
      "source": [
        "x[0]"
      ],
      "metadata": {
        "colab": {
          "base_uri": "https://localhost:8080/"
        },
        "id": "kcJ4IvG8uS2v",
        "outputId": "dfba64f3-0c0b-4215-a10c-67032f03e0bd"
      },
      "execution_count": null,
      "outputs": [
        {
          "output_type": "execute_result",
          "data": {
            "text/plain": [
              "tensor(0)"
            ]
          },
          "metadata": {},
          "execution_count": 64
        }
      ]
    },
    {
      "cell_type": "code",
      "source": [
        "#Find the position in tensor which has a max value\n",
        "x.argmax()"
      ],
      "metadata": {
        "colab": {
          "base_uri": "https://localhost:8080/"
        },
        "id": "eTYS8M7Ntwy7",
        "outputId": "f332de3f-1002-4bd1-a78b-5db131a5d4db"
      },
      "execution_count": null,
      "outputs": [
        {
          "output_type": "execute_result",
          "data": {
            "text/plain": [
              "tensor(9)"
            ]
          },
          "metadata": {},
          "execution_count": 65
        }
      ]
    },
    {
      "cell_type": "code",
      "source": [
        "x[9]"
      ],
      "metadata": {
        "colab": {
          "base_uri": "https://localhost:8080/"
        },
        "id": "afDu94MkuNQ6",
        "outputId": "7fe8f892-f9a0-4410-f9f7-c46259d23476"
      },
      "execution_count": null,
      "outputs": [
        {
          "output_type": "execute_result",
          "data": {
            "text/plain": [
              "tensor(90)"
            ]
          },
          "metadata": {},
          "execution_count": 66
        }
      ]
    },
    {
      "cell_type": "markdown",
      "source": [
        "###Reshaping, stacking, squeezing and unsqueezing\n",
        "\n",
        "* Reshaping - reshapes an input tensor to a defined shape\n",
        "* View - return a view jf an input tensor of certain shape but keep the same memory as the original tensor\n",
        "* Stacking - combine multiple tensors on top of each other (vstack) or side by side (hstack)\n",
        "* Squeeze - removes all `1` dimmensions from a tensor\n",
        "* Unsqueeze - add a `1` dimension to a target tensor\n",
        "* Permute - return a view of the input with dimensions permuted (swapped) in a certain way"
      ],
      "metadata": {
        "id": "fZQIdPe0uRWw"
      }
    },
    {
      "cell_type": "code",
      "source": [
        "#Let's create a tensor\n",
        "x = torch.arange(1.,10.)\n",
        "x, x.shape"
      ],
      "metadata": {
        "colab": {
          "base_uri": "https://localhost:8080/"
        },
        "id": "MQSkDIXCB-SY",
        "outputId": "cf95f51c-ae5c-4191-edb7-41e0b2cb3238"
      },
      "execution_count": null,
      "outputs": [
        {
          "output_type": "execute_result",
          "data": {
            "text/plain": [
              "(tensor([1., 2., 3., 4., 5., 6., 7., 8., 9.]), torch.Size([9]))"
            ]
          },
          "metadata": {},
          "execution_count": 67
        }
      ]
    },
    {
      "cell_type": "code",
      "source": [
        "#Add an extra dimension\n",
        "x_reshaped = x.reshape(1,9)\n",
        "x_reshaped, x_reshaped.shape"
      ],
      "metadata": {
        "colab": {
          "base_uri": "https://localhost:8080/"
        },
        "id": "oSK_6AKfDvHy",
        "outputId": "c0e6ae51-9570-4f08-d14a-c7619cb6a914"
      },
      "execution_count": null,
      "outputs": [
        {
          "output_type": "execute_result",
          "data": {
            "text/plain": [
              "(tensor([[1., 2., 3., 4., 5., 6., 7., 8., 9.]]), torch.Size([1, 9]))"
            ]
          },
          "metadata": {},
          "execution_count": 68
        }
      ]
    },
    {
      "cell_type": "code",
      "source": [
        "# Change the view\n",
        "z = x.view(1,9)\n",
        "z, z.shape"
      ],
      "metadata": {
        "colab": {
          "base_uri": "https://localhost:8080/"
        },
        "id": "mOtZB9pLEFI6",
        "outputId": "f401e6e9-01a1-4901-b157-4de6b6cf9b85"
      },
      "execution_count": null,
      "outputs": [
        {
          "output_type": "execute_result",
          "data": {
            "text/plain": [
              "(tensor([[1., 2., 3., 4., 5., 6., 7., 8., 9.]]), torch.Size([1, 9]))"
            ]
          },
          "metadata": {},
          "execution_count": 69
        }
      ]
    },
    {
      "cell_type": "code",
      "source": [
        "# Changing z changes x (because a view of a tensor shares the same memory as the originak)\n",
        "z[:,0]=5\n",
        "z, x"
      ],
      "metadata": {
        "colab": {
          "base_uri": "https://localhost:8080/"
        },
        "id": "x_NySIdKFDzA",
        "outputId": "efa2d4b0-b84e-42cc-954c-2c9530f023fe"
      },
      "execution_count": null,
      "outputs": [
        {
          "output_type": "execute_result",
          "data": {
            "text/plain": [
              "(tensor([[5., 2., 3., 4., 5., 6., 7., 8., 9.]]),\n",
              " tensor([5., 2., 3., 4., 5., 6., 7., 8., 9.]))"
            ]
          },
          "metadata": {},
          "execution_count": 70
        }
      ]
    },
    {
      "cell_type": "code",
      "source": [
        "#Stack tensors on top of each other\n",
        "x_stacked = torch.hstack([x,x,x,x])\n",
        "x_stacked"
      ],
      "metadata": {
        "colab": {
          "base_uri": "https://localhost:8080/"
        },
        "id": "YFtKwigJFbTe",
        "outputId": "f0f95ff5-ebfd-4e6f-9a68-1777ef596faf"
      },
      "execution_count": null,
      "outputs": [
        {
          "output_type": "execute_result",
          "data": {
            "text/plain": [
              "tensor([5., 2., 3., 4., 5., 6., 7., 8., 9., 5., 2., 3., 4., 5., 6., 7., 8., 9.,\n",
              "        5., 2., 3., 4., 5., 6., 7., 8., 9., 5., 2., 3., 4., 5., 6., 7., 8., 9.])"
            ]
          },
          "metadata": {},
          "execution_count": 71
        }
      ]
    },
    {
      "cell_type": "code",
      "source": [
        "#torch.squeeze() - removes all single dimensions from a target tensor\n",
        "print(f\"Previous tensor: {x_reshaped}\")\n",
        "print(f\"Previous shape: {x_reshaped.shape}\")\n",
        "\n",
        "#Remove extra dimensions from x_reshaped\n",
        "x_squeezed = x_reshaped.squeeze()\n",
        "print(f\"\\nNew tensor: {x_squeezed}\")\n",
        "print(f\"New shape: {x_squeezed.shape}\")"
      ],
      "metadata": {
        "colab": {
          "base_uri": "https://localhost:8080/"
        },
        "id": "nDu5W8w_FmMX",
        "outputId": "cc3cd9de-c547-4055-b6a5-86e39e75aa06"
      },
      "execution_count": null,
      "outputs": [
        {
          "output_type": "stream",
          "name": "stdout",
          "text": [
            "Previous tensor: tensor([[5., 2., 3., 4., 5., 6., 7., 8., 9.]])\n",
            "Previous shape: torch.Size([1, 9])\n",
            "\n",
            "New tensor: tensor([5., 2., 3., 4., 5., 6., 7., 8., 9.])\n",
            "New shape: torch.Size([9])\n"
          ]
        }
      ]
    },
    {
      "cell_type": "code",
      "source": [
        "#torch.unsqueeze() - adds a single dimension to a target tensor at a specific dim (dimension)\n",
        "print(f\"Previous target: {x_squeezed}\")\n",
        "print(f\"Previous shape: {x_squeezed.shape}\")\n",
        "\n",
        "#Add an extra dimension with unsqueeze\n",
        "x_unsqueezed = x_squeezed.unsqueeze(dim=0)\n",
        "print(f\"\\nNew tensor: {x_unsqueezed}\")\n",
        "print(f\"New shape: {x_unsqueezed.shape}\")"
      ],
      "metadata": {
        "colab": {
          "base_uri": "https://localhost:8080/"
        },
        "id": "pdq6GMmAMFQB",
        "outputId": "19c2ce42-b9f1-446e-fece-b8bdec2d66fc"
      },
      "execution_count": null,
      "outputs": [
        {
          "output_type": "stream",
          "name": "stdout",
          "text": [
            "Previous target: tensor([5., 2., 3., 4., 5., 6., 7., 8., 9.])\n",
            "Previous shape: torch.Size([9])\n",
            "\n",
            "New tensor: tensor([[5., 2., 3., 4., 5., 6., 7., 8., 9.]])\n",
            "New shape: torch.Size([1, 9])\n"
          ]
        }
      ]
    },
    {
      "cell_type": "code",
      "source": [
        "#torch.permute() - rearranges dimensions of a target tensor in a specified order\n",
        "x_original = torch.rand(224,224,3) #[height, width, colour_channes]\n",
        "\n",
        "#Permute the originak tensor to rearrange the axis (or dim) order\n",
        "x_permuted = x_original.permute(2,0,1) #shifts axis 0->1, 1->2, 2->0\n",
        "\n",
        "print(f\"Old shape: {x_original.shape}\")\n",
        "print(f\"New shape: {x_permuted.shape}\") #\n"
      ],
      "metadata": {
        "colab": {
          "base_uri": "https://localhost:8080/"
        },
        "id": "8CoRx_fyNN-C",
        "outputId": "e85f47f0-027b-435c-8f3e-b9571af63757"
      },
      "execution_count": null,
      "outputs": [
        {
          "output_type": "stream",
          "name": "stdout",
          "text": [
            "Old shape: torch.Size([224, 224, 3])\n",
            "New shape: torch.Size([3, 224, 224])\n"
          ]
        }
      ]
    },
    {
      "cell_type": "code",
      "source": [
        "x_original[0,0,0] = 73212"
      ],
      "metadata": {
        "id": "1-xtYFn5NcTc"
      },
      "execution_count": null,
      "outputs": []
    },
    {
      "cell_type": "code",
      "source": [
        "x_permuted"
      ],
      "metadata": {
        "colab": {
          "base_uri": "https://localhost:8080/"
        },
        "id": "Gq0s6eKZPlkh",
        "outputId": "8afc7436-4d81-4c18-e7f7-f7727bfff4ac"
      },
      "execution_count": null,
      "outputs": [
        {
          "output_type": "execute_result",
          "data": {
            "text/plain": [
              "tensor([[[7.3212e+04, 9.5755e-01, 9.5219e-01,  ..., 1.3134e-01,\n",
              "          4.8456e-01, 9.8392e-01],\n",
              "         [6.4684e-01, 5.8055e-01, 4.1503e-02,  ..., 7.6111e-01,\n",
              "          4.7655e-01, 7.9119e-01],\n",
              "         [2.3842e-02, 8.4205e-01, 3.2151e-01,  ..., 7.2879e-01,\n",
              "          5.7773e-01, 4.9353e-01],\n",
              "         ...,\n",
              "         [5.8282e-01, 6.6587e-01, 9.4279e-01,  ..., 4.4984e-01,\n",
              "          8.9607e-01, 4.7936e-01],\n",
              "         [5.3750e-01, 4.5518e-01, 9.6555e-01,  ..., 2.2490e-01,\n",
              "          6.0065e-02, 3.6089e-01],\n",
              "         [4.4102e-01, 8.9062e-01, 2.7321e-01,  ..., 4.8258e-01,\n",
              "          8.1093e-02, 6.6162e-01]],\n",
              "\n",
              "        [[1.6810e-01, 2.5280e-02, 4.2445e-01,  ..., 7.6652e-01,\n",
              "          4.6933e-01, 1.4851e-01],\n",
              "         [5.9489e-01, 6.9737e-01, 4.7673e-01,  ..., 2.6261e-01,\n",
              "          7.0709e-01, 1.9952e-01],\n",
              "         [1.6368e-01, 3.7138e-01, 1.9207e-02,  ..., 9.4497e-01,\n",
              "          3.4449e-01, 3.7249e-01],\n",
              "         ...,\n",
              "         [1.8387e-01, 4.4699e-01, 9.9151e-01,  ..., 6.2387e-01,\n",
              "          4.5613e-01, 2.1435e-01],\n",
              "         [2.8146e-01, 6.4556e-01, 5.6932e-01,  ..., 4.4551e-01,\n",
              "          8.2028e-01, 8.1205e-01],\n",
              "         [1.2062e-02, 1.0231e-01, 6.1728e-01,  ..., 8.3111e-01,\n",
              "          1.3074e-03, 7.2528e-01]],\n",
              "\n",
              "        [[7.2116e-01, 4.4308e-01, 8.6258e-01,  ..., 6.3606e-02,\n",
              "          4.2978e-01, 4.1774e-01],\n",
              "         [4.3286e-01, 4.5779e-01, 2.6777e-01,  ..., 8.4821e-01,\n",
              "          5.7281e-02, 3.1423e-01],\n",
              "         [9.8058e-01, 8.0013e-01, 3.4770e-01,  ..., 4.2810e-01,\n",
              "          9.3173e-01, 3.1542e-01],\n",
              "         ...,\n",
              "         [2.8411e-01, 2.7548e-01, 9.9570e-01,  ..., 8.7614e-01,\n",
              "          2.3791e-01, 5.1032e-01],\n",
              "         [5.3054e-01, 1.9744e-01, 3.4089e-01,  ..., 2.9324e-01,\n",
              "          7.1894e-01, 3.3052e-02],\n",
              "         [1.7289e-01, 7.5590e-01, 9.6225e-01,  ..., 7.7117e-01,\n",
              "          4.6838e-01, 7.3075e-02]]])"
            ]
          },
          "metadata": {},
          "execution_count": 76
        }
      ]
    },
    {
      "cell_type": "markdown",
      "source": [
        "### Indexing (selecting data from tensors)\n",
        "Is similar to indexing with NumPy."
      ],
      "metadata": {
        "id": "vWG5crvDQiia"
      }
    },
    {
      "cell_type": "code",
      "source": [
        "x = torch.arange(1,10).reshape(1,3,3)\n",
        "x, x.shape"
      ],
      "metadata": {
        "colab": {
          "base_uri": "https://localhost:8080/"
        },
        "id": "-j-ALrWFK9wU",
        "outputId": "a23e7377-3a6f-4f50-f119-da659ad1075d"
      },
      "execution_count": null,
      "outputs": [
        {
          "output_type": "execute_result",
          "data": {
            "text/plain": [
              "(tensor([[[1, 2, 3],\n",
              "          [4, 5, 6],\n",
              "          [7, 8, 9]]]),\n",
              " torch.Size([1, 3, 3]))"
            ]
          },
          "metadata": {},
          "execution_count": 77
        }
      ]
    },
    {
      "cell_type": "code",
      "source": [
        "#Let's index on our new tensor\n",
        "x[0]"
      ],
      "metadata": {
        "colab": {
          "base_uri": "https://localhost:8080/"
        },
        "id": "6TzgHvP4LUyG",
        "outputId": "9c057033-3f80-477c-eed4-2590dccbcff9"
      },
      "execution_count": null,
      "outputs": [
        {
          "output_type": "execute_result",
          "data": {
            "text/plain": [
              "tensor([[1, 2, 3],\n",
              "        [4, 5, 6],\n",
              "        [7, 8, 9]])"
            ]
          },
          "metadata": {},
          "execution_count": 78
        }
      ]
    },
    {
      "cell_type": "code",
      "source": [
        "#Let's index on the middle bracket\n",
        "x[0][0]"
      ],
      "metadata": {
        "colab": {
          "base_uri": "https://localhost:8080/"
        },
        "id": "0DFSLSvYSJc5",
        "outputId": "9331d000-aa35-439e-84f5-22d7bf11b4ee"
      },
      "execution_count": null,
      "outputs": [
        {
          "output_type": "execute_result",
          "data": {
            "text/plain": [
              "tensor([1, 2, 3])"
            ]
          },
          "metadata": {},
          "execution_count": 79
        }
      ]
    },
    {
      "cell_type": "code",
      "source": [
        "#Let's index on the most inner brackets\n",
        "x[0][2][2]"
      ],
      "metadata": {
        "colab": {
          "base_uri": "https://localhost:8080/"
        },
        "id": "hIouIQZPSQac",
        "outputId": "73e14e4b-3ced-476c-ef53-6128f72daeaa"
      },
      "execution_count": null,
      "outputs": [
        {
          "output_type": "execute_result",
          "data": {
            "text/plain": [
              "tensor(9)"
            ]
          },
          "metadata": {},
          "execution_count": 81
        }
      ]
    },
    {
      "cell_type": "code",
      "source": [
        "#You can also use \":\" to select \"all\" of a target dimension\n",
        "x[:,0]"
      ],
      "metadata": {
        "colab": {
          "base_uri": "https://localhost:8080/"
        },
        "id": "1dqMKn5FSaIc",
        "outputId": "92b687c8-8aeb-4612-ffb1-2829fadb2518"
      },
      "execution_count": null,
      "outputs": [
        {
          "output_type": "execute_result",
          "data": {
            "text/plain": [
              "tensor([[1, 2, 3]])"
            ]
          },
          "metadata": {},
          "execution_count": 83
        }
      ]
    },
    {
      "cell_type": "code",
      "source": [
        "# Get all values of 0th and 1st dimensions but only index 1 of 2nd dimension\n",
        "x[:,:,1]"
      ],
      "metadata": {
        "colab": {
          "base_uri": "https://localhost:8080/"
        },
        "id": "roJdiNStmHuz",
        "outputId": "e712c62d-2ce3-4755-b6d4-c150b8fdc8c5"
      },
      "execution_count": null,
      "outputs": [
        {
          "output_type": "execute_result",
          "data": {
            "text/plain": [
              "tensor([[2, 5, 8]])"
            ]
          },
          "metadata": {},
          "execution_count": 85
        }
      ]
    },
    {
      "cell_type": "code",
      "source": [
        "# Get all values of the 0 dimension but only the 1 index value of 1st and 2nd dim\n",
        "x[:,1,1]"
      ],
      "metadata": {
        "colab": {
          "base_uri": "https://localhost:8080/"
        },
        "id": "ppvQeh2-mdak",
        "outputId": "e2bcbd22-7e22-47b2-ed20-76a31bf249c9"
      },
      "execution_count": null,
      "outputs": [
        {
          "output_type": "execute_result",
          "data": {
            "text/plain": [
              "tensor([5])"
            ]
          },
          "metadata": {},
          "execution_count": 86
        }
      ]
    },
    {
      "cell_type": "code",
      "source": [
        "#Get index 0 of 0th and 1st dimension and all values of 2nd dimension\n",
        "x[0,0,:]"
      ],
      "metadata": {
        "colab": {
          "base_uri": "https://localhost:8080/"
        },
        "id": "3EPAH_3nnRH6",
        "outputId": "01b01c1e-cd66-43b7-b155-bca253715d75"
      },
      "execution_count": null,
      "outputs": [
        {
          "output_type": "execute_result",
          "data": {
            "text/plain": [
              "tensor([1, 2, 3])"
            ]
          },
          "metadata": {},
          "execution_count": 88
        }
      ]
    },
    {
      "cell_type": "code",
      "source": [
        "#Index on x to return 3, 6, 9\n",
        "x[0,:,2]"
      ],
      "metadata": {
        "colab": {
          "base_uri": "https://localhost:8080/"
        },
        "id": "CHjWndehnAo7",
        "outputId": "0cd6f973-41c6-4719-b19b-2e41cf289a95"
      },
      "execution_count": null,
      "outputs": [
        {
          "output_type": "execute_result",
          "data": {
            "text/plain": [
              "tensor([3, 6, 9])"
            ]
          },
          "metadata": {},
          "execution_count": 90
        }
      ]
    },
    {
      "cell_type": "markdown",
      "source": [
        "##PyTorch tensors & NumPy\n",
        "\n",
        "NumPy is a popular scientific Python numerical computing library.\n",
        "\n",
        "PyTorch has functionality to interact with it\n",
        "\n",
        "* Data in NumPy, want in PyTorch tensor -> `torch.from_numpy(ndarray)`\n",
        "* PyTorch tensot -> NumPy -> `torch.Tensor.numpy()`"
      ],
      "metadata": {
        "id": "tMq6dlXQnzSw"
      }
    },
    {
      "cell_type": "code",
      "source": [
        "from numpy.lib import arraysetops\n",
        "#NumPy array to tensor\n",
        "\n",
        "array = np.arange(1.0, 8.0)\n",
        "tensor = torch.from_numpy(array)#.type(torch.float32)\n",
        "array, tensor"
      ],
      "metadata": {
        "colab": {
          "base_uri": "https://localhost:8080/"
        },
        "id": "QYcvIBXRpyXj",
        "outputId": "bb96c282-b16e-4e6d-f4ff-7a42a3435423"
      },
      "execution_count": null,
      "outputs": [
        {
          "output_type": "execute_result",
          "data": {
            "text/plain": [
              "(array([1., 2., 3., 4., 5., 6., 7.]),\n",
              " tensor([1., 2., 3., 4., 5., 6., 7.], dtype=torch.float64))"
            ]
          },
          "metadata": {},
          "execution_count": 101
        }
      ]
    },
    {
      "cell_type": "code",
      "source": [
        "#If i'm going from numpy to torch, datatype is float64, pytorch reflects numPy's default datatype!!!\n",
        "tensor.dtype"
      ],
      "metadata": {
        "colab": {
          "base_uri": "https://localhost:8080/"
        },
        "id": "3GWSe8bjp4QU",
        "outputId": "7767bbc9-e3c6-4484-b2a8-57586851246d"
      },
      "execution_count": null,
      "outputs": [
        {
          "output_type": "execute_result",
          "data": {
            "text/plain": [
              "torch.float64"
            ]
          },
          "metadata": {},
          "execution_count": 102
        }
      ]
    },
    {
      "cell_type": "code",
      "source": [
        "#Change the value of array, what will this do to `tensor`?\n",
        "array = array + 1\n",
        "array, tensor"
      ],
      "metadata": {
        "colab": {
          "base_uri": "https://localhost:8080/"
        },
        "id": "Wg1KEr4Pqwtg",
        "outputId": "d8e440b0-370c-47cb-88c8-254bd51cc1b0"
      },
      "execution_count": null,
      "outputs": [
        {
          "output_type": "execute_result",
          "data": {
            "text/plain": [
              "(array([2., 3., 4., 5., 6., 7., 8.]),\n",
              " tensor([1., 2., 3., 4., 5., 6., 7.], dtype=torch.float64))"
            ]
          },
          "metadata": {},
          "execution_count": 94
        }
      ]
    },
    {
      "cell_type": "code",
      "source": [
        "#Tensor to NumPy array\n",
        "tensor = torch.ones(7)\n",
        "numpy_tensor = tensor.numpy()\n",
        "tensor, numpy_tensor"
      ],
      "metadata": {
        "colab": {
          "base_uri": "https://localhost:8080/"
        },
        "id": "IRSnBJ_yrAu5",
        "outputId": "9b3a7b55-01aa-43c8-c0d8-9863716e1c74"
      },
      "execution_count": null,
      "outputs": [
        {
          "output_type": "execute_result",
          "data": {
            "text/plain": [
              "(tensor([1., 1., 1., 1., 1., 1., 1.]),\n",
              " array([1., 1., 1., 1., 1., 1., 1.], dtype=float32))"
            ]
          },
          "metadata": {},
          "execution_count": 111
        }
      ]
    },
    {
      "cell_type": "code",
      "source": [
        "#Change the tensor, what happens to `numpy_tensor`?\n",
        "tensor=tensor+1\n",
        "tensor, numpy_tensor"
      ],
      "metadata": {
        "colab": {
          "base_uri": "https://localhost:8080/"
        },
        "id": "Uu6MfNc9siq_",
        "outputId": "d547452e-bbf2-45bd-f98c-700063503b40"
      },
      "execution_count": null,
      "outputs": [
        {
          "output_type": "execute_result",
          "data": {
            "text/plain": [
              "(tensor([2., 2., 2., 2., 2., 2., 2.]),\n",
              " array([1., 1., 1., 1., 1., 1., 1.], dtype=float32))"
            ]
          },
          "metadata": {},
          "execution_count": 113
        }
      ]
    },
    {
      "cell_type": "markdown",
      "source": [
        "###Reproducibility (trying to take random out of random)\n",
        "\n",
        "In short how a neural network learns:\n",
        "\n",
        "`start with random numbers -> tensor operations -> update random numbers to try to make them better representations of the data -> again -> again -> again\n",
        "\n",
        "To reduce the randomness in neural networks and PyTorch comes the concept of a **random seed**\n",
        "\n",
        "Essentially what the random seeds does is \"flavour\" the randomness"
      ],
      "metadata": {
        "id": "iM0WeKgfsnwz"
      }
    },
    {
      "cell_type": "code",
      "source": [
        "import torch\n",
        "torch.rand(3,3)\n",
        "#Create two random tensors\n",
        "random_tensor_A = torch.rand(3,4)\n",
        "random_tensor_B = torch.rand(3,4)\n",
        "\n",
        "print(random_tensor_A)\n",
        "print(random_tensor_B)\n",
        "print(random_tensor_A == random_tensor_B)"
      ],
      "metadata": {
        "colab": {
          "base_uri": "https://localhost:8080/"
        },
        "id": "zP3NGhn_UN_F",
        "outputId": "6976a9ba-14b5-4d29-ae53-fc51a298fbec"
      },
      "execution_count": null,
      "outputs": [
        {
          "output_type": "stream",
          "name": "stdout",
          "text": [
            "tensor([[0.6114, 0.2841, 0.6510, 0.7475],\n",
            "        [0.1301, 0.3453, 0.6816, 0.9203],\n",
            "        [0.4738, 0.5496, 0.9707, 0.5160]])\n",
            "tensor([[0.4002, 0.8781, 0.1296, 0.6716],\n",
            "        [0.1108, 0.1105, 0.7689, 0.8759],\n",
            "        [0.3856, 0.2608, 0.1098, 0.2161]])\n",
            "tensor([[False, False, False, False],\n",
            "        [False, False, False, False],\n",
            "        [False, False, False, False]])\n"
          ]
        }
      ]
    },
    {
      "cell_type": "code",
      "source": [
        "##Let's make some random but reproducible tensors\n",
        "# Set the random seed\n",
        "RANDOM_SEED = 42\n",
        "torch.manual_seed(RANDOM_SEED);\n",
        "random_tensor_C = torch.rand(3,4)\n",
        "#If you want to use manual seed, it works only once for each block of code\n",
        "RANDOM_SEED = 42\n",
        "torch.manual_seed(RANDOM_SEED);\n",
        "random_tensor_D = torch.rand(3,4)\n",
        "\n",
        "print(random_tensor_C)\n",
        "print(random_tensor_D)\n",
        "print(random_tensor_C == random_tensor_D)"
      ],
      "metadata": {
        "colab": {
          "base_uri": "https://localhost:8080/"
        },
        "id": "KbkPw8LgWthV",
        "outputId": "dabd137d-e802-45c2-9063-beb38f1a958f"
      },
      "execution_count": null,
      "outputs": [
        {
          "output_type": "stream",
          "name": "stdout",
          "text": [
            "tensor([[0.8823, 0.9150, 0.3829, 0.9593],\n",
            "        [0.3904, 0.6009, 0.2566, 0.7936],\n",
            "        [0.9408, 0.1332, 0.9346, 0.5936]])\n",
            "tensor([[0.8823, 0.9150, 0.3829, 0.9593],\n",
            "        [0.3904, 0.6009, 0.2566, 0.7936],\n",
            "        [0.9408, 0.1332, 0.9346, 0.5936]])\n",
            "tensor([[True, True, True, True],\n",
            "        [True, True, True, True],\n",
            "        [True, True, True, True]])\n"
          ]
        }
      ]
    },
    {
      "cell_type": "markdown",
      "source": [
        "##Running tensors and PyTorch objects on GPUs and making faster computations\n",
        "\n",
        "GPUs=faster computation on number -> CUDA + NVIDIA working behind the scenes to make all hunky dory.\n",
        "\n",
        "###1.Getting a GPU\n",
        "\n",
        "1. Using GoogleColab for a free GPU (options to upgrade as well)\n",
        "2. Use user's own GPU - takes a little bit of setup and requires the investmen of purchasing a GPU, there's lots of options\n",
        "3. Use cloud computing- GCP,AWS,Azure services allow torent computers on the cloud and access them\n",
        "\n",
        "For 2, 3 Pytorch + GPU drivers (CUDA) takes a little bit of setting up, to do this, refer to PyTorch setup documentation:https://pytorch.org/get-started/locally/"
      ],
      "metadata": {
        "id": "UL9WoifTW4ck"
      }
    },
    {
      "cell_type": "code",
      "source": [
        "!nvidia-smi"
      ],
      "metadata": {
        "colab": {
          "base_uri": "https://localhost:8080/"
        },
        "id": "Cu-8vvKJaSPG",
        "outputId": "00eb23b2-f690-4fde-a08a-0760e99a8d8f"
      },
      "execution_count": null,
      "outputs": [
        {
          "output_type": "stream",
          "name": "stdout",
          "text": [
            "Wed Aug  9 13:24:59 2023       \n",
            "+-----------------------------------------------------------------------------+\n",
            "| NVIDIA-SMI 525.105.17   Driver Version: 525.105.17   CUDA Version: 12.0     |\n",
            "|-------------------------------+----------------------+----------------------+\n",
            "| GPU  Name        Persistence-M| Bus-Id        Disp.A | Volatile Uncorr. ECC |\n",
            "| Fan  Temp  Perf  Pwr:Usage/Cap|         Memory-Usage | GPU-Util  Compute M. |\n",
            "|                               |                      |               MIG M. |\n",
            "|===============================+======================+======================|\n",
            "|   0  Tesla T4            Off  | 00000000:00:04.0 Off |                    0 |\n",
            "| N/A   59C    P8    11W /  70W |      0MiB / 15360MiB |      0%      Default |\n",
            "|                               |                      |                  N/A |\n",
            "+-------------------------------+----------------------+----------------------+\n",
            "                                                                               \n",
            "+-----------------------------------------------------------------------------+\n",
            "| Processes:                                                                  |\n",
            "|  GPU   GI   CI        PID   Type   Process name                  GPU Memory |\n",
            "|        ID   ID                                                   Usage      |\n",
            "|=============================================================================|\n",
            "|  No running processes found                                                 |\n",
            "+-----------------------------------------------------------------------------+\n"
          ]
        }
      ]
    },
    {
      "cell_type": "markdown",
      "source": [
        "###2. Check for GPU access with PyTorch"
      ],
      "metadata": {
        "id": "eEb3HP9PeND5"
      }
    },
    {
      "cell_type": "code",
      "source": [
        "#Check for GPU access with PyTorch\n",
        "\n",
        "import torch\n",
        "\n",
        "torch.cuda.is_available()\n"
      ],
      "metadata": {
        "id": "xuq_N834e42U",
        "colab": {
          "base_uri": "https://localhost:8080/"
        },
        "outputId": "9f2e0756-b9c5-42aa-8887-915b8b944daa"
      },
      "execution_count": null,
      "outputs": [
        {
          "output_type": "execute_result",
          "data": {
            "text/plain": [
              "True"
            ]
          },
          "metadata": {},
          "execution_count": 2
        }
      ]
    },
    {
      "cell_type": "code",
      "source": [
        "#Setup device agnostic code\n",
        "device = \"cuda\" if torch.cuda.is_available() else \"cpu\""
      ],
      "metadata": {
        "id": "KduISffIfKbC"
      },
      "execution_count": null,
      "outputs": []
    },
    {
      "cell_type": "code",
      "source": [
        "#Count number of devices\n",
        "print(torch.cuda.device_count());"
      ],
      "metadata": {
        "colab": {
          "base_uri": "https://localhost:8080/"
        },
        "id": "QNHFXts3gH7v",
        "outputId": "47105cce-0313-4b97-ee28-5caf040f2b1d"
      },
      "execution_count": null,
      "outputs": [
        {
          "output_type": "stream",
          "name": "stdout",
          "text": [
            "1\n"
          ]
        }
      ]
    },
    {
      "cell_type": "markdown",
      "source": [
        "## 3. Putting tensors (and models) on the GPU\n",
        "\n",
        "The reason we want our tensors/models on the GPU is because using a GPU makes faster computations."
      ],
      "metadata": {
        "id": "aHeSb_zHgcS6"
      }
    },
    {
      "cell_type": "code",
      "source": [
        "# Creating a tensor (default on the CPU)\n",
        "tensor = torch.tensor([1, 2, 3])\n",
        "\n",
        "#Tensor not on GPU\n",
        "print(tensor, tensor.device)"
      ],
      "metadata": {
        "colab": {
          "base_uri": "https://localhost:8080/"
        },
        "id": "LarGeRe_hnuw",
        "outputId": "4e25ba76-bd76-446d-c57a-b60a63b24bb2"
      },
      "execution_count": null,
      "outputs": [
        {
          "output_type": "stream",
          "name": "stdout",
          "text": [
            "tensor([1, 2, 3]) cpu\n"
          ]
        }
      ]
    },
    {
      "cell_type": "code",
      "source": [
        "#Move tensor `to` GPU (if available)\n",
        "\n",
        "tensor_on_gpu = tensor.to(device)\n",
        "tensor_on_gpu"
      ],
      "metadata": {
        "colab": {
          "base_uri": "https://localhost:8080/"
        },
        "id": "HaKyw-dEiESf",
        "outputId": "9af603e8-af71-40c8-9c65-66530895dc0f"
      },
      "execution_count": null,
      "outputs": [
        {
          "output_type": "execute_result",
          "data": {
            "text/plain": [
              "tensor([1, 2, 3], device='cuda:0')"
            ]
          },
          "metadata": {},
          "execution_count": 12
        }
      ]
    },
    {
      "cell_type": "markdown",
      "source": [
        "### 4. Moving tensors back to the CPU"
      ],
      "metadata": {
        "id": "uIgWgNxeindj"
      }
    },
    {
      "cell_type": "code",
      "source": [
        "#If tensor is on GPU, can't ransform it to NumPy\n",
        "tensor_on_gpu.numpy()"
      ],
      "metadata": {
        "colab": {
          "base_uri": "https://localhost:8080/",
          "height": 218
        },
        "id": "YX-dy_7qjHPK",
        "outputId": "666d80c8-2c79-447c-e4ea-3f50160997af"
      },
      "execution_count": null,
      "outputs": [
        {
          "output_type": "error",
          "ename": "TypeError",
          "evalue": "ignored",
          "traceback": [
            "\u001b[0;31m---------------------------------------------------------------------------\u001b[0m",
            "\u001b[0;31mTypeError\u001b[0m                                 Traceback (most recent call last)",
            "\u001b[0;32m<ipython-input-13-a172fdae6e17>\u001b[0m in \u001b[0;36m<cell line: 2>\u001b[0;34m()\u001b[0m\n\u001b[1;32m      1\u001b[0m \u001b[0;31m#If tensor is on GPU, can't ransform it to NumPy\u001b[0m\u001b[0;34m\u001b[0m\u001b[0;34m\u001b[0m\u001b[0m\n\u001b[0;32m----> 2\u001b[0;31m \u001b[0mtensor_on_gpu\u001b[0m\u001b[0;34m.\u001b[0m\u001b[0mnumpy\u001b[0m\u001b[0;34m(\u001b[0m\u001b[0;34m)\u001b[0m\u001b[0;34m\u001b[0m\u001b[0;34m\u001b[0m\u001b[0m\n\u001b[0m",
            "\u001b[0;31mTypeError\u001b[0m: can't convert cuda:0 device type tensor to numpy. Use Tensor.cpu() to copy the tensor to host memory first."
          ]
        }
      ]
    },
    {
      "cell_type": "code",
      "source": [
        "# To fix the GPU tensor with NumPy issue, we can first set it to the CPU\n",
        "tensor_back_on_cpu = tensor_on_gpu.cpu().numpy()\n",
        "tensor_back_on_cpu\n"
      ],
      "metadata": {
        "colab": {
          "base_uri": "https://localhost:8080/"
        },
        "id": "TAizs4R_jS9K",
        "outputId": "8be7540a-4637-4275-e038-374157e6df56"
      },
      "execution_count": null,
      "outputs": [
        {
          "output_type": "execute_result",
          "data": {
            "text/plain": [
              "array([1, 2, 3])"
            ]
          },
          "metadata": {},
          "execution_count": 15
        }
      ]
    },
    {
      "cell_type": "code",
      "source": [
        "tensor_on_gpu"
      ],
      "metadata": {
        "colab": {
          "base_uri": "https://localhost:8080/"
        },
        "id": "4dIccUlzjrcA",
        "outputId": "c261e2aa-411a-4d92-8883-91c8be48088b"
      },
      "execution_count": null,
      "outputs": [
        {
          "output_type": "execute_result",
          "data": {
            "text/plain": [
              "tensor([1, 2, 3], device='cuda:0')"
            ]
          },
          "metadata": {},
          "execution_count": 16
        }
      ]
    },
    {
      "cell_type": "markdown",
      "source": [
        "##Exercises & Extra-curriculum"
      ],
      "metadata": {
        "id": "WleO27RzkDIS"
      }
    },
    {
      "cell_type": "code",
      "source": [
        "See https://www.learnpytorch.io/00_pytorch_fundamentals/#exercises"
      ],
      "metadata": {
        "id": "muftU7gJzfqw"
      },
      "execution_count": null,
      "outputs": []
    }
  ]
}